{
  "metadata": {
    "kernelspec": {
      "language": "python",
      "display_name": "Python 3",
      "name": "python3"
    },
    "language_info": {
      "name": "python",
      "version": "3.7.12",
      "mimetype": "text/x-python",
      "codemirror_mode": {
        "name": "ipython",
        "version": 3
      },
      "pygments_lexer": "ipython3",
      "nbconvert_exporter": "python",
      "file_extension": ".py"
    },
    "colab": {
      "provenance": [],
      "include_colab_link": true
    }
  },
  "nbformat_minor": 0,
  "nbformat": 4,
  "cells": [
    {
      "cell_type": "markdown",
      "metadata": {
        "id": "view-in-github",
        "colab_type": "text"
      },
      "source": [
        "<a href=\"https://colab.research.google.com/github/Samxiar/ML/blob/main/k_fold_cross_validation.ipynb\" target=\"_parent\"><img src=\"https://colab.research.google.com/assets/colab-badge.svg\" alt=\"Open In Colab\"/></a>"
      ]
    },
    {
      "cell_type": "code",
      "source": [
        "# This Python 3 environment comes with many helpful analytics libraries installed\n",
        "# It is defined by the kaggle/python Docker image: https://github.com/kaggle/docker-python\n",
        "# For example, here's several helpful packages to load\n",
        "\n",
        "import numpy as np # linear algebra\n",
        "import pandas as pd # data processing, CSV file I/O (e.g. pd.read_csv)\n",
        "\n",
        "# Input data files are available in the read-only \"../input/\" directory\n",
        "# For example, running this (by clicking run or pressing Shift+Enter) will list all files under the input directory\n",
        "\n",
        "import os\n",
        "for dirname, _, filenames in os.walk('/kaggle/input'):\n",
        "    for filename in filenames:\n",
        "        print(os.path.join(dirname, filename))\n",
        "        \n",
        "import warnings\n",
        "warnings.filterwarnings('ignore')\n",
        "\n",
        "# You can write up to 20GB to the current directory (/kaggle/working/) that gets preserved as output when you create a version using \"Save & Run All\" \n",
        "# You can also write temporary files to /kaggle/temp/, but they won't be saved outside of the current session"
      ],
      "metadata": {
        "_uuid": "8f2839f25d086af736a60e9eeb907d3b93b6e0e5",
        "_cell_guid": "b1076dfc-b9ad-4769-8c92-a6c4dae69d19",
        "execution": {
          "iopub.status.busy": "2022-12-17T13:34:45.603447Z",
          "iopub.execute_input": "2022-12-17T13:34:45.603896Z",
          "iopub.status.idle": "2022-12-17T13:34:45.612091Z",
          "shell.execute_reply.started": "2022-12-17T13:34:45.603863Z",
          "shell.execute_reply": "2022-12-17T13:34:45.609920Z"
        },
        "trusted": true,
        "id": "gh3_PgZfbO22"
      },
      "execution_count": 1,
      "outputs": []
    },
    {
      "cell_type": "code",
      "source": [
        "from sklearn.linear_model import LogisticRegression\n",
        "from sklearn.svm import SVC\n",
        "from sklearn.ensemble import RandomForestClassifier\n",
        "from sklearn.datasets import load_digits\n",
        "digits=load_digits()"
      ],
      "metadata": {
        "execution": {
          "iopub.status.busy": "2022-12-17T13:29:25.955819Z",
          "iopub.execute_input": "2022-12-17T13:29:25.956298Z",
          "iopub.status.idle": "2022-12-17T13:29:26.068953Z",
          "shell.execute_reply.started": "2022-12-17T13:29:25.956264Z",
          "shell.execute_reply": "2022-12-17T13:29:26.067234Z"
        },
        "trusted": true,
        "id": "uYTyroaibO24"
      },
      "execution_count": 2,
      "outputs": []
    },
    {
      "cell_type": "code",
      "source": [
        "from sklearn.model_selection import train_test_split\n",
        "X_train,X_test,y_train,y_test = train_test_split(digits.data,digits.target,test_size=0.3)"
      ],
      "metadata": {
        "execution": {
          "iopub.status.busy": "2022-12-17T13:40:46.844812Z",
          "iopub.execute_input": "2022-12-17T13:40:46.845199Z",
          "iopub.status.idle": "2022-12-17T13:40:46.853187Z",
          "shell.execute_reply.started": "2022-12-17T13:40:46.845167Z",
          "shell.execute_reply": "2022-12-17T13:40:46.851600Z"
        },
        "trusted": true,
        "id": "lNKhaeB5bO25"
      },
      "execution_count": 3,
      "outputs": []
    },
    {
      "cell_type": "code",
      "source": [
        "lr = LogisticRegression()\n",
        "lr.fit(X_train,y_train)\n",
        "lr.score(X_test,y_test)"
      ],
      "metadata": {
        "execution": {
          "iopub.status.busy": "2022-12-17T13:40:48.964378Z",
          "iopub.execute_input": "2022-12-17T13:40:48.964842Z",
          "iopub.status.idle": "2022-12-17T13:40:49.704328Z",
          "shell.execute_reply.started": "2022-12-17T13:40:48.964808Z",
          "shell.execute_reply": "2022-12-17T13:40:49.701593Z"
        },
        "trusted": true,
        "colab": {
          "base_uri": "https://localhost:8080/"
        },
        "id": "ta3OhgKfbO26",
        "outputId": "ee72fcca-00c9-4ff0-ecbe-e40eb03f3788"
      },
      "execution_count": 4,
      "outputs": [
        {
          "output_type": "execute_result",
          "data": {
            "text/plain": [
              "0.9685185185185186"
            ]
          },
          "metadata": {},
          "execution_count": 4
        }
      ]
    },
    {
      "cell_type": "code",
      "source": [
        "svm = SVC()\n",
        "svm.fit(X_train,y_train)\n",
        "svm.score(X_test,y_test)"
      ],
      "metadata": {
        "execution": {
          "iopub.status.busy": "2022-12-17T13:40:54.298302Z",
          "iopub.execute_input": "2022-12-17T13:40:54.298765Z",
          "iopub.status.idle": "2022-12-17T13:40:54.400929Z",
          "shell.execute_reply.started": "2022-12-17T13:40:54.298707Z",
          "shell.execute_reply": "2022-12-17T13:40:54.399612Z"
        },
        "trusted": true,
        "colab": {
          "base_uri": "https://localhost:8080/"
        },
        "id": "VS_fbpL4bO27",
        "outputId": "0e747ddc-5dab-4122-88e5-b64ca5e43b59"
      },
      "execution_count": 5,
      "outputs": [
        {
          "output_type": "execute_result",
          "data": {
            "text/plain": [
              "0.9833333333333333"
            ]
          },
          "metadata": {},
          "execution_count": 5
        }
      ]
    },
    {
      "cell_type": "code",
      "source": [
        "rf = RandomForestClassifier()\n",
        "rf.fit(X_train,y_train)\n",
        "rf.score(X_test,y_test)\n"
      ],
      "metadata": {
        "execution": {
          "iopub.status.busy": "2022-12-17T13:40:57.033045Z",
          "iopub.execute_input": "2022-12-17T13:40:57.033541Z",
          "iopub.status.idle": "2022-12-17T13:40:57.431586Z",
          "shell.execute_reply.started": "2022-12-17T13:40:57.033506Z",
          "shell.execute_reply": "2022-12-17T13:40:57.429588Z"
        },
        "trusted": true,
        "colab": {
          "base_uri": "https://localhost:8080/"
        },
        "id": "9epfGYFhbO27",
        "outputId": "f6fb7bea-eb92-4a6e-e0ec-569d37f27c7b"
      },
      "execution_count": 6,
      "outputs": [
        {
          "output_type": "execute_result",
          "data": {
            "text/plain": [
              "0.9703703703703703"
            ]
          },
          "metadata": {},
          "execution_count": 6
        }
      ]
    },
    {
      "cell_type": "code",
      "source": [
        "# K - Fold Implementation\n",
        "from sklearn.model_selection import KFold\n",
        "kf=KFold(n_splits = 3)\n",
        "kf"
      ],
      "metadata": {
        "execution": {
          "iopub.status.busy": "2022-12-17T13:48:18.633742Z",
          "iopub.execute_input": "2022-12-17T13:48:18.634391Z",
          "iopub.status.idle": "2022-12-17T13:48:18.645226Z",
          "shell.execute_reply.started": "2022-12-17T13:48:18.634326Z",
          "shell.execute_reply": "2022-12-17T13:48:18.643602Z"
        },
        "trusted": true,
        "colab": {
          "base_uri": "https://localhost:8080/"
        },
        "id": "flVH64p9bO28",
        "outputId": "f6529c2f-5126-43c9-ab26-53f7a45cb907"
      },
      "execution_count": 16,
      "outputs": [
        {
          "output_type": "execute_result",
          "data": {
            "text/plain": [
              "KFold(n_splits=3, random_state=None, shuffle=False)"
            ]
          },
          "metadata": {},
          "execution_count": 16
        }
      ]
    },
    {
      "cell_type": "code",
      "source": [
        "for train_index, test_index in kf.split([1,2,3,4,5,6,7,8,9,10]):\n",
        "    print(train_index,test_index)"
      ],
      "metadata": {
        "execution": {
          "iopub.status.busy": "2022-12-17T13:48:38.594237Z",
          "iopub.execute_input": "2022-12-17T13:48:38.594706Z",
          "iopub.status.idle": "2022-12-17T13:48:38.605605Z",
          "shell.execute_reply.started": "2022-12-17T13:48:38.594671Z",
          "shell.execute_reply": "2022-12-17T13:48:38.603687Z"
        },
        "trusted": true,
        "colab": {
          "base_uri": "https://localhost:8080/"
        },
        "id": "jZAlDbUDbO28",
        "outputId": "089bb193-9848-4006-b2fc-cc947206510f"
      },
      "execution_count": 17,
      "outputs": [
        {
          "output_type": "stream",
          "name": "stdout",
          "text": [
            "[4 5 6 7 8 9] [0 1 2 3]\n",
            "[0 1 2 3 7 8 9] [4 5 6]\n",
            "[0 1 2 3 4 5 6] [7 8 9]\n"
          ]
        }
      ]
    },
    {
      "cell_type": "code",
      "source": [
        "def get_score(model,X_train,X_test,y_train,y_test):\n",
        "    model.fit(X_train,y_train)\n",
        "    return model.score(X_test,y_test)"
      ],
      "metadata": {
        "execution": {
          "iopub.status.busy": "2022-12-17T14:09:58.885041Z",
          "iopub.execute_input": "2022-12-17T14:09:58.885480Z",
          "iopub.status.idle": "2022-12-17T14:09:58.892980Z",
          "shell.execute_reply.started": "2022-12-17T14:09:58.885446Z",
          "shell.execute_reply": "2022-12-17T14:09:58.891012Z"
        },
        "trusted": true,
        "id": "mYND0sIebO28"
      },
      "execution_count": 18,
      "outputs": []
    },
    {
      "cell_type": "code",
      "source": [
        "from sklearn.model_selection import StratifiedKFold\n",
        "folds = StratifiedKFold(n_splits = 5)"
      ],
      "metadata": {
        "execution": {
          "iopub.status.busy": "2022-12-17T13:55:15.196639Z",
          "iopub.execute_input": "2022-12-17T13:55:15.197166Z",
          "iopub.status.idle": "2022-12-17T13:55:15.203171Z",
          "shell.execute_reply.started": "2022-12-17T13:55:15.197130Z",
          "shell.execute_reply": "2022-12-17T13:55:15.201925Z"
        },
        "trusted": true,
        "id": "jsE4QJdubO29"
      },
      "execution_count": 27,
      "outputs": []
    },
    {
      "cell_type": "code",
      "source": [
        "scores_logistic = []\n",
        "scores_svm = []\n",
        "scores_rf = []\n",
        "\n",
        "for train_index, test_index in folds.split(digits.data,digits.target):\n",
        "    X_train, X_test, y_train, y_test = digits.data[train_index], digits.data[test_index], \\\n",
        "                                       digits.target[train_index], digits.target[test_index]\n",
        "    scores_logistic.append(get_score(LogisticRegression(solver='liblinear',multi_class='ovr'), X_train, X_test, y_train, y_test))  \n",
        "    scores_svm.append(get_score(SVC(gamma='auto'), X_train, X_test, y_train, y_test))\n",
        "    scores_rf.append(get_score(RandomForestClassifier(n_estimators=40), X_train, X_test, y_train, y_test))\n",
        "    "
      ],
      "metadata": {
        "execution": {
          "iopub.status.busy": "2022-12-17T14:08:26.008651Z",
          "iopub.execute_input": "2022-12-17T14:08:26.009064Z",
          "iopub.status.idle": "2022-12-17T14:08:26.048162Z",
          "shell.execute_reply.started": "2022-12-17T14:08:26.009031Z",
          "shell.execute_reply": "2022-12-17T14:08:26.046092Z"
        },
        "trusted": true,
        "id": "Qbf6OyZSbO29"
      },
      "execution_count": 30,
      "outputs": []
    },
    {
      "cell_type": "code",
      "source": [
        "scores_logistic \n"
      ],
      "metadata": {
        "colab": {
          "base_uri": "https://localhost:8080/"
        },
        "id": "ivv9_erLcb5x",
        "outputId": "ff6766fc-b762-4506-e446-03042f47a2a2"
      },
      "execution_count": 32,
      "outputs": [
        {
          "output_type": "execute_result",
          "data": {
            "text/plain": [
              "[0.9222222222222223,\n",
              " 0.8833333333333333,\n",
              " 0.9526462395543176,\n",
              " 0.958217270194986,\n",
              " 0.8941504178272981]"
            ]
          },
          "metadata": {},
          "execution_count": 32
        }
      ]
    },
    {
      "cell_type": "code",
      "source": [
        "scores_svm\n"
      ],
      "metadata": {
        "colab": {
          "base_uri": "https://localhost:8080/"
        },
        "id": "ypgVShBNdZp4",
        "outputId": "7ccddec9-3d8d-4bb0-8c63-4a06ace69016"
      },
      "execution_count": 33,
      "outputs": [
        {
          "output_type": "execute_result",
          "data": {
            "text/plain": [
              "[0.4111111111111111,\n",
              " 0.45,\n",
              " 0.45403899721448465,\n",
              " 0.44846796657381616,\n",
              " 0.479108635097493]"
            ]
          },
          "metadata": {},
          "execution_count": 33
        }
      ]
    },
    {
      "cell_type": "code",
      "source": [
        "scores_rf"
      ],
      "metadata": {
        "colab": {
          "base_uri": "https://localhost:8080/"
        },
        "id": "t9Y4di0ldk8L",
        "outputId": "486a34c1-d1f6-40c2-98d0-21a64581079a"
      },
      "execution_count": 34,
      "outputs": [
        {
          "output_type": "execute_result",
          "data": {
            "text/plain": [
              "[0.925, 0.9, 0.9610027855153204, 0.9554317548746518, 0.9192200557103064]"
            ]
          },
          "metadata": {},
          "execution_count": 34
        }
      ]
    },
    {
      "cell_type": "code",
      "source": [
        "from sklearn.model_selection import cross_val_score\n"
      ],
      "metadata": {
        "colab": {
          "base_uri": "https://localhost:8080/"
        },
        "id": "oTjweYw_dngI",
        "outputId": "e6d17907-0fbf-41c0-cee8-3777e77d30aa"
      },
      "execution_count": 35,
      "outputs": [
        {
          "output_type": "execute_result",
          "data": {
            "text/plain": [
              "array([0.92222222, 0.86944444, 0.94150418, 0.93871866, 0.89693593])"
            ]
          },
          "metadata": {},
          "execution_count": 35
        }
      ]
    },
    {
      "cell_type": "code",
      "source": [
        "cross_val_score(LogisticRegression(), digits.data, digits.target)"
      ],
      "metadata": {
        "colab": {
          "base_uri": "https://localhost:8080/"
        },
        "id": "eNCrZ5D1eajZ",
        "outputId": "2633d53b-6000-428b-cf5c-b6b67e7fbfac"
      },
      "execution_count": 36,
      "outputs": [
        {
          "output_type": "execute_result",
          "data": {
            "text/plain": [
              "array([0.92222222, 0.86944444, 0.94150418, 0.93871866, 0.89693593])"
            ]
          },
          "metadata": {},
          "execution_count": 36
        }
      ]
    },
    {
      "cell_type": "code",
      "source": [
        "cross_val_score(SVC(), digits.data, digits.target)"
      ],
      "metadata": {
        "colab": {
          "base_uri": "https://localhost:8080/"
        },
        "id": "iROq13Y6eddK",
        "outputId": "5b0b5f38-34ff-48ce-8026-efcb3a34f5ae"
      },
      "execution_count": 37,
      "outputs": [
        {
          "output_type": "execute_result",
          "data": {
            "text/plain": [
              "array([0.96111111, 0.94444444, 0.98328691, 0.98885794, 0.93871866])"
            ]
          },
          "metadata": {},
          "execution_count": 37
        }
      ]
    },
    {
      "cell_type": "code",
      "source": [
        "cross_val_score(RandomForestClassifier(), digits.data, digits.target)"
      ],
      "metadata": {
        "colab": {
          "base_uri": "https://localhost:8080/"
        },
        "id": "DVihQ9_reg4B",
        "outputId": "d2ec743c-1677-402f-e0a6-695a985c2b2d"
      },
      "execution_count": 38,
      "outputs": [
        {
          "output_type": "execute_result",
          "data": {
            "text/plain": [
              "array([0.93888889, 0.91666667, 0.95821727, 0.96100279, 0.91643454])"
            ]
          },
          "metadata": {},
          "execution_count": 38
        }
      ]
    },
    {
      "cell_type": "code",
      "source": [
        "from sklearn.linear_model import LinearRegression\n",
        "cross_val_score(LinearRegression(), digits.data, digits.target)"
      ],
      "metadata": {
        "colab": {
          "base_uri": "https://localhost:8080/"
        },
        "id": "szP8faZGek3g",
        "outputId": "824f1e67-c4bb-4e74-e2ca-4af499065dc1"
      },
      "execution_count": 43,
      "outputs": [
        {
          "output_type": "execute_result",
          "data": {
            "text/plain": [
              "array([0.48346048, 0.5583603 , 0.57534522, 0.5056632 , 0.40995457])"
            ]
          },
          "metadata": {},
          "execution_count": 43
        }
      ]
    },
    {
      "cell_type": "code",
      "source": [],
      "metadata": {
        "id": "N6LOkuxjepeQ"
      },
      "execution_count": null,
      "outputs": []
    }
  ]
}
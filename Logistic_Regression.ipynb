{
  "nbformat": 4,
  "nbformat_minor": 0,
  "metadata": {
    "colab": {
      "provenance": [],
      "authorship_tag": "ABX9TyO7dzuIyuhxePvajyY7OEAI",
      "include_colab_link": true
    },
    "kernelspec": {
      "name": "python3",
      "display_name": "Python 3"
    },
    "language_info": {
      "name": "python"
    }
  },
  "cells": [
    {
      "cell_type": "markdown",
      "metadata": {
        "id": "view-in-github",
        "colab_type": "text"
      },
      "source": [
        "<a href=\"https://colab.research.google.com/github/Samxiar/ML/blob/main/Logistic_Regression.ipynb\" target=\"_parent\"><img src=\"https://colab.research.google.com/assets/colab-badge.svg\" alt=\"Open In Colab\"/></a>"
      ]
    },
    {
      "cell_type": "code",
      "execution_count": 1,
      "metadata": {
        "id": "8rLeGQz3WkOO"
      },
      "outputs": [],
      "source": [
        "import pandas as pd\n",
        "import numpy as np\n",
        "import plotly.express as px\n",
        "import warnings\n",
        "warnings.filterwarnings('ignore')"
      ]
    },
    {
      "cell_type": "code",
      "source": [
        "df = pd.read_csv(\"ins.csv\")\n",
        "df.head()"
      ],
      "metadata": {
        "colab": {
          "base_uri": "https://localhost:8080/",
          "height": 206
        },
        "id": "6D_qwJ9KadXa",
        "outputId": "0822872e-9ece-4c21-8e9f-d29427842e4c"
      },
      "execution_count": 2,
      "outputs": [
        {
          "output_type": "execute_result",
          "data": {
            "text/plain": [
              "   age  insurance\n",
              "0   22          0\n",
              "1   25          0\n",
              "2   47          1\n",
              "3   52          0\n",
              "4   46          1"
            ],
            "text/html": [
              "\n",
              "  <div id=\"df-fbb4108b-f6e0-495a-bd9b-30783f2898f1\">\n",
              "    <div class=\"colab-df-container\">\n",
              "      <div>\n",
              "<style scoped>\n",
              "    .dataframe tbody tr th:only-of-type {\n",
              "        vertical-align: middle;\n",
              "    }\n",
              "\n",
              "    .dataframe tbody tr th {\n",
              "        vertical-align: top;\n",
              "    }\n",
              "\n",
              "    .dataframe thead th {\n",
              "        text-align: right;\n",
              "    }\n",
              "</style>\n",
              "<table border=\"1\" class=\"dataframe\">\n",
              "  <thead>\n",
              "    <tr style=\"text-align: right;\">\n",
              "      <th></th>\n",
              "      <th>age</th>\n",
              "      <th>insurance</th>\n",
              "    </tr>\n",
              "  </thead>\n",
              "  <tbody>\n",
              "    <tr>\n",
              "      <th>0</th>\n",
              "      <td>22</td>\n",
              "      <td>0</td>\n",
              "    </tr>\n",
              "    <tr>\n",
              "      <th>1</th>\n",
              "      <td>25</td>\n",
              "      <td>0</td>\n",
              "    </tr>\n",
              "    <tr>\n",
              "      <th>2</th>\n",
              "      <td>47</td>\n",
              "      <td>1</td>\n",
              "    </tr>\n",
              "    <tr>\n",
              "      <th>3</th>\n",
              "      <td>52</td>\n",
              "      <td>0</td>\n",
              "    </tr>\n",
              "    <tr>\n",
              "      <th>4</th>\n",
              "      <td>46</td>\n",
              "      <td>1</td>\n",
              "    </tr>\n",
              "  </tbody>\n",
              "</table>\n",
              "</div>\n",
              "      <button class=\"colab-df-convert\" onclick=\"convertToInteractive('df-fbb4108b-f6e0-495a-bd9b-30783f2898f1')\"\n",
              "              title=\"Convert this dataframe to an interactive table.\"\n",
              "              style=\"display:none;\">\n",
              "        \n",
              "  <svg xmlns=\"http://www.w3.org/2000/svg\" height=\"24px\"viewBox=\"0 0 24 24\"\n",
              "       width=\"24px\">\n",
              "    <path d=\"M0 0h24v24H0V0z\" fill=\"none\"/>\n",
              "    <path d=\"M18.56 5.44l.94 2.06.94-2.06 2.06-.94-2.06-.94-.94-2.06-.94 2.06-2.06.94zm-11 1L8.5 8.5l.94-2.06 2.06-.94-2.06-.94L8.5 2.5l-.94 2.06-2.06.94zm10 10l.94 2.06.94-2.06 2.06-.94-2.06-.94-.94-2.06-.94 2.06-2.06.94z\"/><path d=\"M17.41 7.96l-1.37-1.37c-.4-.4-.92-.59-1.43-.59-.52 0-1.04.2-1.43.59L10.3 9.45l-7.72 7.72c-.78.78-.78 2.05 0 2.83L4 21.41c.39.39.9.59 1.41.59.51 0 1.02-.2 1.41-.59l7.78-7.78 2.81-2.81c.8-.78.8-2.07 0-2.86zM5.41 20L4 18.59l7.72-7.72 1.47 1.35L5.41 20z\"/>\n",
              "  </svg>\n",
              "      </button>\n",
              "      \n",
              "  <style>\n",
              "    .colab-df-container {\n",
              "      display:flex;\n",
              "      flex-wrap:wrap;\n",
              "      gap: 12px;\n",
              "    }\n",
              "\n",
              "    .colab-df-convert {\n",
              "      background-color: #E8F0FE;\n",
              "      border: none;\n",
              "      border-radius: 50%;\n",
              "      cursor: pointer;\n",
              "      display: none;\n",
              "      fill: #1967D2;\n",
              "      height: 32px;\n",
              "      padding: 0 0 0 0;\n",
              "      width: 32px;\n",
              "    }\n",
              "\n",
              "    .colab-df-convert:hover {\n",
              "      background-color: #E2EBFA;\n",
              "      box-shadow: 0px 1px 2px rgba(60, 64, 67, 0.3), 0px 1px 3px 1px rgba(60, 64, 67, 0.15);\n",
              "      fill: #174EA6;\n",
              "    }\n",
              "\n",
              "    [theme=dark] .colab-df-convert {\n",
              "      background-color: #3B4455;\n",
              "      fill: #D2E3FC;\n",
              "    }\n",
              "\n",
              "    [theme=dark] .colab-df-convert:hover {\n",
              "      background-color: #434B5C;\n",
              "      box-shadow: 0px 1px 3px 1px rgba(0, 0, 0, 0.15);\n",
              "      filter: drop-shadow(0px 1px 2px rgba(0, 0, 0, 0.3));\n",
              "      fill: #FFFFFF;\n",
              "    }\n",
              "  </style>\n",
              "\n",
              "      <script>\n",
              "        const buttonEl =\n",
              "          document.querySelector('#df-fbb4108b-f6e0-495a-bd9b-30783f2898f1 button.colab-df-convert');\n",
              "        buttonEl.style.display =\n",
              "          google.colab.kernel.accessAllowed ? 'block' : 'none';\n",
              "\n",
              "        async function convertToInteractive(key) {\n",
              "          const element = document.querySelector('#df-fbb4108b-f6e0-495a-bd9b-30783f2898f1');\n",
              "          const dataTable =\n",
              "            await google.colab.kernel.invokeFunction('convertToInteractive',\n",
              "                                                     [key], {});\n",
              "          if (!dataTable) return;\n",
              "\n",
              "          const docLinkHtml = 'Like what you see? Visit the ' +\n",
              "            '<a target=\"_blank\" href=https://colab.research.google.com/notebooks/data_table.ipynb>data table notebook</a>'\n",
              "            + ' to learn more about interactive tables.';\n",
              "          element.innerHTML = '';\n",
              "          dataTable['output_type'] = 'display_data';\n",
              "          await google.colab.output.renderOutput(dataTable, element);\n",
              "          const docLink = document.createElement('div');\n",
              "          docLink.innerHTML = docLinkHtml;\n",
              "          element.appendChild(docLink);\n",
              "        }\n",
              "      </script>\n",
              "    </div>\n",
              "  </div>\n",
              "  "
            ]
          },
          "metadata": {},
          "execution_count": 2
        }
      ]
    },
    {
      "cell_type": "code",
      "source": [
        "fig = px.scatter(df, x=\"age\", y=\"insurance\")\n",
        "fig.show()"
      ],
      "metadata": {
        "colab": {
          "base_uri": "https://localhost:8080/",
          "height": 542
        },
        "id": "wBNtvNoAaqAf",
        "outputId": "be76d606-e6fe-4b0b-a456-88dfc61da4ab"
      },
      "execution_count": 3,
      "outputs": [
        {
          "output_type": "display_data",
          "data": {
            "text/html": [
              "<html>\n",
              "<head><meta charset=\"utf-8\" /></head>\n",
              "<body>\n",
              "    <div>            <script src=\"https://cdnjs.cloudflare.com/ajax/libs/mathjax/2.7.5/MathJax.js?config=TeX-AMS-MML_SVG\"></script><script type=\"text/javascript\">if (window.MathJax) {MathJax.Hub.Config({SVG: {font: \"STIX-Web\"}});}</script>                <script type=\"text/javascript\">window.PlotlyConfig = {MathJaxConfig: 'local'};</script>\n",
              "        <script src=\"https://cdn.plot.ly/plotly-2.8.3.min.js\"></script>                <div id=\"72dc6d44-bae1-4acd-af13-d6615fc0bb66\" class=\"plotly-graph-div\" style=\"height:525px; width:100%;\"></div>            <script type=\"text/javascript\">                                    window.PLOTLYENV=window.PLOTLYENV || {};                                    if (document.getElementById(\"72dc6d44-bae1-4acd-af13-d6615fc0bb66\")) {                    Plotly.newPlot(                        \"72dc6d44-bae1-4acd-af13-d6615fc0bb66\",                        [{\"hovertemplate\":\"age=%{x}<br>insurance=%{y}<extra></extra>\",\"legendgroup\":\"\",\"marker\":{\"color\":\"#636efa\",\"symbol\":\"circle\"},\"mode\":\"markers\",\"name\":\"\",\"orientation\":\"v\",\"showlegend\":false,\"x\":[22,25,47,52,46,56,55,60,62,61,18,28,27,29,49,55,25,58,19,18,21,26,40,45,50,54,23],\"xaxis\":\"x\",\"y\":[0,0,1,0,1,1,0,1,1,1,0,0,0,0,1,1,1,1,0,0,0,0,1,1,1,1,0],\"yaxis\":\"y\",\"type\":\"scatter\"}],                        {\"template\":{\"data\":{\"bar\":[{\"error_x\":{\"color\":\"#2a3f5f\"},\"error_y\":{\"color\":\"#2a3f5f\"},\"marker\":{\"line\":{\"color\":\"#E5ECF6\",\"width\":0.5},\"pattern\":{\"fillmode\":\"overlay\",\"size\":10,\"solidity\":0.2}},\"type\":\"bar\"}],\"barpolar\":[{\"marker\":{\"line\":{\"color\":\"#E5ECF6\",\"width\":0.5},\"pattern\":{\"fillmode\":\"overlay\",\"size\":10,\"solidity\":0.2}},\"type\":\"barpolar\"}],\"carpet\":[{\"aaxis\":{\"endlinecolor\":\"#2a3f5f\",\"gridcolor\":\"white\",\"linecolor\":\"white\",\"minorgridcolor\":\"white\",\"startlinecolor\":\"#2a3f5f\"},\"baxis\":{\"endlinecolor\":\"#2a3f5f\",\"gridcolor\":\"white\",\"linecolor\":\"white\",\"minorgridcolor\":\"white\",\"startlinecolor\":\"#2a3f5f\"},\"type\":\"carpet\"}],\"choropleth\":[{\"colorbar\":{\"outlinewidth\":0,\"ticks\":\"\"},\"type\":\"choropleth\"}],\"contour\":[{\"colorbar\":{\"outlinewidth\":0,\"ticks\":\"\"},\"colorscale\":[[0.0,\"#0d0887\"],[0.1111111111111111,\"#46039f\"],[0.2222222222222222,\"#7201a8\"],[0.3333333333333333,\"#9c179e\"],[0.4444444444444444,\"#bd3786\"],[0.5555555555555556,\"#d8576b\"],[0.6666666666666666,\"#ed7953\"],[0.7777777777777778,\"#fb9f3a\"],[0.8888888888888888,\"#fdca26\"],[1.0,\"#f0f921\"]],\"type\":\"contour\"}],\"contourcarpet\":[{\"colorbar\":{\"outlinewidth\":0,\"ticks\":\"\"},\"type\":\"contourcarpet\"}],\"heatmap\":[{\"colorbar\":{\"outlinewidth\":0,\"ticks\":\"\"},\"colorscale\":[[0.0,\"#0d0887\"],[0.1111111111111111,\"#46039f\"],[0.2222222222222222,\"#7201a8\"],[0.3333333333333333,\"#9c179e\"],[0.4444444444444444,\"#bd3786\"],[0.5555555555555556,\"#d8576b\"],[0.6666666666666666,\"#ed7953\"],[0.7777777777777778,\"#fb9f3a\"],[0.8888888888888888,\"#fdca26\"],[1.0,\"#f0f921\"]],\"type\":\"heatmap\"}],\"heatmapgl\":[{\"colorbar\":{\"outlinewidth\":0,\"ticks\":\"\"},\"colorscale\":[[0.0,\"#0d0887\"],[0.1111111111111111,\"#46039f\"],[0.2222222222222222,\"#7201a8\"],[0.3333333333333333,\"#9c179e\"],[0.4444444444444444,\"#bd3786\"],[0.5555555555555556,\"#d8576b\"],[0.6666666666666666,\"#ed7953\"],[0.7777777777777778,\"#fb9f3a\"],[0.8888888888888888,\"#fdca26\"],[1.0,\"#f0f921\"]],\"type\":\"heatmapgl\"}],\"histogram\":[{\"marker\":{\"pattern\":{\"fillmode\":\"overlay\",\"size\":10,\"solidity\":0.2}},\"type\":\"histogram\"}],\"histogram2d\":[{\"colorbar\":{\"outlinewidth\":0,\"ticks\":\"\"},\"colorscale\":[[0.0,\"#0d0887\"],[0.1111111111111111,\"#46039f\"],[0.2222222222222222,\"#7201a8\"],[0.3333333333333333,\"#9c179e\"],[0.4444444444444444,\"#bd3786\"],[0.5555555555555556,\"#d8576b\"],[0.6666666666666666,\"#ed7953\"],[0.7777777777777778,\"#fb9f3a\"],[0.8888888888888888,\"#fdca26\"],[1.0,\"#f0f921\"]],\"type\":\"histogram2d\"}],\"histogram2dcontour\":[{\"colorbar\":{\"outlinewidth\":0,\"ticks\":\"\"},\"colorscale\":[[0.0,\"#0d0887\"],[0.1111111111111111,\"#46039f\"],[0.2222222222222222,\"#7201a8\"],[0.3333333333333333,\"#9c179e\"],[0.4444444444444444,\"#bd3786\"],[0.5555555555555556,\"#d8576b\"],[0.6666666666666666,\"#ed7953\"],[0.7777777777777778,\"#fb9f3a\"],[0.8888888888888888,\"#fdca26\"],[1.0,\"#f0f921\"]],\"type\":\"histogram2dcontour\"}],\"mesh3d\":[{\"colorbar\":{\"outlinewidth\":0,\"ticks\":\"\"},\"type\":\"mesh3d\"}],\"parcoords\":[{\"line\":{\"colorbar\":{\"outlinewidth\":0,\"ticks\":\"\"}},\"type\":\"parcoords\"}],\"pie\":[{\"automargin\":true,\"type\":\"pie\"}],\"scatter\":[{\"marker\":{\"colorbar\":{\"outlinewidth\":0,\"ticks\":\"\"}},\"type\":\"scatter\"}],\"scatter3d\":[{\"line\":{\"colorbar\":{\"outlinewidth\":0,\"ticks\":\"\"}},\"marker\":{\"colorbar\":{\"outlinewidth\":0,\"ticks\":\"\"}},\"type\":\"scatter3d\"}],\"scattercarpet\":[{\"marker\":{\"colorbar\":{\"outlinewidth\":0,\"ticks\":\"\"}},\"type\":\"scattercarpet\"}],\"scattergeo\":[{\"marker\":{\"colorbar\":{\"outlinewidth\":0,\"ticks\":\"\"}},\"type\":\"scattergeo\"}],\"scattergl\":[{\"marker\":{\"colorbar\":{\"outlinewidth\":0,\"ticks\":\"\"}},\"type\":\"scattergl\"}],\"scattermapbox\":[{\"marker\":{\"colorbar\":{\"outlinewidth\":0,\"ticks\":\"\"}},\"type\":\"scattermapbox\"}],\"scatterpolar\":[{\"marker\":{\"colorbar\":{\"outlinewidth\":0,\"ticks\":\"\"}},\"type\":\"scatterpolar\"}],\"scatterpolargl\":[{\"marker\":{\"colorbar\":{\"outlinewidth\":0,\"ticks\":\"\"}},\"type\":\"scatterpolargl\"}],\"scatterternary\":[{\"marker\":{\"colorbar\":{\"outlinewidth\":0,\"ticks\":\"\"}},\"type\":\"scatterternary\"}],\"surface\":[{\"colorbar\":{\"outlinewidth\":0,\"ticks\":\"\"},\"colorscale\":[[0.0,\"#0d0887\"],[0.1111111111111111,\"#46039f\"],[0.2222222222222222,\"#7201a8\"],[0.3333333333333333,\"#9c179e\"],[0.4444444444444444,\"#bd3786\"],[0.5555555555555556,\"#d8576b\"],[0.6666666666666666,\"#ed7953\"],[0.7777777777777778,\"#fb9f3a\"],[0.8888888888888888,\"#fdca26\"],[1.0,\"#f0f921\"]],\"type\":\"surface\"}],\"table\":[{\"cells\":{\"fill\":{\"color\":\"#EBF0F8\"},\"line\":{\"color\":\"white\"}},\"header\":{\"fill\":{\"color\":\"#C8D4E3\"},\"line\":{\"color\":\"white\"}},\"type\":\"table\"}]},\"layout\":{\"annotationdefaults\":{\"arrowcolor\":\"#2a3f5f\",\"arrowhead\":0,\"arrowwidth\":1},\"autotypenumbers\":\"strict\",\"coloraxis\":{\"colorbar\":{\"outlinewidth\":0,\"ticks\":\"\"}},\"colorscale\":{\"diverging\":[[0,\"#8e0152\"],[0.1,\"#c51b7d\"],[0.2,\"#de77ae\"],[0.3,\"#f1b6da\"],[0.4,\"#fde0ef\"],[0.5,\"#f7f7f7\"],[0.6,\"#e6f5d0\"],[0.7,\"#b8e186\"],[0.8,\"#7fbc41\"],[0.9,\"#4d9221\"],[1,\"#276419\"]],\"sequential\":[[0.0,\"#0d0887\"],[0.1111111111111111,\"#46039f\"],[0.2222222222222222,\"#7201a8\"],[0.3333333333333333,\"#9c179e\"],[0.4444444444444444,\"#bd3786\"],[0.5555555555555556,\"#d8576b\"],[0.6666666666666666,\"#ed7953\"],[0.7777777777777778,\"#fb9f3a\"],[0.8888888888888888,\"#fdca26\"],[1.0,\"#f0f921\"]],\"sequentialminus\":[[0.0,\"#0d0887\"],[0.1111111111111111,\"#46039f\"],[0.2222222222222222,\"#7201a8\"],[0.3333333333333333,\"#9c179e\"],[0.4444444444444444,\"#bd3786\"],[0.5555555555555556,\"#d8576b\"],[0.6666666666666666,\"#ed7953\"],[0.7777777777777778,\"#fb9f3a\"],[0.8888888888888888,\"#fdca26\"],[1.0,\"#f0f921\"]]},\"colorway\":[\"#636efa\",\"#EF553B\",\"#00cc96\",\"#ab63fa\",\"#FFA15A\",\"#19d3f3\",\"#FF6692\",\"#B6E880\",\"#FF97FF\",\"#FECB52\"],\"font\":{\"color\":\"#2a3f5f\"},\"geo\":{\"bgcolor\":\"white\",\"lakecolor\":\"white\",\"landcolor\":\"#E5ECF6\",\"showlakes\":true,\"showland\":true,\"subunitcolor\":\"white\"},\"hoverlabel\":{\"align\":\"left\"},\"hovermode\":\"closest\",\"mapbox\":{\"style\":\"light\"},\"paper_bgcolor\":\"white\",\"plot_bgcolor\":\"#E5ECF6\",\"polar\":{\"angularaxis\":{\"gridcolor\":\"white\",\"linecolor\":\"white\",\"ticks\":\"\"},\"bgcolor\":\"#E5ECF6\",\"radialaxis\":{\"gridcolor\":\"white\",\"linecolor\":\"white\",\"ticks\":\"\"}},\"scene\":{\"xaxis\":{\"backgroundcolor\":\"#E5ECF6\",\"gridcolor\":\"white\",\"gridwidth\":2,\"linecolor\":\"white\",\"showbackground\":true,\"ticks\":\"\",\"zerolinecolor\":\"white\"},\"yaxis\":{\"backgroundcolor\":\"#E5ECF6\",\"gridcolor\":\"white\",\"gridwidth\":2,\"linecolor\":\"white\",\"showbackground\":true,\"ticks\":\"\",\"zerolinecolor\":\"white\"},\"zaxis\":{\"backgroundcolor\":\"#E5ECF6\",\"gridcolor\":\"white\",\"gridwidth\":2,\"linecolor\":\"white\",\"showbackground\":true,\"ticks\":\"\",\"zerolinecolor\":\"white\"}},\"shapedefaults\":{\"line\":{\"color\":\"#2a3f5f\"}},\"ternary\":{\"aaxis\":{\"gridcolor\":\"white\",\"linecolor\":\"white\",\"ticks\":\"\"},\"baxis\":{\"gridcolor\":\"white\",\"linecolor\":\"white\",\"ticks\":\"\"},\"bgcolor\":\"#E5ECF6\",\"caxis\":{\"gridcolor\":\"white\",\"linecolor\":\"white\",\"ticks\":\"\"}},\"title\":{\"x\":0.05},\"xaxis\":{\"automargin\":true,\"gridcolor\":\"white\",\"linecolor\":\"white\",\"ticks\":\"\",\"title\":{\"standoff\":15},\"zerolinecolor\":\"white\",\"zerolinewidth\":2},\"yaxis\":{\"automargin\":true,\"gridcolor\":\"white\",\"linecolor\":\"white\",\"ticks\":\"\",\"title\":{\"standoff\":15},\"zerolinecolor\":\"white\",\"zerolinewidth\":2}}},\"xaxis\":{\"anchor\":\"y\",\"domain\":[0.0,1.0],\"title\":{\"text\":\"age\"}},\"yaxis\":{\"anchor\":\"x\",\"domain\":[0.0,1.0],\"title\":{\"text\":\"insurance\"}},\"legend\":{\"tracegroupgap\":0},\"margin\":{\"t\":60}},                        {\"responsive\": true}                    ).then(function(){\n",
              "                            \n",
              "var gd = document.getElementById('72dc6d44-bae1-4acd-af13-d6615fc0bb66');\n",
              "var x = new MutationObserver(function (mutations, observer) {{\n",
              "        var display = window.getComputedStyle(gd).display;\n",
              "        if (!display || display === 'none') {{\n",
              "            console.log([gd, 'removed!']);\n",
              "            Plotly.purge(gd);\n",
              "            observer.disconnect();\n",
              "        }}\n",
              "}});\n",
              "\n",
              "// Listen for the removal of the full notebook cells\n",
              "var notebookContainer = gd.closest('#notebook-container');\n",
              "if (notebookContainer) {{\n",
              "    x.observe(notebookContainer, {childList: true});\n",
              "}}\n",
              "\n",
              "// Listen for the clearing of the current output cell\n",
              "var outputEl = gd.closest('.output');\n",
              "if (outputEl) {{\n",
              "    x.observe(outputEl, {childList: true});\n",
              "}}\n",
              "\n",
              "                        })                };                            </script>        </div>\n",
              "</body>\n",
              "</html>"
            ]
          },
          "metadata": {}
        }
      ]
    },
    {
      "cell_type": "code",
      "source": [
        "df.shape"
      ],
      "metadata": {
        "colab": {
          "base_uri": "https://localhost:8080/"
        },
        "id": "zlLWpyE7eVYI",
        "outputId": "590a656a-2082-4507-f013-cbeeaf4e225b"
      },
      "execution_count": 4,
      "outputs": [
        {
          "output_type": "execute_result",
          "data": {
            "text/plain": [
              "(27, 2)"
            ]
          },
          "metadata": {},
          "execution_count": 4
        }
      ]
    },
    {
      "cell_type": "code",
      "source": [
        "from sklearn.model_selection import train_test_split"
      ],
      "metadata": {
        "id": "-WLT8gn-etUu"
      },
      "execution_count": 5,
      "outputs": []
    },
    {
      "cell_type": "code",
      "source": [
        "X_train, X_test, y_train, y_test =train_test_split(df[['age']],df.insurance, test_size=0.1 )"
      ],
      "metadata": {
        "id": "-lhmfWIfe52H"
      },
      "execution_count": 6,
      "outputs": []
    },
    {
      "cell_type": "code",
      "source": [
        "# To test the model\n",
        "\n",
        "X_test"
      ],
      "metadata": {
        "colab": {
          "base_uri": "https://localhost:8080/",
          "height": 143
        },
        "id": "TYc0GZqMgCbI",
        "outputId": "83b38593-6d52-4c64-c69a-b9ab89d8a8ae"
      },
      "execution_count": 7,
      "outputs": [
        {
          "output_type": "execute_result",
          "data": {
            "text/plain": [
              "    age\n",
              "24   50\n",
              "21   26\n",
              "11   28"
            ],
            "text/html": [
              "\n",
              "  <div id=\"df-f27eb828-32cd-49dc-b24e-1334dcf58873\">\n",
              "    <div class=\"colab-df-container\">\n",
              "      <div>\n",
              "<style scoped>\n",
              "    .dataframe tbody tr th:only-of-type {\n",
              "        vertical-align: middle;\n",
              "    }\n",
              "\n",
              "    .dataframe tbody tr th {\n",
              "        vertical-align: top;\n",
              "    }\n",
              "\n",
              "    .dataframe thead th {\n",
              "        text-align: right;\n",
              "    }\n",
              "</style>\n",
              "<table border=\"1\" class=\"dataframe\">\n",
              "  <thead>\n",
              "    <tr style=\"text-align: right;\">\n",
              "      <th></th>\n",
              "      <th>age</th>\n",
              "    </tr>\n",
              "  </thead>\n",
              "  <tbody>\n",
              "    <tr>\n",
              "      <th>24</th>\n",
              "      <td>50</td>\n",
              "    </tr>\n",
              "    <tr>\n",
              "      <th>21</th>\n",
              "      <td>26</td>\n",
              "    </tr>\n",
              "    <tr>\n",
              "      <th>11</th>\n",
              "      <td>28</td>\n",
              "    </tr>\n",
              "  </tbody>\n",
              "</table>\n",
              "</div>\n",
              "      <button class=\"colab-df-convert\" onclick=\"convertToInteractive('df-f27eb828-32cd-49dc-b24e-1334dcf58873')\"\n",
              "              title=\"Convert this dataframe to an interactive table.\"\n",
              "              style=\"display:none;\">\n",
              "        \n",
              "  <svg xmlns=\"http://www.w3.org/2000/svg\" height=\"24px\"viewBox=\"0 0 24 24\"\n",
              "       width=\"24px\">\n",
              "    <path d=\"M0 0h24v24H0V0z\" fill=\"none\"/>\n",
              "    <path d=\"M18.56 5.44l.94 2.06.94-2.06 2.06-.94-2.06-.94-.94-2.06-.94 2.06-2.06.94zm-11 1L8.5 8.5l.94-2.06 2.06-.94-2.06-.94L8.5 2.5l-.94 2.06-2.06.94zm10 10l.94 2.06.94-2.06 2.06-.94-2.06-.94-.94-2.06-.94 2.06-2.06.94z\"/><path d=\"M17.41 7.96l-1.37-1.37c-.4-.4-.92-.59-1.43-.59-.52 0-1.04.2-1.43.59L10.3 9.45l-7.72 7.72c-.78.78-.78 2.05 0 2.83L4 21.41c.39.39.9.59 1.41.59.51 0 1.02-.2 1.41-.59l7.78-7.78 2.81-2.81c.8-.78.8-2.07 0-2.86zM5.41 20L4 18.59l7.72-7.72 1.47 1.35L5.41 20z\"/>\n",
              "  </svg>\n",
              "      </button>\n",
              "      \n",
              "  <style>\n",
              "    .colab-df-container {\n",
              "      display:flex;\n",
              "      flex-wrap:wrap;\n",
              "      gap: 12px;\n",
              "    }\n",
              "\n",
              "    .colab-df-convert {\n",
              "      background-color: #E8F0FE;\n",
              "      border: none;\n",
              "      border-radius: 50%;\n",
              "      cursor: pointer;\n",
              "      display: none;\n",
              "      fill: #1967D2;\n",
              "      height: 32px;\n",
              "      padding: 0 0 0 0;\n",
              "      width: 32px;\n",
              "    }\n",
              "\n",
              "    .colab-df-convert:hover {\n",
              "      background-color: #E2EBFA;\n",
              "      box-shadow: 0px 1px 2px rgba(60, 64, 67, 0.3), 0px 1px 3px 1px rgba(60, 64, 67, 0.15);\n",
              "      fill: #174EA6;\n",
              "    }\n",
              "\n",
              "    [theme=dark] .colab-df-convert {\n",
              "      background-color: #3B4455;\n",
              "      fill: #D2E3FC;\n",
              "    }\n",
              "\n",
              "    [theme=dark] .colab-df-convert:hover {\n",
              "      background-color: #434B5C;\n",
              "      box-shadow: 0px 1px 3px 1px rgba(0, 0, 0, 0.15);\n",
              "      filter: drop-shadow(0px 1px 2px rgba(0, 0, 0, 0.3));\n",
              "      fill: #FFFFFF;\n",
              "    }\n",
              "  </style>\n",
              "\n",
              "      <script>\n",
              "        const buttonEl =\n",
              "          document.querySelector('#df-f27eb828-32cd-49dc-b24e-1334dcf58873 button.colab-df-convert');\n",
              "        buttonEl.style.display =\n",
              "          google.colab.kernel.accessAllowed ? 'block' : 'none';\n",
              "\n",
              "        async function convertToInteractive(key) {\n",
              "          const element = document.querySelector('#df-f27eb828-32cd-49dc-b24e-1334dcf58873');\n",
              "          const dataTable =\n",
              "            await google.colab.kernel.invokeFunction('convertToInteractive',\n",
              "                                                     [key], {});\n",
              "          if (!dataTable) return;\n",
              "\n",
              "          const docLinkHtml = 'Like what you see? Visit the ' +\n",
              "            '<a target=\"_blank\" href=https://colab.research.google.com/notebooks/data_table.ipynb>data table notebook</a>'\n",
              "            + ' to learn more about interactive tables.';\n",
              "          element.innerHTML = '';\n",
              "          dataTable['output_type'] = 'display_data';\n",
              "          await google.colab.output.renderOutput(dataTable, element);\n",
              "          const docLink = document.createElement('div');\n",
              "          docLink.innerHTML = docLinkHtml;\n",
              "          element.appendChild(docLink);\n",
              "        }\n",
              "      </script>\n",
              "    </div>\n",
              "  </div>\n",
              "  "
            ]
          },
          "metadata": {},
          "execution_count": 7
        }
      ]
    },
    {
      "cell_type": "code",
      "source": [
        "# To train the model\n",
        "\n",
        "X_train"
      ],
      "metadata": {
        "colab": {
          "base_uri": "https://localhost:8080/",
          "height": 802
        },
        "id": "wW9GNpAKgM9e",
        "outputId": "a26acbca-1cdf-4ea2-8acf-93203744d36e"
      },
      "execution_count": 8,
      "outputs": [
        {
          "output_type": "execute_result",
          "data": {
            "text/plain": [
              "    age\n",
              "26   23\n",
              "5    56\n",
              "18   19\n",
              "22   40\n",
              "13   29\n",
              "10   18\n",
              "2    47\n",
              "7    60\n",
              "19   18\n",
              "12   27\n",
              "8    62\n",
              "1    25\n",
              "0    22\n",
              "6    55\n",
              "9    61\n",
              "15   55\n",
              "23   45\n",
              "20   21\n",
              "4    46\n",
              "25   54\n",
              "3    52\n",
              "16   25\n",
              "14   49\n",
              "17   58"
            ],
            "text/html": [
              "\n",
              "  <div id=\"df-3c53ba69-ffb9-4c21-94f4-7a2d1fa57a82\">\n",
              "    <div class=\"colab-df-container\">\n",
              "      <div>\n",
              "<style scoped>\n",
              "    .dataframe tbody tr th:only-of-type {\n",
              "        vertical-align: middle;\n",
              "    }\n",
              "\n",
              "    .dataframe tbody tr th {\n",
              "        vertical-align: top;\n",
              "    }\n",
              "\n",
              "    .dataframe thead th {\n",
              "        text-align: right;\n",
              "    }\n",
              "</style>\n",
              "<table border=\"1\" class=\"dataframe\">\n",
              "  <thead>\n",
              "    <tr style=\"text-align: right;\">\n",
              "      <th></th>\n",
              "      <th>age</th>\n",
              "    </tr>\n",
              "  </thead>\n",
              "  <tbody>\n",
              "    <tr>\n",
              "      <th>26</th>\n",
              "      <td>23</td>\n",
              "    </tr>\n",
              "    <tr>\n",
              "      <th>5</th>\n",
              "      <td>56</td>\n",
              "    </tr>\n",
              "    <tr>\n",
              "      <th>18</th>\n",
              "      <td>19</td>\n",
              "    </tr>\n",
              "    <tr>\n",
              "      <th>22</th>\n",
              "      <td>40</td>\n",
              "    </tr>\n",
              "    <tr>\n",
              "      <th>13</th>\n",
              "      <td>29</td>\n",
              "    </tr>\n",
              "    <tr>\n",
              "      <th>10</th>\n",
              "      <td>18</td>\n",
              "    </tr>\n",
              "    <tr>\n",
              "      <th>2</th>\n",
              "      <td>47</td>\n",
              "    </tr>\n",
              "    <tr>\n",
              "      <th>7</th>\n",
              "      <td>60</td>\n",
              "    </tr>\n",
              "    <tr>\n",
              "      <th>19</th>\n",
              "      <td>18</td>\n",
              "    </tr>\n",
              "    <tr>\n",
              "      <th>12</th>\n",
              "      <td>27</td>\n",
              "    </tr>\n",
              "    <tr>\n",
              "      <th>8</th>\n",
              "      <td>62</td>\n",
              "    </tr>\n",
              "    <tr>\n",
              "      <th>1</th>\n",
              "      <td>25</td>\n",
              "    </tr>\n",
              "    <tr>\n",
              "      <th>0</th>\n",
              "      <td>22</td>\n",
              "    </tr>\n",
              "    <tr>\n",
              "      <th>6</th>\n",
              "      <td>55</td>\n",
              "    </tr>\n",
              "    <tr>\n",
              "      <th>9</th>\n",
              "      <td>61</td>\n",
              "    </tr>\n",
              "    <tr>\n",
              "      <th>15</th>\n",
              "      <td>55</td>\n",
              "    </tr>\n",
              "    <tr>\n",
              "      <th>23</th>\n",
              "      <td>45</td>\n",
              "    </tr>\n",
              "    <tr>\n",
              "      <th>20</th>\n",
              "      <td>21</td>\n",
              "    </tr>\n",
              "    <tr>\n",
              "      <th>4</th>\n",
              "      <td>46</td>\n",
              "    </tr>\n",
              "    <tr>\n",
              "      <th>25</th>\n",
              "      <td>54</td>\n",
              "    </tr>\n",
              "    <tr>\n",
              "      <th>3</th>\n",
              "      <td>52</td>\n",
              "    </tr>\n",
              "    <tr>\n",
              "      <th>16</th>\n",
              "      <td>25</td>\n",
              "    </tr>\n",
              "    <tr>\n",
              "      <th>14</th>\n",
              "      <td>49</td>\n",
              "    </tr>\n",
              "    <tr>\n",
              "      <th>17</th>\n",
              "      <td>58</td>\n",
              "    </tr>\n",
              "  </tbody>\n",
              "</table>\n",
              "</div>\n",
              "      <button class=\"colab-df-convert\" onclick=\"convertToInteractive('df-3c53ba69-ffb9-4c21-94f4-7a2d1fa57a82')\"\n",
              "              title=\"Convert this dataframe to an interactive table.\"\n",
              "              style=\"display:none;\">\n",
              "        \n",
              "  <svg xmlns=\"http://www.w3.org/2000/svg\" height=\"24px\"viewBox=\"0 0 24 24\"\n",
              "       width=\"24px\">\n",
              "    <path d=\"M0 0h24v24H0V0z\" fill=\"none\"/>\n",
              "    <path d=\"M18.56 5.44l.94 2.06.94-2.06 2.06-.94-2.06-.94-.94-2.06-.94 2.06-2.06.94zm-11 1L8.5 8.5l.94-2.06 2.06-.94-2.06-.94L8.5 2.5l-.94 2.06-2.06.94zm10 10l.94 2.06.94-2.06 2.06-.94-2.06-.94-.94-2.06-.94 2.06-2.06.94z\"/><path d=\"M17.41 7.96l-1.37-1.37c-.4-.4-.92-.59-1.43-.59-.52 0-1.04.2-1.43.59L10.3 9.45l-7.72 7.72c-.78.78-.78 2.05 0 2.83L4 21.41c.39.39.9.59 1.41.59.51 0 1.02-.2 1.41-.59l7.78-7.78 2.81-2.81c.8-.78.8-2.07 0-2.86zM5.41 20L4 18.59l7.72-7.72 1.47 1.35L5.41 20z\"/>\n",
              "  </svg>\n",
              "      </button>\n",
              "      \n",
              "  <style>\n",
              "    .colab-df-container {\n",
              "      display:flex;\n",
              "      flex-wrap:wrap;\n",
              "      gap: 12px;\n",
              "    }\n",
              "\n",
              "    .colab-df-convert {\n",
              "      background-color: #E8F0FE;\n",
              "      border: none;\n",
              "      border-radius: 50%;\n",
              "      cursor: pointer;\n",
              "      display: none;\n",
              "      fill: #1967D2;\n",
              "      height: 32px;\n",
              "      padding: 0 0 0 0;\n",
              "      width: 32px;\n",
              "    }\n",
              "\n",
              "    .colab-df-convert:hover {\n",
              "      background-color: #E2EBFA;\n",
              "      box-shadow: 0px 1px 2px rgba(60, 64, 67, 0.3), 0px 1px 3px 1px rgba(60, 64, 67, 0.15);\n",
              "      fill: #174EA6;\n",
              "    }\n",
              "\n",
              "    [theme=dark] .colab-df-convert {\n",
              "      background-color: #3B4455;\n",
              "      fill: #D2E3FC;\n",
              "    }\n",
              "\n",
              "    [theme=dark] .colab-df-convert:hover {\n",
              "      background-color: #434B5C;\n",
              "      box-shadow: 0px 1px 3px 1px rgba(0, 0, 0, 0.15);\n",
              "      filter: drop-shadow(0px 1px 2px rgba(0, 0, 0, 0.3));\n",
              "      fill: #FFFFFF;\n",
              "    }\n",
              "  </style>\n",
              "\n",
              "      <script>\n",
              "        const buttonEl =\n",
              "          document.querySelector('#df-3c53ba69-ffb9-4c21-94f4-7a2d1fa57a82 button.colab-df-convert');\n",
              "        buttonEl.style.display =\n",
              "          google.colab.kernel.accessAllowed ? 'block' : 'none';\n",
              "\n",
              "        async function convertToInteractive(key) {\n",
              "          const element = document.querySelector('#df-3c53ba69-ffb9-4c21-94f4-7a2d1fa57a82');\n",
              "          const dataTable =\n",
              "            await google.colab.kernel.invokeFunction('convertToInteractive',\n",
              "                                                     [key], {});\n",
              "          if (!dataTable) return;\n",
              "\n",
              "          const docLinkHtml = 'Like what you see? Visit the ' +\n",
              "            '<a target=\"_blank\" href=https://colab.research.google.com/notebooks/data_table.ipynb>data table notebook</a>'\n",
              "            + ' to learn more about interactive tables.';\n",
              "          element.innerHTML = '';\n",
              "          dataTable['output_type'] = 'display_data';\n",
              "          await google.colab.output.renderOutput(dataTable, element);\n",
              "          const docLink = document.createElement('div');\n",
              "          docLink.innerHTML = docLinkHtml;\n",
              "          element.appendChild(docLink);\n",
              "        }\n",
              "      </script>\n",
              "    </div>\n",
              "  </div>\n",
              "  "
            ]
          },
          "metadata": {},
          "execution_count": 8
        }
      ]
    },
    {
      "cell_type": "code",
      "source": [
        "from sklearn.linear_model import LogisticRegression"
      ],
      "metadata": {
        "id": "junVMsMUgT32"
      },
      "execution_count": 9,
      "outputs": []
    },
    {
      "cell_type": "code",
      "source": [
        "model = LogisticRegression()\n",
        "model.fit(X_train, y_train)"
      ],
      "metadata": {
        "colab": {
          "base_uri": "https://localhost:8080/"
        },
        "id": "ygic3ItcgvLW",
        "outputId": "c7e64cd6-73cb-4850-acf1-711e16b1958d"
      },
      "execution_count": 10,
      "outputs": [
        {
          "output_type": "execute_result",
          "data": {
            "text/plain": [
              "LogisticRegression()"
            ]
          },
          "metadata": {},
          "execution_count": 10
        }
      ]
    },
    {
      "cell_type": "code",
      "source": [
        "model.predict(X_test)"
      ],
      "metadata": {
        "colab": {
          "base_uri": "https://localhost:8080/"
        },
        "id": "Wj4_RuLmhFm_",
        "outputId": "94090f62-6234-4e4c-87c4-dd3a857f9ce2"
      },
      "execution_count": 11,
      "outputs": [
        {
          "output_type": "execute_result",
          "data": {
            "text/plain": [
              "array([1, 0, 0])"
            ]
          },
          "metadata": {},
          "execution_count": 11
        }
      ]
    },
    {
      "cell_type": "code",
      "source": [
        "X_test"
      ],
      "metadata": {
        "colab": {
          "base_uri": "https://localhost:8080/",
          "height": 143
        },
        "id": "IwqKj9VZhRte",
        "outputId": "255c82e8-cd33-44cd-f3db-aa93068106fc"
      },
      "execution_count": 12,
      "outputs": [
        {
          "output_type": "execute_result",
          "data": {
            "text/plain": [
              "    age\n",
              "24   50\n",
              "21   26\n",
              "11   28"
            ],
            "text/html": [
              "\n",
              "  <div id=\"df-41bff714-bf01-4d0b-abc0-4c41134a86df\">\n",
              "    <div class=\"colab-df-container\">\n",
              "      <div>\n",
              "<style scoped>\n",
              "    .dataframe tbody tr th:only-of-type {\n",
              "        vertical-align: middle;\n",
              "    }\n",
              "\n",
              "    .dataframe tbody tr th {\n",
              "        vertical-align: top;\n",
              "    }\n",
              "\n",
              "    .dataframe thead th {\n",
              "        text-align: right;\n",
              "    }\n",
              "</style>\n",
              "<table border=\"1\" class=\"dataframe\">\n",
              "  <thead>\n",
              "    <tr style=\"text-align: right;\">\n",
              "      <th></th>\n",
              "      <th>age</th>\n",
              "    </tr>\n",
              "  </thead>\n",
              "  <tbody>\n",
              "    <tr>\n",
              "      <th>24</th>\n",
              "      <td>50</td>\n",
              "    </tr>\n",
              "    <tr>\n",
              "      <th>21</th>\n",
              "      <td>26</td>\n",
              "    </tr>\n",
              "    <tr>\n",
              "      <th>11</th>\n",
              "      <td>28</td>\n",
              "    </tr>\n",
              "  </tbody>\n",
              "</table>\n",
              "</div>\n",
              "      <button class=\"colab-df-convert\" onclick=\"convertToInteractive('df-41bff714-bf01-4d0b-abc0-4c41134a86df')\"\n",
              "              title=\"Convert this dataframe to an interactive table.\"\n",
              "              style=\"display:none;\">\n",
              "        \n",
              "  <svg xmlns=\"http://www.w3.org/2000/svg\" height=\"24px\"viewBox=\"0 0 24 24\"\n",
              "       width=\"24px\">\n",
              "    <path d=\"M0 0h24v24H0V0z\" fill=\"none\"/>\n",
              "    <path d=\"M18.56 5.44l.94 2.06.94-2.06 2.06-.94-2.06-.94-.94-2.06-.94 2.06-2.06.94zm-11 1L8.5 8.5l.94-2.06 2.06-.94-2.06-.94L8.5 2.5l-.94 2.06-2.06.94zm10 10l.94 2.06.94-2.06 2.06-.94-2.06-.94-.94-2.06-.94 2.06-2.06.94z\"/><path d=\"M17.41 7.96l-1.37-1.37c-.4-.4-.92-.59-1.43-.59-.52 0-1.04.2-1.43.59L10.3 9.45l-7.72 7.72c-.78.78-.78 2.05 0 2.83L4 21.41c.39.39.9.59 1.41.59.51 0 1.02-.2 1.41-.59l7.78-7.78 2.81-2.81c.8-.78.8-2.07 0-2.86zM5.41 20L4 18.59l7.72-7.72 1.47 1.35L5.41 20z\"/>\n",
              "  </svg>\n",
              "      </button>\n",
              "      \n",
              "  <style>\n",
              "    .colab-df-container {\n",
              "      display:flex;\n",
              "      flex-wrap:wrap;\n",
              "      gap: 12px;\n",
              "    }\n",
              "\n",
              "    .colab-df-convert {\n",
              "      background-color: #E8F0FE;\n",
              "      border: none;\n",
              "      border-radius: 50%;\n",
              "      cursor: pointer;\n",
              "      display: none;\n",
              "      fill: #1967D2;\n",
              "      height: 32px;\n",
              "      padding: 0 0 0 0;\n",
              "      width: 32px;\n",
              "    }\n",
              "\n",
              "    .colab-df-convert:hover {\n",
              "      background-color: #E2EBFA;\n",
              "      box-shadow: 0px 1px 2px rgba(60, 64, 67, 0.3), 0px 1px 3px 1px rgba(60, 64, 67, 0.15);\n",
              "      fill: #174EA6;\n",
              "    }\n",
              "\n",
              "    [theme=dark] .colab-df-convert {\n",
              "      background-color: #3B4455;\n",
              "      fill: #D2E3FC;\n",
              "    }\n",
              "\n",
              "    [theme=dark] .colab-df-convert:hover {\n",
              "      background-color: #434B5C;\n",
              "      box-shadow: 0px 1px 3px 1px rgba(0, 0, 0, 0.15);\n",
              "      filter: drop-shadow(0px 1px 2px rgba(0, 0, 0, 0.3));\n",
              "      fill: #FFFFFF;\n",
              "    }\n",
              "  </style>\n",
              "\n",
              "      <script>\n",
              "        const buttonEl =\n",
              "          document.querySelector('#df-41bff714-bf01-4d0b-abc0-4c41134a86df button.colab-df-convert');\n",
              "        buttonEl.style.display =\n",
              "          google.colab.kernel.accessAllowed ? 'block' : 'none';\n",
              "\n",
              "        async function convertToInteractive(key) {\n",
              "          const element = document.querySelector('#df-41bff714-bf01-4d0b-abc0-4c41134a86df');\n",
              "          const dataTable =\n",
              "            await google.colab.kernel.invokeFunction('convertToInteractive',\n",
              "                                                     [key], {});\n",
              "          if (!dataTable) return;\n",
              "\n",
              "          const docLinkHtml = 'Like what you see? Visit the ' +\n",
              "            '<a target=\"_blank\" href=https://colab.research.google.com/notebooks/data_table.ipynb>data table notebook</a>'\n",
              "            + ' to learn more about interactive tables.';\n",
              "          element.innerHTML = '';\n",
              "          dataTable['output_type'] = 'display_data';\n",
              "          await google.colab.output.renderOutput(dataTable, element);\n",
              "          const docLink = document.createElement('div');\n",
              "          docLink.innerHTML = docLinkHtml;\n",
              "          element.appendChild(docLink);\n",
              "        }\n",
              "      </script>\n",
              "    </div>\n",
              "  </div>\n",
              "  "
            ]
          },
          "metadata": {},
          "execution_count": 12
        }
      ]
    },
    {
      "cell_type": "code",
      "source": [
        "# Accuracy of the Prediction Model.\n",
        "model.score(X_test,y_test)"
      ],
      "metadata": {
        "colab": {
          "base_uri": "https://localhost:8080/"
        },
        "id": "PtOxIOWMhWjW",
        "outputId": "c6e45685-1a5b-4da0-b83b-e9766ab123cd"
      },
      "execution_count": 13,
      "outputs": [
        {
          "output_type": "execute_result",
          "data": {
            "text/plain": [
              "1.0"
            ]
          },
          "metadata": {},
          "execution_count": 13
        }
      ]
    },
    {
      "cell_type": "code",
      "source": [
        "model.predict_proba(X_test)"
      ],
      "metadata": {
        "colab": {
          "base_uri": "https://localhost:8080/"
        },
        "id": "Wl_yLNv7hw8u",
        "outputId": "c1bcd484-7850-4049-cf0e-f3106cee2f0a"
      },
      "execution_count": 14,
      "outputs": [
        {
          "output_type": "execute_result",
          "data": {
            "text/plain": [
              "array([[0.19070477, 0.80929523],\n",
              "       [0.82013788, 0.17986212],\n",
              "       [0.78080927, 0.21919073]])"
            ]
          },
          "metadata": {},
          "execution_count": 14
        }
      ]
    },
    {
      "cell_type": "code",
      "source": [
        "X_test"
      ],
      "metadata": {
        "colab": {
          "base_uri": "https://localhost:8080/",
          "height": 143
        },
        "id": "OBmhcqDaiBl2",
        "outputId": "6980a3e9-7878-410f-fa9e-b8f7daea1147"
      },
      "execution_count": 15,
      "outputs": [
        {
          "output_type": "execute_result",
          "data": {
            "text/plain": [
              "    age\n",
              "24   50\n",
              "21   26\n",
              "11   28"
            ],
            "text/html": [
              "\n",
              "  <div id=\"df-59f3ddc8-3e72-48f1-8e8f-d55cccee37b2\">\n",
              "    <div class=\"colab-df-container\">\n",
              "      <div>\n",
              "<style scoped>\n",
              "    .dataframe tbody tr th:only-of-type {\n",
              "        vertical-align: middle;\n",
              "    }\n",
              "\n",
              "    .dataframe tbody tr th {\n",
              "        vertical-align: top;\n",
              "    }\n",
              "\n",
              "    .dataframe thead th {\n",
              "        text-align: right;\n",
              "    }\n",
              "</style>\n",
              "<table border=\"1\" class=\"dataframe\">\n",
              "  <thead>\n",
              "    <tr style=\"text-align: right;\">\n",
              "      <th></th>\n",
              "      <th>age</th>\n",
              "    </tr>\n",
              "  </thead>\n",
              "  <tbody>\n",
              "    <tr>\n",
              "      <th>24</th>\n",
              "      <td>50</td>\n",
              "    </tr>\n",
              "    <tr>\n",
              "      <th>21</th>\n",
              "      <td>26</td>\n",
              "    </tr>\n",
              "    <tr>\n",
              "      <th>11</th>\n",
              "      <td>28</td>\n",
              "    </tr>\n",
              "  </tbody>\n",
              "</table>\n",
              "</div>\n",
              "      <button class=\"colab-df-convert\" onclick=\"convertToInteractive('df-59f3ddc8-3e72-48f1-8e8f-d55cccee37b2')\"\n",
              "              title=\"Convert this dataframe to an interactive table.\"\n",
              "              style=\"display:none;\">\n",
              "        \n",
              "  <svg xmlns=\"http://www.w3.org/2000/svg\" height=\"24px\"viewBox=\"0 0 24 24\"\n",
              "       width=\"24px\">\n",
              "    <path d=\"M0 0h24v24H0V0z\" fill=\"none\"/>\n",
              "    <path d=\"M18.56 5.44l.94 2.06.94-2.06 2.06-.94-2.06-.94-.94-2.06-.94 2.06-2.06.94zm-11 1L8.5 8.5l.94-2.06 2.06-.94-2.06-.94L8.5 2.5l-.94 2.06-2.06.94zm10 10l.94 2.06.94-2.06 2.06-.94-2.06-.94-.94-2.06-.94 2.06-2.06.94z\"/><path d=\"M17.41 7.96l-1.37-1.37c-.4-.4-.92-.59-1.43-.59-.52 0-1.04.2-1.43.59L10.3 9.45l-7.72 7.72c-.78.78-.78 2.05 0 2.83L4 21.41c.39.39.9.59 1.41.59.51 0 1.02-.2 1.41-.59l7.78-7.78 2.81-2.81c.8-.78.8-2.07 0-2.86zM5.41 20L4 18.59l7.72-7.72 1.47 1.35L5.41 20z\"/>\n",
              "  </svg>\n",
              "      </button>\n",
              "      \n",
              "  <style>\n",
              "    .colab-df-container {\n",
              "      display:flex;\n",
              "      flex-wrap:wrap;\n",
              "      gap: 12px;\n",
              "    }\n",
              "\n",
              "    .colab-df-convert {\n",
              "      background-color: #E8F0FE;\n",
              "      border: none;\n",
              "      border-radius: 50%;\n",
              "      cursor: pointer;\n",
              "      display: none;\n",
              "      fill: #1967D2;\n",
              "      height: 32px;\n",
              "      padding: 0 0 0 0;\n",
              "      width: 32px;\n",
              "    }\n",
              "\n",
              "    .colab-df-convert:hover {\n",
              "      background-color: #E2EBFA;\n",
              "      box-shadow: 0px 1px 2px rgba(60, 64, 67, 0.3), 0px 1px 3px 1px rgba(60, 64, 67, 0.15);\n",
              "      fill: #174EA6;\n",
              "    }\n",
              "\n",
              "    [theme=dark] .colab-df-convert {\n",
              "      background-color: #3B4455;\n",
              "      fill: #D2E3FC;\n",
              "    }\n",
              "\n",
              "    [theme=dark] .colab-df-convert:hover {\n",
              "      background-color: #434B5C;\n",
              "      box-shadow: 0px 1px 3px 1px rgba(0, 0, 0, 0.15);\n",
              "      filter: drop-shadow(0px 1px 2px rgba(0, 0, 0, 0.3));\n",
              "      fill: #FFFFFF;\n",
              "    }\n",
              "  </style>\n",
              "\n",
              "      <script>\n",
              "        const buttonEl =\n",
              "          document.querySelector('#df-59f3ddc8-3e72-48f1-8e8f-d55cccee37b2 button.colab-df-convert');\n",
              "        buttonEl.style.display =\n",
              "          google.colab.kernel.accessAllowed ? 'block' : 'none';\n",
              "\n",
              "        async function convertToInteractive(key) {\n",
              "          const element = document.querySelector('#df-59f3ddc8-3e72-48f1-8e8f-d55cccee37b2');\n",
              "          const dataTable =\n",
              "            await google.colab.kernel.invokeFunction('convertToInteractive',\n",
              "                                                     [key], {});\n",
              "          if (!dataTable) return;\n",
              "\n",
              "          const docLinkHtml = 'Like what you see? Visit the ' +\n",
              "            '<a target=\"_blank\" href=https://colab.research.google.com/notebooks/data_table.ipynb>data table notebook</a>'\n",
              "            + ' to learn more about interactive tables.';\n",
              "          element.innerHTML = '';\n",
              "          dataTable['output_type'] = 'display_data';\n",
              "          await google.colab.output.renderOutput(dataTable, element);\n",
              "          const docLink = document.createElement('div');\n",
              "          docLink.innerHTML = docLinkHtml;\n",
              "          element.appendChild(docLink);\n",
              "        }\n",
              "      </script>\n",
              "    </div>\n",
              "  </div>\n",
              "  "
            ]
          },
          "metadata": {},
          "execution_count": 15
        }
      ]
    },
    {
      "cell_type": "code",
      "source": [
        "model.predict([[30]])\n"
      ],
      "metadata": {
        "colab": {
          "base_uri": "https://localhost:8080/"
        },
        "id": "_UzUX7EbiK-2",
        "outputId": "f27b306a-547f-44f2-90aa-b2bfd4ec92c0"
      },
      "execution_count": 16,
      "outputs": [
        {
          "output_type": "execute_result",
          "data": {
            "text/plain": [
              "array([0])"
            ]
          },
          "metadata": {},
          "execution_count": 16
        }
      ]
    },
    {
      "cell_type": "code",
      "source": [
        "model.predict([[35]])"
      ],
      "metadata": {
        "colab": {
          "base_uri": "https://localhost:8080/"
        },
        "id": "RXUTua0dighO",
        "outputId": "ab494666-4305-4674-e75b-ec194c066e0a"
      },
      "execution_count": 17,
      "outputs": [
        {
          "output_type": "execute_result",
          "data": {
            "text/plain": [
              "array([0])"
            ]
          },
          "metadata": {},
          "execution_count": 17
        }
      ]
    },
    {
      "cell_type": "code",
      "source": [
        "\n",
        "model.predict([[39]])"
      ],
      "metadata": {
        "colab": {
          "base_uri": "https://localhost:8080/"
        },
        "id": "MgOZsn6HjDSm",
        "outputId": "2d83f014-b032-4d7b-c40d-5b48dad8187a"
      },
      "execution_count": 18,
      "outputs": [
        {
          "output_type": "execute_result",
          "data": {
            "text/plain": [
              "array([1])"
            ]
          },
          "metadata": {},
          "execution_count": 18
        }
      ]
    },
    {
      "cell_type": "markdown",
      "source": [
        "![sigmoid.jpg](data:image/jpeg;base64,UklGRrJLAABXRUJQVlA4IKZLAADwHwKdASosBUwDPm02mUkkIyKiIVMoqIANiWlu/+q41fplU1Iuln1JjU+N9gFfUF5Y/xn9ruxW+f5nm4+ZNTD9911R5ux/9//YvbF6bPu79wDnz+YX9ePWj9D39k9QD+cf1n/7djH6A/lmfuJ8Pv7Zfu37Xmqy+WP7j+U3hF/h/8H/jv9z4nvsn89+WPxj/nOYvsw1Tflv3m/Y/5H9yf7p87v5H/i/4j9p/8B6N/Kz/R9QX8x/ov+X/MzgugA/m/9X/3H+E/yH7afFt83/2P8l6pfar/o+4D/Qv7v/yPXv/teDD+M/7fsB/zb/G//H/Weyj/7f6rz9fVv7VfAj/O/71/4vXn///uV/dX///9L4Qf2g////yC1AymqnxQs2HaatNVPihZsO01aaqfFCzYdpq01U+KFmw7TVpqp8ULNh2mrTVT4oWbDtNWmqnxQs2HaatNVPihZsO01aaqfFCzYdpq01U+KFmw7TVpqp8ULNh2mrTVT4oWbDtNWmqnxQs2HaatNVPihZf6M/tW0Jrz15Kckjy162v5BJ47Z+pSxLekt4eGrW2Z83OjjkHckC5yhVtELnoMcKJ1U0H28qmOM7GAeMslahz++LdrXqeKoU/bl0VplHK5OZZ2wn1Qti+Zf/PWxdyPumztcbG3D0hbMNp9xU/H8OjYphKDkMwWF665pbJ7RlUHMMX93Q2YBNqiZUfS0uOuVF0MdGrySjo8s2aEFE/+eWkkZjunIrt2O/HdZ4zs/vD+eskVlPFib6TDG6HJMBg9JtNH1IP/7CImUDYl3NFhZg6gHh19yQcM6cly6PJIGCRZeG8z2RguMncVFW1+0gxZsSHcfyq4jmUgL3fJd2oML2+nO2w+7laiBcVgfdgmhaMTk719SyeDjE2fXS7nn58knWFAl2Sfm5ypbY8LRtTQ3an7E42EnYurQXkYo2pIvkIfow83ceQTFOCYPpDYESx1U1jkD7Kvkkaae6t8TMvhysoUfiHjfr3Kk6PXU+AbHbqQ8Ru7YuO71E+akYQXmQIqzjyPUh+JDTFT0dLQRDxEPvAHiGk8CwDcVzgv6Z0+rFujPFAnE5yFbiK8hPp41UNHlbSo6hQ4s1lCFyv5OaM27SfJ24HHmkmbYOW3xkVy26Gt0UOfhC8hMVrdaynrTZqUvmRpPBKZCXXtgPW8ht5GaEgoKW6KHK+hwnHOwh0mqbipGhVsTDzJnBRH2T2/wip0A+I1xOzrBSXe1Ycf+9cpFk2A6c9b2DhHTVJaxOfkVrYMrlW11K825RzDzkeoDUuT7G3mLv8YRBONPBu+51A4DH/n0K0o3ZrU8mtBJNmbRXPg+VV54xZc7vWql4mId+gwqYD3ALYOOqSEcQFkZ/xmUfVP+nN9DBxQDbDttOaOIs9p6ij8hU8/LhosLPPw2iZxvtV5awuwI8hroCFGFndkjvEha3v4PmjopkhqkHz7MICFEYTo6MbsN26N1BaAOsb/ejxezdfq72u5mrIp70K2rTV9UswqElYmY/8yq1k/wxgG2JVRGg0Eq7ybnjanPDyX9l4lxe3yEi9ht/cUe4EvgtozOyL3wSt7ANdv4dFo91LfrgnVkndVCrtg6vStt+9nni6AY8PM/RMwWC6nBBLS3Me4QEr1IKQu3LwU+dVz/aPNkzKKPwWQ1bE0Ov7bsg7U8hS4QffJ8krPo7W92trm6Gr4mFGEYIIF5zx5XWCnPWX2wXHimV4KL0LN9AD0w1Tzdh/IgZgLLKMQbyCX7KYBolhiCjdBgR+Jmd2le5SOXD3geqH9EK1wQ8cERXQMYdpq01U+KFmw7TVpqp8ULNh2mrTVT4oWbDtNWmqnxQs2HaatNVPihZq5R0RgvRR2jcEG9Dq4B4y7MeTOiTBLeh0p8lgN1lKncXoWWZj6QERI+cuTw2GZYnyGQ7v9+1jQYynQdmqxltvRQHkq95WURmPrC7IHySqK4y7xXYZtR61kwoWYOIKaGhjj6ym0ezrXrI/a6hVEPb2y8fcc01Uaddx6rTJzgDn1jc7MBVLCsOyNgiCcs53I440pxjFJjIIcunpnvFnAqC1ZoP18x7vpAErOok7sDcV8QjL8mmqWCFu5SpGnCxVXQciSxv0s1+AU3FdPX1deQslW6bbbOKHvTZaFZMlSdBoFML/nu4N4FYdMjLnw3DX/V7xSXD2kZN8lS4MeanZqkLsF3xyvBBBZ1fu3nqhpxtAeM0NtiitNDIDl7q3WcITK57fBS0ISQprO2mg2qfprNh2mrTVT4miGNCHMDVTA4A8g+JF+cllPS/1J2xDSOGIDwHmxiZSidVGUfK9Zo4Bih4h/WbQkckTjo8WobFxHTYUMAn0Zc+8oXNo1E0bV8UKktGRTIignrfhrOoOTHZ4h41I2zUlV6HOgenbsmDbCJVU7Z0j/GwI9vaHR6SrjoIPMGnpe0dG+oR7rJ/vkaCK5I3WBhUWLc1P7d1v67lpw5ObG2WVZk9hDdjrp+SPKmGdRP49Ke6eAFlxlDcg/SODu0Yp3xMGGGO1cZbkCoA5qD8uMw248Wo+hU7aeh3YmSsXw0wE0QxJxQxCFfYpDjD/BwxppTAi2xr749b7VWsuPMICUGtoT0xBR1GYgR8OQGOuH1rcSJlbJ2R8/16i8CoILNh2mrTVT4SAO21OuHYyo/5+vJhEE6zoA5CxIBIHw9NkNKdvrQF5lBfFRDEX5IP+cI0bCpIDlAQQwGfiKPY2+J2AKjhkHOHDC+LG/D7LKui/zeiKjNBcoFrQQVsuFvuwB3UmCqQ9oNkIKjiT3gxQDP/6wyirsHKAVeZW9YNJXU5CVk1oh/G4kpjoIS2JT5APqyXftzG01U+KFmw7TVpqp8ULNh2mrTVT4oWbDtNWmqnxQs2HaatNVPihZsO01aaqfFCzYdpq01U+KFmw7TVpqp8ULNh2mrTVT4oWbDtNWmqnxQs2HaatNVPibFZJzoQ5VyIcq5EM+ksxMQ5VyIcq5EOUSE3BLTbhFptwi0j/VI3XAZyrkQ5VyIZ9ARXr6qfFCzYdpq01U9lXgkm4kBaYlENr+Ux/EcnrIFpiUQ3M14PPdx4LiQFpiNT7dZuPBcSAtMSiEN2j52mrTVT4oWbDtNWmT9UYOi3+VGGfrLSFPiBP8qMM/WWkKfECf5UYqpQEXSgIulARx2XOoRZFwY2i7W9dNY54g/RdOpddSLdTtr3hsyTPCj1p/LD59+dELHzdm/m2iYcUtqmZARMBZoU9VbkFWmqnxQs2HaatNVZLIKtNVPizNkFWmqnzU8ympXQMifj/1JPHr/+fW0vkfL6Wj81KJvkiRsFsXbiIL2QQ8nrIFo2iqrphfTVpqp8ULNh2mrTa8OyCrTVUDCA7TVpqrJZBVMnpGawnreVLOhB8aNlQVy7VT4oWcPKHaatNVPihZsO01ajVsO01aaqu7GHaatNXFV9NN8f9if5TfWrcOyMKRdrTVT4oYxzVT4oWbDtNWmqnxRmCmqnxQs3yOyCrTVUFRgOZGjUtlxad9tJfTW7F2QVaaqgqMDKaqfFCzYdpq01Vksgq01U+LM2QVaaqfNTx3bUxHXxW3BLilQTzhuIDYdpyhCzYdpq01U+KFmw7WTKFmw7TVvJuIDYdprc/jCdJHRhHxAbEJf0+KFmw73oKFmw7TVpqp8ULNhEXWCIXZXUhp706xvZCdKAi6UBF0oFuOk3IaH9C1pYQj0sz086EOVbrNHj5/c2Mkb2QnWTao8ZDDTVT4oWbDtNWmqnxbfymqnxQtKdh2mrTVWStBKSacRngULNiAlSc/ChZsO05QhZsO01aaqfFCzYdrJlCzYdpq3k3EBsO01uYNJ2DirxfCp6O01abKucbRfVT4oWnb+ZTVT4oWbDtNWmqslkFWmqnxZmyCrTVT5qEmBkUYbxSoGxASpOfhQs2HacoQs2HaatNVPihZsO1kyhZsO01bybiA2Haa2tz4CPB6a2Fmw7Tgsjck6atNVPmp5lNVPihZsO01aaqgqMDKaqfFFv6atNVPi1ZnjNWe71cyCrTVVnF0rkDKaqfFt/KaqfFCzYdpq01U9OingPS09aVlp60rLT1pWWnulARdKAi6UA9SlB1hcaIw5rJ+kQaWN7ITpML8UUBF0oCLpMa+5p2pxAbDtNWmqnxQs2ISOKVA2HaVzIsyoGw7TVOzgd2/8FnZah0UqBsPGYi+qnxQsTOLwKtNVPihZsO01aaqgqMDKaqfFFv6atNVPhDLVhAPbX4iNWmqnxbpap8ULNiEjilQNh2mrTVT4oWbJD5TVT4oWlOw7TVpqkiMsIW4OnmQGw7TVwa/01aaqfNTzKaqfFCzYdpq01VBUYGU1U+KLf01aaqejBmOzpk25L6atNVZT0bVT4oWnb+ZTVT4oWbDtNWmqslkFWmqnxZmyCrTVTBx2svtZf4koCmrTVT4t0tU+KFmxCRxSoGw7TVpqp8ULNkh8pqp8ULSnYdpq000JcEdNehHNVPihZwWJxAbDtNbn9NWmqnxQs2HaatNOnQfUb96ZQEXSgIulARdKAi6T84z4poffFupNQy024RabcItKzAiS4sb2QnSgIsefw0LkFWmqnxQs2HaatNXFV9VPihZvkdkFWmmgeq+7DLX8LIDtNWmrahUDYdpq4KjYdpq01U+KFmw7TW5/TVpqp8WZsgq01SVllx+RyACrTVT4VAo/o2qnxQtO38ymqnxQs2HaatNVZLIKtNVPizNkFWmmmk4Rb2wus1GBlNVPi0Cevqp8UMY5qp8ULNh2mrTVT4ozBTVT4oWb5HZBVpeaX5njkyOKVA2HavI/mU1U+Lb+U1U+KFmw7TVpqp81PMpqp8UMLpq01ScCRJOsbJjwdpq01VfVWbDtNWo1bDtNWmqnxQs2Haat/lPcG9kJ0oCLpQEXSgIqs8ny2rKTNgdl5WN7ITpQEXSgIulARdJ/V6XBAgO01aaqfFCzYdpqo1TDUrSigIulARdKAi6UBFzb3CblLAHqPT8e28F+UBF0oCLnxWoGAi6UBF0oEv2mrTVT4oWbDtNWm14dkFWmqoGEB2mgBdAOQZdxqFbn9NWmqnyzr601U+KFp2/mU1U+KFmw7TVpqrJZBVpqp8WZsgqmder9Iw0NlvmYKjYdpq02ikoWbDtNbn9NWmqnxQs2HaatNXFV9VPihZvkdkBGVUeJjc/8wZKauKr6qfFC0tumrTVT4tv5TVT4oWbDtNWmqnzU8ymqnxQwumiI1RarxgVGdKF2wMwVGw7TVptFJQs2Haa3P6atNVPihZsO01aauKr6qfFCzfC+fGEDq9kuMmxtXpvBhC46hA2He9BQs2HacXUQGw7TVwVGw7TVpqp8ULNh2mgw+WoTUrc2htDcVMx7inFOIQTmjx0FCfBMJBR1bcwow1bhIwBgXMbW9V5aP+Lo6iaP/0WUvUxND6vA2oQ5VyFp9M/xwhnKuRDlXIhyl3zxUi6NmjDotR17BeBiHZRyOvYLwMQ7KOR17BeBcd546vKfFCzYdpq01U+KFpUE/SdiSO0u8NWoonfu48FxILbbiOT1kC0xLUp5Y8bVT4oW0EymqnxQs2HaatNVPTn356zsU9Z2Kes7EApHXKuRDlXIhyrkQ0ng9EyYeQ5xrfzZKSPYyylHu1pSR7GWUo92tJQvNTM0B3o5670c9d6Oc+OBVQA2HaatNVPihZsO01aaqfFCzYdpq01U+KFmw7TVpqp8ULNh2mrTVT4oWbDtNWmqnxQs2HaatNVPihZsO01aaqfFCzYdpq01U+KFmw7TVpqp8ULNh2mrTVT4oWbDtNWmqnxQs2HaatNVPihZsO01aaqfFCzYdpqmAAP7/ncgAAAAAAAAR3lKhZe/WaDwVXeRPd4PQHUIaaXqcveFn1BbpI52OdnnSvpGwdWuY9ptA/U8kkwKlkSNArmz/RfaqzmMH9TUCwyqR1hc6q19nriigLXOlezdh8RGyNhAZokitBtu4Yo9/Y82/qPWgPugvj8/0+uQotLqgO3EhZvw80OL14c267I5sXCiaiqDJhWsQYE54AoGCAWpEHpptosioIBP4DvmeluFj9TmaXe5tdrkcCGzeFamskMSDZxjsccwkIUIiBEwD/cYs9XS+I8QcZMU2QGBiFk8QrMgvJt8oh07M5Yuv0q86RM9JMVyVg6qH7VALdaNQO92JbNClcDWMta165+41xYccDcBcbSZst1lDnDsBVbgb0zZjVsECGP0TEBQOzVBymjBviZDGDYzxFjaTTqucu5um5DdC5uJICgzLpaMCzxYdCwwxToxLFcJ4oVAM+80xxsHn+IOEfZEE0q7uFfNEbVaaxTW2AyP8LiIefTMyRf/gLHCQFLCpivuXlgwJLUiBKlhWOcpI/QpYTpeN3yW+0HCxqm+Oszyom8YY7vIYfhqvixcjpnaB4ssgk7ToZ/GqUSxnI4TTYJgjwTRu5YgmOD8XVuZdZcuRM0QRKlfS69a9ggahQjkQWK/NCupFhWsBzwPqGG3v/mGCPzwJAqy4pWL9OqmH7VyXiZ55ivawrXmQqnTaXoJonMxVGYWf5rbYTICnbctkdk2m0WSIAFqvFnVSKOwoFnusCvElOseiuLgCBKa0VUW5ibY72DDTjYlcDWSKTJQ61lBeSMURlJkABptXATnmdBbG/rGVLqw93HTnoI0XxRIvaksd9vrc6sLukSHHMGzVZK/lrvcaf3T5NBagjiqFxE3GVFoqiP91qF9ECwP/f3RgCsAqeG556etRn2GxOORCWAjhNLUowAY50VyZFlsMA5mXy3BziSlZtonKjdrfXeanjnp2n6NWU1vIyy6iifXpYz6WpeVxhz05+Y0CaW6AP/gdgE5RPhDcGgRHtJM/MaI3d3qybszd4j8rs+hqkaQdJCyzrlqXH3JgrzuIUX2rlHcuthRcz0pyuox4bQwzjr4D/RSwYzgFWqRGBSckvN2JUPFm7zmFf0XdIZp9P2bvvpDPJkvDbTJJP/KVxByPg+TRsUGbIPdgWxV8gR15iCsObodu+S9OV1Vj/1Q8edh8DMv82Z6TwihbM8bAnORVusMzoVtbeBsKD2M95SNwlfH868pdcUaSLOPVI1IssWKI0ju6VQqG3Loyi6xOhva1AU6X97mPjjEyeyeULPn/bb6IGvO8+S3qNDI2DJP/osrb46J0tPZlycZKzQyupg1slGF4Sf/m+AqAKxrNlfmIlSm4Ev8yMl3XoClbJEymnvoS1NFcTNL60+VCmGSNG8pSTX7r2tNEHI4w4wfzdXRIOhTmamDefAK+24s55kd/tX9tUL3Va8FKMEMHnegjqN6mPhUlGe53YX0wDToAsFyWO2bWKmcPicInqIc/tBJbE7qSaF//JuGhYGbyAHJAhH+iRzdt170BsitcJ+vNMw78ugBayJYOveJnmRtVDoVwxpBmTxQqAZ9uvdiJgW3WczhzfAzL/NmLevdJEyMrLUEeXFzRHfKm9TzKi655Y/LxYa0Rd3nVzCGA5DPVnUUpLV8IkGiaVZNIw67W0QWBnTS7maRnOffeUQ0mo5FOyD6jYooc5CxNrITMR9nIhK1phXkDwcurpm43tVpoh11bl+djft8S8qK2oigwlMDTUHGV6D5wPAt6CxFuL7uArBliqG7jatbO28aNF1aYi4xfZsgNZdnKojp3W6+ryLMmvS/eO7ysDoW3z7q6ZcJIyy6aGPZZsJ6hCeHBKtLLDoEtR8pfIrximpXE1dYLfVr9Zzib7ANJr6JugN9rYEWv/hH7O8Sh1cn8GXZnIG9jTjDP3KkKOVCakAyrufzir1RTqcEMon5rkUnf8Isvw1yFzKZkwcspXooNfMbqwr3KnySu+Sc4ewZ263QBh+Werfdai+EmLP3uZeWQipGMigsG3uNyQPwsV4G3b50sS1L3S0WMrlab4Dh4AgDkagVQRmO1a2C4gOvcJlGJjbAgYvbqNc4Z0W7mli318maTz15Z5sUcPL14FaUZYw18RaQB0BHGo/o6/bu2LFuKEXMhGVEoo3YzTkjA46Y3BrxGfP6bF9k2zOzixJyC9sYSUHp2TbuRxDFRO+8XS3jfx8s3ArM2/wIXn3pGA0mwbLts791hT/Rgy8H0d5np/xO0jv27fOt8FMnHWksCrMJ/2IX1tZoFoSdqt+6+lH46raOjFAAQHn6Tf1SgM2ELQbj/epg17vssAhrIFDcv5w1jlSXhs7xJa/ajEI/zpfMp8hSx7J+7nVM14sx2rWvs9cUUBa5SvoKw/vaGHVCe7Us/v9U9fPodV/QAvHH7+DWhH+T3cDo1zTYqUcqxclpDM36H8Gy0/mGdb4H+u70Wygoxn3N28/w2is+7ltSTVsWeZSU5xxZ42LesWVPvOjXhu7ebtk9HAbjbmM5N3zxs0K6BSevzRa65yAaVSFa2W30/4jqr7pMgXX4ELI7m5uzPVVWoM26o4ZrP1iYrYfFoDra9et7ujWBDvnPybjpPmJbsCjds9CpqNECfk1HcLCXOmXE6bLL1ag9ib+OylN1y9Ouq8ObaOdr1qt0dwU3hn/MI+0+J4Ysj2Ei19WPJjUESoFhpFKiATG3NdN34E8UMQmG1hlYdHSQtpszNqQdOv1wUXjLmUVhyIUmxsTEcU6Bz9yurbrDh3A58+nt1dKjSHKhtu//yoiqPY82bTn+48rE3g3lTxnjWcYHza6g08MA3BsIFW3b8LFngPpqYThzGs4iVuqt12sW7ja2DmI51VrxLrbd88bRyfFXm/zv1kRatDeNp/ZUbq78RZq84Ca/wE15bwBFhqUnmYczRfiXk8Uwlw153Ql3LV6sLU35wjmtm0EGrPqRbpNtNAaLSIP36+1lu85F0cAl1W5R8xs0vY7T9vwnulCfDu76PgtmXTExCYpYVFao7OA7G8cA59o3Zb7P0LUFoIhOqTJb6/0vZgomCOGC+d+HcsuHZwPPH4uhJ8V36a5+7mI1Zeefnq7NH7v8bbJZ6AcnCdv8ppZx/ezPFXHiAQ6ZkC3eZJHoiRZDDLGUxW5cBwCYxQrGa37YaFCmiPgQe2UPlnOzYJ6J9qP0Iv7KTe35yKJVo8ka6sohdyXKzVEbE2QaW3m+2V7QdBTLKxENa0rllROSmuuwpNYQBsfUIgn6wbGkIsvhrbMKskCkq1Cs13H3OAeszYp1tj0yHSiN3AFXX4g5ebFfTviwqNL7dOdjyRd95ojYkeHkapwHFGA7xs35ZNhyQZxv+YA1gNTj1BF0Wl5p6iS/XclkceyKXpy6VjgeIA/32fPuzxO8Sh/zRT7hSzNxmjkh6Xc9u31F+wgycILHd6MsrB6z6KODSnzsadp0bropk2Nj2M4uUDkgtYriI2KicS7oR6SP6XLT+GhVJZc73IazDj4hXV8ggHsgMOkAJpkFfx3xCyoVU7ansOd8HYEOAh/g/A9ZGbmpP11IZVCJEbLUtyrsvYklpHrqZW3YbOzY1uGg5oGLOpUZMx5PJMepQeiKq9mrCFLDjqi6d7cM4m765NMY2L1MO8Mk4Ifvs37h6yyDkJMVc7G1IxLIyvlLhU3Q+Dj+L7c4cndmy3C/9hGaYeUjBWPyuakVQSzLMx4YbMWGx7A5hygsdaDN4o9ahkF4TjJ2Eb8VKm6kSpxkp3Xrcz0vJLUl8vj0dU+Oe79pxccW6KSX8Nf3KIruxPqon3IPz6/yN2NCsNRoTAmxySOjunAktQLo9+qbVLrcmuLBiXXKUYHq6Ym0ZDqeDStPBxuE8AtUZOXnN9yfaDFzwPhRLD6I/OyCktpRcxJhzOkOZ6XCZWBLOaZHdI6yQj5RCgxhVXg+7uupBfDOkqaQlMVic//vklUf54d63na1ML4ORL7SOa+lVvKuY6Z2wC2/Rm0mk/P+0V7X7HGZ3CbG43TwKHeHlcZh32XSYZlDbPLB11SIU3wEjg4hg5XnD6Ys6fnOmSkFjiuB4Mrh4cw0pviTJGyT251fcI+2V5iakUFZTHAXLq9M0oc1/Fj0oyIMJ5Wwpcn87CWXb4i1lUfvMMO3y5hx/7guQVjd3K016nxfrTxjhiNOn3mexd87wu8pUuoq+XETgFDI2TnxR7awYJ0hu41anCB/KYqLV+ILpjRpO0DpEcINh8BHYc4JerCmO6mf7KOHnbnB/UOF/noQZQ5ORuHX5CXe2i4ZM3Y/IpeEgUHXE8t6FzT1fSSaUSgPbVyGTFplgPe9WQA7wgcdcBOphiBwjy+1rK3JbZwGkjQdrIMQ1YcGhK+HypXozydCRUZyTgOyXs0aBpD85O7vgzIDqyJdsPFQkHnlI/cML+pGLgYKyxOfBaC/dK0PtGU/EbHs/9/lh7xchJvAzp7ONvEx53+K62FET6xK4fZJQmHIQMxd5rDNBqnZjBOTRk32JinBgcbRaU6IIMu5cBTx3sHW7Jsj3e4BO2JMisb1h2ictR1FWcNkNS1f71mRoKwLWvYdImiE0hhRPRW/L6oUs7opDwA7Mmgo3fz88d+MJVSUTTmbNUrT7kX++GVcxdAE+PqrD8/OT274TzMF14YUlhBocWnMTJ1N/bOouXTy2PgVo8LM/J6c9/rJSon+kUHSwwBvdLSLtsz42Cy6fdLEVqtaNQrdXM+uxYhaNIA+I9PFhPOWUtsPs1ibCXWjdX5rf8tbUe9cn9Jr6lenwqu+nB9vT8QHjPvGEbd8b6cDgra5bVrzaGBmnjLAuegC14gMrwTHopPU9clGduKc4zyiFs6NyfGEkao4rsnPqcXh8es2Q2cJpr+dwh8ABa9cZxGrg96USCLioGF8xxGSVxxwmRwh8DB9Vi4REsg33CwvElUA2NK7LaEnpzwVXE64MdhxHvVqjhu/wzB3Se3j/kRhyaHRc33TlKZEkYn+++OWsRYtwRuXKYnYFdXXJGJXPUndyMIoP701KtjinN6q3lrOVaUG0oN7rMIfpw69nM+n8aMwQp4obe5QvyMxJX27xKnyz4obVPtm50+XHBPt8nxqc4vbINhipmMaBZnHMV+9TTWMBHBlI0wdMzmPBBlAJXshrFMIznzLG6jqBAhXV4JLITjQ90tEEYGnoQ/ZpL1oWKVJlQ/5+dqArFEx0dWD2VMB/MOqnVMHBIQd/BRPzo/odX97DoK6JGtwLPPWa4TpsprkIiI0KGAPL9tH/fdmSnTe3GGzJH1OMYbHTJjDrCKFV2rFFUtxiowaLHBUKMdQSBaPCG2JGBxqirfOQvht7GUqQukqgZrv7jYNmX+ABX19GzL/ABol7KOUnWZhKXbLwO/Nc/hISQpKMS+sm/0VnXUPsh8EZbdhkbL98xIhXPMEzeVpR6xQXV9oC6D+nzvBgyHuBQWyNqBveCotNIdbC2rBYZ047yT3u0XJxchKYtLoSujOlzgKhMpSOUeIWXK3pImMnUh+1Z8Ws/EtfB/cvrdvUAQgWSFrmkQw+IlhQQ7VUcaFC1U5EGgAzrrExVQqo02K2+Q6bK5/cJlu6/HYsdY8YXI5NE8KzSO84AS3juOeY/zzFWQ0i9IUGWhGlUpAo8r7n5efgNf8KR/nXBBmaoFNdBmn7jeJ1+qlR2NacQXmao9QfBTQXLONfAArf/UFVhHzUf5tKm4ilEn5cvZdnqILJ+Mmgwzyl+axdAaGrOjMsDwLfIOBHxL0tPM4IfR5UebRgnjLMsm32QFZnAC0UtDHfb5ShzY4lbXsHCIKwPOmbKOuL1tezoVIAh0QyZD7pDw0syXcVwf10/oP1b3ewNKmUx1wQpG2OtEWpacYjHW1AzOTXqjjC+b0E78/mUqfPl9bn2eUiO3JPJ+/KVvM8z2kk1vuwARU9mDqTOmC1FyxL3eQKBjm/mF/8YYGTXG/2wYUjtm8mRNAn88oJWP2EfplHpwTyB67mHellz5BwvDfjYEsyKvW+sOQF+PLNRSDKSjZL6e6oc3s19szYOwy6aXxFk7gIvoJNu6tXapr35efD8KyxgvSDjBi2Ld6Ul+jpMiCbIOy7EFdOXNh2Ry0nOu1dVpJNtqWrs0VhSikhyXZHXrlnFdHM+TsBtlQJsivO8azbpBMfLIA6M/y0gqPT/MZ/iLSEhop/owZgTWjKNZDL3DxXBQXgFv6rhXeGM3rfTcD0pY7yOv/97qri7moHkLE7Z4jx8enIimxrKiRnPI5msVVNTRHiPsQR9zHs1YIfydaJIfdRiI0KxSQwC5cHTkYrdvhEsxnIG9sexqkTl1sC+Hz5Q6hsK7jYOL6u+Xgg7maMDcdrCwpyaKYb/79AQ5lIMEabUUcj14veesvlgbYHktTV67OuALXlGRPzQOF2up+aDzj1D3fOrMS+sBgbNLb2QWL2VKdmJLvnFjucy0D7hcymsVjif9XaACV4avVxdem6Hn1GxfGWLA9orzmkoY8VSmJsg0oFF0cppAgXs6473eO7nCa4Ef4RbcpJrgj51aNiK6ZlGqI7ymoomG1ozdb25kom/oL4NNm1r8c5L+9PFINiK+wC00k22HH+vwQuYb4+iI6LVksqhTWAjUh950L/aeY2/CNFAhrhx6xhE1BY74XKX1D+ZBTj9HcZR8mdJM0LRl2fMdFslqZteNErdZ+ULa+oZVT9PsA975SqH/Kye3KU23o8rP55kcRpR5QBi4dYRsTR59UeGlkZaGha+KE/5scFRqxe4++Vqm8NBJcBYyszdVzGFZ3J3rBV4sph2S5FBI63Koq7Gnc5W/slinkb4XW+EabnDsiSo02NkZqlsZlc6vxQVyzetvYdR/SJApq+GiCgld31pA5GsfQfXIESYd37mw1BdJsyIoR3D2+Vqa+wjEHJKgE9gwURuz96pCno69Ic1MUDqrZUq7xKnpbtDXLuHckgN84RkhgoM3sVrmLUW6rXQpiIUjrEtlkvz9D1v230Ne4aNDEWzHCQPJ7U1hV5JXR3RMP1ShkbzMPRvAhzBYEtQ/yzBVOeUiCz+5UpjGSb/ZIVehb/WeHemDA+sDaoIlGJOD7kUqL/CkDjbvYCLZtVq9cHgYo09LEpVMMugwzRQR7FL1zLGr/Iwk41mIDj28DRzN4b8lOntWmN/IpvJfs4Iejxy72a7veF+xrPaRjjxBof01gCSFwPw1YtiqlrdnI+b8gIDgTqkGWbpHLwwdnOrr0Nu9muKoCRCTRs2sHSfM+yOlnmv9iU5wLwdjHJtAbuZaHHdI21RjesC5PKNiPT9vb3jubWMtQxFA5+KpwRW+pXsDHIPfa4PYB8UjQEBn415q2ZbiMulBmV33UXWaCw+xpSU9+e//I9WcRAIhf5U7diiJ4WeCi0hWRSsbSWNOET52pBrNp1F5U9TLPrWRP51aKTutSD6GZqoWqaBdr7cDXMyYk8sbs0eggp15HX8wTRkU/Jzy6InJKUR3iQey3JkX8MwxXojLAuAzmC7Giehwve6QsYCK46Bdboz7fJWvaLzc7okFjbOMX6u6+oxTpn2Gk5YvkLVwDmt3hExCcEPFT3hUqBF28cdBfBxCrfuKkpA6MC8OyG+uC7EaZFo3btAozC4ixe6Vkf4u/6XSLutQ2Ne4kOSlF4dkyPo4flbQ0nejxHCka/IIce3Ap0KNoZkN2kpbg/rieiTjZj/APwXZaF78I5S7lzCedZ1w6WVXhzbCzMKLqUd9BBH+fyJlBewt4r3+wpFT7Td8YhzUQH2lEHTswoYsgMnQCZ9FmhQZIbBMOUuxAbKUmz56zuS0xv7E2ffh6FjDOaM/OL3w1opZaZ/8bD/nzt4fCKYSECFHsFP0cDZfiiR3Wk+DuoNzDc9wh/Ar75cQ7u01t45PfvlpULY74y5uTHSGMzlqXbMcQf9kLBCEwG6oMmt21fwwFglpcY8ZqPjZntngan1jgNemgzXoAtJmBcd7sMYlQ2Keb7pRJxu4bRIFB8Y3CvXmXyahMzr1EDwVND6+WSlq+gJ4ZDZkY4EK4XmxEGTzNyuLiOVKXiHwAtqWi3I6KpCv+zUZHxn4kQu/Lh4E95eYVSrIpQ9sQ88GxGk2qVQXeGhp35tBIFuE2V1Mew3mBeF/q+2wTiz/+rPqRPerRyBb+VcPDPnphAX+2Ae8y2w5FagSKjtn1XyPVnFMgNU4x2nv2ldDq7DQG6DSqudN4GsQkWaQtcJSXnw/LJW2AJ0QAlB6spQzJXiJq1Ej3E3p1QYtTKtad6V8Xs6EbYkaTB8aW340CkH4Hd3L+myLTZG5zDuocNw2TScvIv2+Po30RH9/yAlv/h/WNzhwxQ5nhpXnp9COYIapg0ZvxzDQKc0IXKx4Y9IKj9T63vO4IMEhIJgKUqtisLIll54DjUOYy7J4WEcTMO4aFAGOOY4xx8aYubvA6KaO4Wz3OX3q31YS5VQIsi5ZTJsDurAAAV5eau5MtIh58DctUB8wCuXZpi3RiKGfEQm3GOTTjvkxuQdZIxf081U6paaxCSzj5C/OkJhh71CfXAphFDCp4b4nCiOBnbFtpjUeMfXXOHmpffx3krX8B7nHfShtulx5bUtOJWtLm1xCwmt1x+ifxdt8rHGxM9xMjU2M778ohk91KJwe3FATlOvSj8vFRRYNc8sA+NXnqk+KsgESCjM43HipniHy3jWUIPfDPe3fULUzvQTsCBf2IehWpx2k5xC+EV2RbZWXwhsL3tsCmNGrZNanj2SwYURfMka2hcz1r6+iA0FslkKqs0sD/Mo1l6MF+wmn1PQ0xdrVnmVumrY95OJvfpcieao2fnnlWuvB6EcqTaYGlYAXlXb9JhNPLm+n44P3VcBaX6fWgnsdcjfl7zyp+DeHvLfdKZDuluJa9f9l0D6hltzpNf64DAsLwINXf3GZ+TgWTGiwZc2FkvWoEilY81Z6lLIWhWPCyNOxFzQkhdCtJ7MLjDFphJ6KIKUx8nst6RnjDyFsOO0UFbCHdqzqnqp5pwoKS9MO5ZiUXhiFUSGm+6UxMa7bp2oysD8JVR48mJwLh1D/RRgQdnnL3aiKjMTyaLHTOiEUtc6fd1iGqkNyOYA8hyrOBFrbAYSmmttloXFhOiBuCeba8JOJdUFygR9+30tW5JjQMTH+7oBGrgZDGsm5FpQdcBB3pj2p735nzTFwkpCPgze13zbNoTN2Shj4vXf7m+I/puQlQ5e1ZCOmd3JE1305pZLsfy96HVyNSsP1Ks7/bM/Uc56vruucJqWbbypvtVjzXxszBwfhhT0oGK31Ss8+ezsSCNkoUfXZxRepDyLn2Ztx3yzkF2px7FZOMFW+Rdxr7SUnV6iGxrp9rl4/Vxp42LVw/saV+3fV9mAvV8AZvuO1PAinFmgmbbopsATUMG2XBkcwGV8DwFIbVOmm6nYKvI4q57UW1RyNmgOonQQgUH17ZoXTAAGngnHBdNRPggPluGwI6R8EtIbf3U60FsXWkcT9VFRbJE/SFVnrJ/5P8zGEEfSDbPwuzD0Ne27Wbi8JswvJZLsn0GDu+J3AUKk16uhgiVI2DIYXbiY7/+yliAgT/2BQiHbBsbrW3BgU/axTie1wGAu/ErdgiNXVotN7TfUjH/c6WunbwDf+U9W7gHuXx6LZuo/QdVrm3SvsHdwrLkX4WOTVjiYEGHQxIjxrMvX7eoFoejarZRsCM2I5QGmt30ntppf/Yiy3xbkx4htEh4OiCNnCk+LjscyEQ8+a4PtyVsoFgzYeczyIZxpF2uucOfl4QH4npRh47dK9d1P/+KvGMzY/4UpTkdJMA1lW0ie1XEYKiUC8F6ZY98VVkZGLdLUKWh7BdWnBfGWYTcowiplyP3fGj66G4Gr9ej9V9KbamniP94Nj76rEwA2RrS4yxp7GuRi7ZM6eykmZsJcLCXA5kLZx/9pd7oqZRLETg9n75Q4LxG3KHY9DnXsIOOX4FKILX8ZoKAZjX9X7HJKFEHCOjkSVaw5JufggK/A3rhSEQbynACLUCQh/gjuZLiGgHTlPHSC+2kbHB5jn9NOptyhzK7f45FrPFv6DZi9usx1G2CalYplmq+9NKoVJEKUOXzOdrkn5XhErwNLJ5dD2XYtvYqePtuaX88ZPd2qdeS/3DarUvfhCaehoLAd7LhMMMGvYjZEnx4c1VS/VBwkGwis9LbomRc+I1JTG7xm9qKWycAnEL9nthw4TbuCDJPLQqeZJVWJPgVl0ty4oH02lCeQvQ6BjA/HaKAyLvckE6jnaU6khaQoBTcMOh6BfJIFKC7ptIeN18OQjKdtC0KJEdwqHdKazPZss1CooX8N8b0J1cXWO2Zf7hV1yIfC0vxWpwsVGOCXCR0g2OOhFjrsb5TZ3a6dnDQI7XWDEkE2YWWELTtpV/Y+4cYAzgQKzE8AMe/7/z/65dpJF+/RMLaHUjUqnXzOmNTSMhEEHZgL1x1AXygD3tyWrIi8cbpGEmoos0Vg4CAEWOjvEVpx8007PoDQE9dRuhQgzYQwHCQ/91Vm07GSSBekQij18is6vVPGADerHayLzyoEpJxK0Jjn6PUUoXODNQsGwW0Osb3UQVdxPmkylcIEvIY9vpatyTGggA+Q5rwqhl5tl/hnp/pUq49j9cqxqe9zDT0KQZa5AU3ckLlNzXGXE1D9zbNN4vnh7YgXJ34UbmqNU1azevzoLaKGrxjg5c+p0r5vWPq1dbMx4cG2U1aiAuA5o4hi76hOH4c71oXS9U4fkcAANsGvezJnPqSmzn0K/hhHKZenj/nNVVI53ZNjEdaDCFU6jehcm3E1CFJnzbzFPF9xTPAP/dITTfQPptKE8hhG+8VmF8ps7oPawTkwUJ81uUrfrixoWdHiXGE2OAqMzKYgx2BdidPt8dlOoPr2I1N0d8Q8AHja4bQ6uAGY2k0o6DPL7vGfEnzmox7G3RK04Zv/dJ98/dqte1gpvla/p/8q2WTNOIECipaVBgLL9aAhKX5O0M+3SeOC/4m04X+VHa0bDxP66dsaPQWP8SHIC66Qz2v1dod34V0brKXcV/Vg7mxkkSB/XhP0/o7Uj4VRPv2BCLj3YGIi46XjFI3qa2SPNiNykG5DtTd+j6ZWhsbuGD9o75+TCdbT/fknpo2aZhd04CtUvV5syDW4ZfgVjPTzYQ4cH01MYa22yZywxkFxyPtemjutQIHdz/A3zL1pLAqyxfs4lH2Dx8vvKpzN3uYwssXnamU/u61qocsu/wgq38p7gr75HxvJSvlsINiXdQ8lAJoekDgRwczfrhKDvmtZebrRAqXVGWLBUzSVPTQq42r0YzQmYgx1UYcffurY0EjGC5Mlihl4MBHAnou1YzkllrE+DsfTMQp+aEBATzpUMFS/Y+10E4b5SYx+LPgszg2DhbQGMtnZTnl+0sCM5wuhxiwb133/AOceZg+WxKYD9iHL1bWuE5OM7f9ny1OIhRbzQIrTL9mMvO6QnW3rQBHBnTp5ZXnBlLUG4cXFYU65jk7BdaHKytmCJ1O4MKvMPI0Il8d6O6I0mxk5LLb2gmUIJb0lrunZgslOktcxrPux5NXNYIK0lyc76Eh28cKD+RpTlmy0lXzJ8FHDZquked6UE1p3rN+Lch1ln98WOvatWkB/+VZvvAX7wQYuIdXY8Snp7Fd7XoG3UJ6dlM401FcCcdwSuTdkParOFyeKqkgj8HKAVCTUz6/zjx9G0J1GAXpwbHDLyrGbAmwKSA7Wf1zi90iVuDvh6c4H4+lxY6796WgUUqGnj23nQlydSdR+9Vn5m1FoQccIIlElre+PX3s2OA9HhPpaPRrdlj+KTYLNtFU5hNVzuziX0gSTRivYUjClAlLJeYeVriBhlcdh5dE3OdhIakz4b3/qpXSRilPg7Pg5aKN+Hl68HAAMQnijS7oxZHbOlUkB6aG8Rmn1RhX4TmbR7luRPUmw0csPMFe5JyIBNlhuI1lDw7UZNHtOTE/ACdvpm5sVoXY3eiJCwNC+Cel0DOxDy2Ama+SQf8d+qZ4VmFba3209Zw2Nch17cy5JBCg7AdnNllbi2M4Y45YaQA4gkZvtRD53D0ohV2fwzcWokhS9RBQBDUSBXoH/OLjLDYl24g0/e/1RIdMxRA0LL3QE1n7PV7hS8hnK0fxkc73jjnJt8UoGF/NqIfC5mRE15tS7ddHvyFB+tl8Cjwu37aTCITJK0uq5xNpiFVGSW7AbCVssYqnk26moWnPCBfqEna8Blfsg45avJamo6WDPkq5RJoF9QcMWlap6Xnr9k4CvEIuyVzoipXxKYoaWdSqVKXVdZeoCMOcSLBqmrIiKPQ0i9XdbI+LuM5SVjRg8OT7y9MWjDFC9Sq6KB1g/lSE0NBN3ibKGb/SZBZ/Yy3cRLONJ97x35NOcQAMfLUHGG8ozQv0MeGlCnlk2rpUL7HdFUAtoAu33yve5PMQb1MWyJKvgxasBh1Uw3UoF1n6WF3IaF9WJ+4McpZ/OO384GhvhsihrYCaFrKqLXqKQsassuyXPDivl44D2S4PJgBRF7v1KKJmMRQj5tisNZyDzfq6b1z8JXex0q8YLJZcqSbnL4wjvNcTrOZ47g/I/B6qStOZbhT4lnHf49hPsO2yTy0FZCwgL4keDehBXgqJpaisg6sj9tr9AGHOwubErBNMpCJc82MF1ZMW/hTTzslzBt7TmFCGBoUHOLc1YMTkFCoEjzC1ufze+iGNEezog/ETA7lultQBxXE918r+nQbRh0Z45jGLZWv8qrW60ElpHCV4hJD9r8SOd/6s+NSSnwQzPRUcMUFnWnL6wTEOSTbxfay9V+s6sZY6h/CAIfeSI1EUmXfQDzDZSDPlfjDTOz0P8lmbzje+SwiEPAW/uoQXWtCFi5XHFu+xnUuNPLuC4aTO8grvsvTcwvy9U1P4yfU9ZrSkAmD5h0ImES7ukBn0Q1OnvRzi78Kh8JYw9Yd9GFLingQ/xM3xBgRXLD3iMqEdjL0BWv+OCS23S7P7oUp/fD94BTMiPLeO+/bZSyf/XkcaSLlIDXsO0DpM4cml6+YyAaLnWqVNXZtIkF5MekG8qdTkCcWCzurHp/gOiMKcCOdFXeVKBQwDDIDkT+Ywla4Gl79o/FM/xZTtSGBzdEi+DgNRtjgXLByR2tDQSszLWiyku4tXZyLLVNnQR8NPWaaFDoLg/4QOjIS5EOV1nVxK88jKs/vO0Vd/SPVD7+kzfvcj/1q7ViaaD658uub38LGphsxBFUes/45F0Gqh8hjvjWzHIiDZMJt9xTH7v2BPeEv8tEFBKN/Cu508XU0Ug5AhS3TUTmPbz488hWZpdKZg3GaCzlPS3QhSOG+7nuIi8+7+/R0hTdM2EfuQ6dozJvho9M9ZpBXOMaxTz+49nW5Mav19o8Caw0mZc8XV1iRJku84Osjo0ew+6fxOsdzXZ5coRgSbp/8pFekCzFTNzk1ANf9iuOwUCoCbouM+MNahR67cY2mt3jxfeORIkj4YhBnZzjTzZCtCbMyhCBkSH/2acc/6+lo8dURPh7+aIWgEDkC0c+RqSglztJOAGYbm4ECO+gcv8H3N5L4i5a87NlDJhBb3MOU8Gj13bpoIEuo6wzq4eQbZoM2TuVzZKqpc0QsSORnfUWWY95M9ZOo1Cz0l6soC/Q4nscu6enAhet50r24EjVT51tyf8OVzellhtd8kg4JeWeDz7yLM9tSpL/v9Co+YAb8wPZJTxmj+w9ZMJy2Ah73DLrmmuLqif9xJSjyM4MbQiKY3iCfjxFK0euJKqHcvdJ/nhHu5OiVeYrqG2fXeSshxDtvdDiQ3XHWMnBztLcjJIbeDepaAO4kWDd/hmDvTRQ/qkm9Si3JBmJOuGEZwfZhT8DhDpcgyGpyHmUveTzLgMNXSUoef0XJ0/gBSxEr5zlSa2zUvHfSCim0y28HfXSwxoq5IS5D3EPtdEVvZpDsuzoMsDI3bOf4SVCEEcr7SxXBHylpS16HGtPR0jDftS9Z9J5+p0Caa9QGTeUlGwGzRe5B1paYtEwp07V8EHJ3xNpTQnP2WLgmv+TXPKV5HLUBmgg1YDeTCgnuB1mQoGRFzcyIpWpL358BfTNg2cGSFyoj8gH/HogHtD8VSAfum42O3KDe2vx8okHkqt/rc7Xvt94eRUbVlOnhSFHY+SnYf/nThBQc4bM7HpUMGArKFV2l4jOksXIimn9y7Xj/Sw/lJODBWmD08Ux3639JmWLkDz6vMfwNjogDjL6XR/ugrALGO/YmjIum0NBDLKKcR//3iL/eBX/bAOO7RJAKpZ80Gcul/CV6PYLU9GmOsHargV7YOEsiuYOyWRNOhkjImLVhCXH0w7doeLlu5UYuh0i0V3SkqxIsIoeCaHVTsv/kenTNrrDA+IwtBkzb574nX/3mB7cwR5woGDd4ufUA8kp8uogaeUHNtNXxDv5kOL44E/vurZNrsjwjeMAbOYI+JUuJD6+lbn2MVG1NL8CY9xh+dNKGBZLiNxRB98vKWfEPFa3RV4H9ovPDqu3jVcTkhZII8Dw07Rr2HD4FI3sBDo8ROF2D/AburWsVLaDImLK1M0ywtgW+RxmchmTiA/CMPvjlFvw3kHp8oWrCIPQTe99ykJPjBrlg6cCmYLT/jYhgUEXulDycgJvrV8aRo2nQeLQNfCXqeNgYi3Gsgfgw6ymZyHO7POLJ1FBu8gKbWYAJwLEfki6xRtAYXALYDH3XH7wzUtZVUhgklu3plKnsbp8cr1miRs0dnCBJB74jkSAam2+/TKWwm5d158w8Z2R/Fyl+v+/yar8m6ZUwnsYgq9wRF6m7DAE2+XGvuz0qdX8E5JZdGjBtgpjbpQ5MXahj7WkNdnFtxEGwA2tyk6M7EjwWg0oehXK0WRIBiW73tARylxn0U4f88eOZx11koJxH+2EgLEOE7X9MBZzlCiwDQStP8urO1O4DVQlDltCqFEy2h6atI2MTnVrN5BKJmsLEjzqAasTT9oCuU9eZXkTaz0/Ho5OIA2xLFKk6n00tsfcFVbdbMOb2dxcQxggOEG5kr0BrkIxiAJX6hb3ggK1sZ2RA7oAAAAAAAAAABi7qi2bsnQZOA0sEaJ0Glv77t0fNKOiMDCUjsoEYDkXS9eqyn2X+zVGywBPjgdixUJqVcboNehHgolkNBphViwleiLSX7b4Q6S3/BNSsrzpg6FqrtgaWFbz0OCAAAAP9pwAMeWf3FDFWAAABHUMTkpYg3G5O+ODhuDngjcERNYlMdJUbi4roWWObuLkza4EROmdcIY6hwXMDWYNDUP6fRwAvANmDhKNOvlrslHqenG0lBwVDhvg0qaSiwIUXv/StEqeg/3Qv+Wo+uMkt99e1xsrBBpTX5mZbovhHLOP1geVUJEXCD9qoy++dhr7WaFYphMK8a8grBMp/3Qe4gFMgUcKEh+UKhLW4AQN/n4vTNzg+M0lagXlyW18GwkPADHDaZf2fuuawnrz54/GAwsgVfBTWFneqMqF4eq98lN1V7xzU9uUW9YDuSx1pzxPJIOAZuExZ/dzuqTmUcxr9HNhXhHEKUgMXz8Rx+MIfVPd+8QQjnM4V8+h2OddxI7gQfsSNqJFbow+O4Jlvkb4Ek/9z6f5ZyZYwtHfMkholwcgbtwd6bIRxoPrUfK7aw7V4E0hsRZcpRMVd+MjelBTP7nqlq56nEbiiId6NQ/v1kJDUyj7yin6YWGoMcUv4fn3Ins71cZvl7oQwdssqKaokD5rMFkbv7mccjFvoJF7rMejKDsBe10V5Vn3oUvfLCqHzDQEj90RNDDAfsqrS8L31ouGSWFBRS+7q+Zjn4V39CKepO4jN63tVOVGJQ5/B3dEk55b/Ii6l0T3TuJpwrGFPlQV/CqS8lVInyduwzSeugZVx4LM5A3G6HedALILzxOMfz7PWgu1mEEMMudAyKp1AItVf2Q06GnUYLgqyJPf3m3xhOEvnRYbAeLCxmfIR/mLgFUWFh9RYhT3aXnrOAB1WVBMAAAAAJTx7pjZ06pAvsx7ZW4DZcrA6RpX4Ad3BqXBURYarBBH98SszMN15aNIFRq2GjAWDkbn9ThgLLrtU9AFQJ/aJgA+K0fXF8q0sbdyObRGICQAzrlowPTrHtP63J9QayAvCurqo+KXsfpfuViVMGJz6fn4YSODooDiAlrV6HpNcAKKlSqiJWbZMGJMKJJC0pxlrM9ylup4B22GF5f4DQOXI9/4DQOXI1mrGTwsuR+4336kkPQtrlKhUKz0vghaQNdMnlx3dJSEBayVt6UAAAAc7Q6Mz/jD5I5x6438ftek+jDW6Qp6P2utAkND4Ql+1exexB2l1sNRKwiXIMKcy5H50wtbrbuxCecpqJPam2jNcT0/oFz5L14riPaAAACwXKGeV1fmA19StokEl/VLf/eEXuZnjdX4bb1Y4X/7QofnVRjlU66KJg1/VsB7oNO6rvIBiKV0OuPYZlaDzewAAAeLAyS6E9jPqkCSYuh2fE9nIhDgwHCN034hIDNoM1I2VL46hgJocNylBBhI7x2KYNAHm1/q+xgAGImqdt6gIjL9pOb/embajVrEbHzvUCOspqCSt8PEhd5mIi0bD0o86SWA93wZL9DYYWhY5SlbOwemsEAOiCw3e8y3Cb3I/6A+ckBzJhop6vCFBH20y5IJUtAjq88pQ+4hI3CUyADXsJYDvye3kXNPx+mj0sl5L3r56134VnQpKL1lZcEcaM8G9k5FTkgSYhGJsQZZYN0H1fbaKAABymAqZq0UjQMM+D1SMAVRia5QyhoPAeALdTq6B5zlIEgizYl3DVYH28CbaKOvk/IL6jsFzvKtDRoV+ogALI7L//Sg4AjUz34Ho+/Esq33mgmbtG90hKpa7R8f3USlEJDI806z5PEmgpk0vVNWzSvYK8ihVXaegAAE1L+5aDRXs8ukMpjQSk737xzxDt0Zwh0og1vjHZ4lDcemb0E+0bSlezJ1Mm9GACTm1wpmQV9PqeWz6wwAlLOdrMMolWqafx4Iut4BEuGV7r0iGmXMdhce01vK2EpWQIFqATZTLWDesUy4FTqVZIb63aCvEtFsHgf1zgBUY4+30YFLWB4UcFIhPaUf6UcFIhPaUf6UcFIhPaUf6UcFIhR7FOdlW3lAFRMi031QbIWFTVqGRU3E6wwR+4bei/S99+FU1h/+IpTg+H0m/x1MXp4JkkEeKxZPd0ZZXAGzZyD+B7yIXMkXB704d+pRLBALmZsj2OAyZm0msZiiTVkaWybUfDrrpV4HllwoSUqUruZXeEkTH92r83sicyPfAjKz6rhdLlLYOO7Hysm35zxcgAYIgOD4tnTPAOawAEuBk52/cbP9xE7ZVV1WUdhPMp7XxP2lzDXSoIcTPSCm744JApQ7HuiXUYkQX6GslfOc1r/Xx2wvCVmj4AAAAAmE0jw9Hj6g6sBc9Ecro+Avth0LNPxBPOutpkS0jFbOFFMPu2aM1oIx2M8e58G2rRoD0Lpu1LX+AAIUedAwGoQCsfKvovgn4jSWlH0dAWW7fwHCrSYgfeqR8mRRM73DrfD7y9LXczpdGsVVv7gOLwqp9bPRXemAC7YGP4uvSEUEQicRX1mOS+1HRzfOpvhzcw4d93x6GTZJZP7G3qdyJ4+2u6hedmamu37Clz2gbJJRgSPf3yTyQ3zC9qiQAUiuwS51CfJcOnX80agObHtlR4B/pIvHStBUMPnilvhW+GCiOkFuz9wElaPc2fG9V3u0/+132Kth25GU0iAJc4BpYVvMgfFAsifkbquBA0HPVrNIIqBTcm79tBoc1aY5sgkpXNPeS2uRgJ1KRPpeOjR4N4X6ytvJIhO93Q+EfdheXJsXG/PXM3PupoAjWkg1Ptk53mBcKemfq98Ey8KgVlIAKVwjE+679lC8Ty1Uh7Q08+0sreOImDG+neWWmRuC5zTO2hrWaFWfhlDMzUd2o+kpQJoWzzAlmCVYgAAJbK34ymbSWYE/wDUw0YMu4lHYs6ngI5yYSZeWJnosZgpGeGX4E7Ty+YymC8np2lPPkASogAAICXgHAxxgIWo7U6IibENSXKQ2Fb3ittJrGY/HAV7myiyujVPh6HyIWIy9fcM0T33Fn/u6vsTGYLd54UAAHxKVpLCt5Xbs87+pTlo7FFWbhexPMwXSwTc04FV8nZf/8niTzrPYkMUJBjyAWBHNMHdp6AAABGWID7RUTv9vPLvxhfC0bqGFs4SfO0RRO6ebPFZ/DbHdGMzBzoVdhYfWzI9ZCi/7gOLwrW7HfV6AAJrXRL1ft7QG6bmo240HsTcTsI7LR4sIXqI9yCfdvuHlxI9G89dS16MMDHRq6sWHS7sWwmehIunpr06KFBDI7d30FTM0btplzNHDGVpm2mBt/YCq0bQLkn7mHFdELe2Lg9R2R7Py1D9tBmmv6C5D6oQNq2oIkQHOBBmILfHs0L4ucPR045CAmfEplkrlFu/zjcDi3m7mH3C51g/Zm6gBDeEIYY9NvG7uZFeaSL0xLq/6T8CW8h1wNxPGJ4iCbt/vIvglN9I9/OjflHwZ84wlqDaIyYZzFTdj6jCriICC8HjCzVL/ov0Ataekn5uQplzmHFMMw8q/ZAh2IHtWAbuEjJtbhVr5Nxb7OoygMaHBnsmKhWPCkVBWFhMXO6DhLnCd8GS07iCw2mw1XDtaHkt6q23OXRfJXLFirMYRizLC3DK8nYqXRBcpVUHAACV+Q5qoHL4xjzk/LHanDDqvCt5+fexwpctVeqGxWncNjyqravxwPXRosUdp4SuTDZfTFj6cQqhVAsg0b7cra4v+0PnLPHFcAMyzP8p2kPed50+kAAIRHKLQrJagkNitOJf00W9E4b9Lh9x1FUkYyxSwWQkfqxm3ZXWZsiUgDbMUEOvnkDlr3xKzMwoX2MdVYHHLMddqtK/4/xYQIQyTw/XfY7cXlfAZ4j4sUd1sAB8nb2WY4XpdNaMZs/rit+JPk4ACmkKodBJP7vpDfwoPw1jEt4v+VzpFFHKVzTHfzZI0VDIGhYswfAtSYdWxHgqSHvlP3NMEiFV2PAza38xjJ0BaPWaLRpIKPEFP+ZNugGe6tfkKvDx11/5Ka8LkQzRlSL7tnvhHSJ+B1xhy+qv/z9kEmrqRy6pLFbzLAoPE+LkqzTbLKlSqjEUuWpMmRaNiyGmXVbbTnq1qY9AWx/PPS3X6bfCScAAF+JbmpOW7ParxdvuLZtN0u065GyprA5szhhIBmX/ZhGYWTYTYGppGIuujsQnHlZABBcuqFF/Wz5uoAwgiIXGSIZNWh0h9LUN7a4uln+GX34ZRjHk3MG9VDQmSKb0TsR0xrBkA9KAV6VnXk1WBUosKHHsCtGene/vE12yJCJB5/7lqWqDEBHZusKzmWtnOCo9rzLHFSdKIo5a10E/iP4gf4Y8PxjuAO5LOmKvaDwlTl3ze/kyw/m3oeZh31Qyb6ZlwAZU6J0RD8Py+NqZkFw5/wAYQRoSzeeKETgGneDppXKoTbXi1WdA7jg6UTxv23NmDWb387U7DX/XaRjCUj4KRWCDn8nqpoOkVtDmPVv4HE38uo20fcz+VmCmD+uDLsBVtt0hcVpef1Z6nIF78fcHDoqPGeSTKiHS9Rq07wfHhP5DIVIA2AXgINb4TOGyKLuivcByao7R8vrDNPnycjx+jCBKXEGHmMtxqzUr0mneq2oVC570T/X4VBtOQ3IVBIF06d6vn2C4ry1Zb8zuqjNmHr06H8UoPaScZvSElhw3/X/+hCPlUY5YKBVC0g8gLi16NGrBXDiojj29m4t4MP7YuTvhWk0OowF2IedTSrjYuKGofC6GHfnEMI1nYyQdZ7wV5MaS9XyEcnnhBuU6ArNgAzvSG5ZeXGmCAyhQLGvA7NVJzJPRWMVLUa/FLM7gWjvtq9BMobWVdb4WHyzQMkmJCRfsAAAAFPz26OuuNIELv5J/FVgFKwnQfN4AITErlYNAD5HIG7cQDMgXw8AdqUHYnMuiGmnQhVV4Ha1W4BbRIswGE44Eg/pOZ25EdTIkhQAAAAL/dVKFgu3pMnFk1kcwAabOdH8aQAA3RyBu3HQwAAAAAAAAAAA)"
      ],
      "metadata": {
        "id": "efmcQ_yTj65w"
      }
    }
  ]
}
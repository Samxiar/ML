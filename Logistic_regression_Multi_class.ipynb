{
  "nbformat": 4,
  "nbformat_minor": 0,
  "metadata": {
    "colab": {
      "provenance": [],
      "authorship_tag": "ABX9TyMOwi1R+Q94NAoBFa01Td74",
      "include_colab_link": true
    },
    "kernelspec": {
      "name": "python3",
      "display_name": "Python 3"
    },
    "language_info": {
      "name": "python"
    }
  },
  "cells": [
    {
      "cell_type": "markdown",
      "metadata": {
        "id": "view-in-github",
        "colab_type": "text"
      },
      "source": [
        "<a href=\"https://colab.research.google.com/github/Samxiar/ML/blob/main/Logistic_regression_Multi_class.ipynb\" target=\"_parent\"><img src=\"https://colab.research.google.com/assets/colab-badge.svg\" alt=\"Open In Colab\"/></a>"
      ]
    },
    {
      "cell_type": "code",
      "execution_count": 23,
      "metadata": {
        "id": "fTSaN5B9AGwU"
      },
      "outputs": [],
      "source": [
        "import matplotlib.pyplot as plt\n",
        "from sklearn.datasets import load_digits\n",
        "import warnings\n",
        "warnings.simplefilter(\"ignore\")"
      ]
    },
    {
      "cell_type": "markdown",
      "source": [
        "***This dataset is made up of 1797 8x8 images. Each image, like the one shown below, is of a hand-written digit. In order to utilize an 8x8 figure like this, we’d have to first transform it into a feature vector with length 64.***\n",
        "\n",
        "![digitdata.png](data:image/png;base64,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)"
      ],
      "metadata": {
        "id": "0JvrjqxhAvVV"
      }
    },
    {
      "cell_type": "code",
      "source": [
        "digit = load_digits()"
      ],
      "metadata": {
        "id": "YzpWTwGlAcq3"
      },
      "execution_count": 2,
      "outputs": []
    },
    {
      "cell_type": "code",
      "source": [
        "dir(digit)"
      ],
      "metadata": {
        "colab": {
          "base_uri": "https://localhost:8080/"
        },
        "id": "cBwMbOH-BQ_N",
        "outputId": "3e611b47-b729-4295-d654-6acbd0ea9257"
      },
      "execution_count": 5,
      "outputs": [
        {
          "output_type": "execute_result",
          "data": {
            "text/plain": [
              "['DESCR', 'data', 'feature_names', 'frame', 'images', 'target', 'target_names']"
            ]
          },
          "metadata": {},
          "execution_count": 5
        }
      ]
    },
    {
      "cell_type": "code",
      "source": [
        "digit.data[0]"
      ],
      "metadata": {
        "colab": {
          "base_uri": "https://localhost:8080/"
        },
        "id": "9WhjTyaLBTKE",
        "outputId": "d2ce5626-cf41-4de8-db46-40bbeb25444e"
      },
      "execution_count": 6,
      "outputs": [
        {
          "output_type": "execute_result",
          "data": {
            "text/plain": [
              "array([ 0.,  0.,  5., 13.,  9.,  1.,  0.,  0.,  0.,  0., 13., 15., 10.,\n",
              "       15.,  5.,  0.,  0.,  3., 15.,  2.,  0., 11.,  8.,  0.,  0.,  4.,\n",
              "       12.,  0.,  0.,  8.,  8.,  0.,  0.,  5.,  8.,  0.,  0.,  9.,  8.,\n",
              "        0.,  0.,  4., 11.,  0.,  1., 12.,  7.,  0.,  0.,  2., 14.,  5.,\n",
              "       10., 12.,  0.,  0.,  0.,  0.,  6., 13., 10.,  0.,  0.,  0.])"
            ]
          },
          "metadata": {},
          "execution_count": 6
        }
      ]
    },
    {
      "cell_type": "code",
      "source": [
        "# Display the last digit\n",
        "plt.figure(1, figsize=(3, 3))\n",
        "plt.imshow(digit.images[-1], cmap=plt.cm.gray_r, interpolation=\"nearest\")\n",
        "plt.show()"
      ],
      "metadata": {
        "colab": {
          "base_uri": "https://localhost:8080/",
          "height": 211
        },
        "id": "ILF5InEVCHUj",
        "outputId": "1c6c69b8-2baa-4b09-d052-c369d24ac2e8"
      },
      "execution_count": 8,
      "outputs": [
        {
          "output_type": "display_data",
          "data": {
            "text/plain": [
              "<Figure size 216x216 with 1 Axes>"
            ],
            "image/png": "[encoded data removed]"
          },
          "metadata": {
            "needs_background": "light"
          }
        }
      ]
    },
    {
      "cell_type": "code",
      "source": [
        "plt.gray()\n",
        "for i in range(6):\n",
        "  plt.matshow(digit.images[i])"
      ],
      "metadata": {
        "colab": {
          "base_uri": "https://localhost:8080/",
          "height": 1000
        },
        "id": "uHo45TfKCWTL",
        "outputId": "a84dbe67-27d5-497e-e459-dafc09192f43"
      },
      "execution_count": 12,
      "outputs": [
        {
          "output_type": "display_data",
          "data": {
            "text/plain": [
              "<Figure size 432x288 with 0 Axes>"
            ]
          },
          "metadata": {}
        },
        {
          "output_type": "display_data",
          "data": {
            "text/plain": [
              "<Figure size 288x288 with 1 Axes>"
            ],
            "image/png": "[encoded data removed]"
          },
          "metadata": {
            "needs_background": "light"
          }
        },
        {
          "output_type": "display_data",
          "data": {
            "text/plain": [
              "<Figure size 288x288 with 1 Axes>"
            ],
            "image/png": "[encoded data removed]"
          },
          "metadata": {
            "needs_background": "light"
          }
        },
        {
          "output_type": "display_data",
          "data": {
            "text/plain": [
              "<Figure size 288x288 with 1 Axes>"
            ],
            "image/png": "[encoded data removed]"
          },
          "metadata": {
            "needs_background": "light"
          }
        },
        {
          "output_type": "display_data",
          "data": {
            "text/plain": [
              "<Figure size 288x288 with 1 Axes>"
            ],
            "image/png": "[encoded data removed]"
          },
          "metadata": {
            "needs_background": "light"
          }
        },
        {
          "output_type": "display_data",
          "data": {
            "text/plain": [
              "<Figure size 288x288 with 1 Axes>"
            ],
            "image/png": "[encoded data removed]"
          },
          "metadata": {
            "needs_background": "light"
          }
        },
        {
          "output_type": "display_data",
          "data": {
            "text/plain": [
              "<Figure size 288x288 with 1 Axes>"
            ],
            "image/png": "[encoded data removed]"
          },
          "metadata": {
            "needs_background": "light"
          }
        }
      ]
    },
    {
      "cell_type": "code",
      "source": [
        "from sklearn.model_selection import train_test_split"
      ],
      "metadata": {
        "id": "wC7w7tNRCrkj"
      },
      "execution_count": 13,
      "outputs": []
    },
    {
      "cell_type": "code",
      "source": [
        "X_train, X_test,y_train, y_test = train_test_split(digit.data,digit.target,test_size=0.2)"
      ],
      "metadata": {
        "id": "PFcUv6h6Djtk"
      },
      "execution_count": 16,
      "outputs": []
    },
    {
      "cell_type": "code",
      "source": [
        "len(X_train)"
      ],
      "metadata": {
        "colab": {
          "base_uri": "https://localhost:8080/"
        },
        "id": "7L7VeQYsEgXm",
        "outputId": "5a41504e-633d-451e-d893-4a92e0c8ae96"
      },
      "execution_count": 17,
      "outputs": [
        {
          "output_type": "execute_result",
          "data": {
            "text/plain": [
              "1437"
            ]
          },
          "metadata": {},
          "execution_count": 17
        }
      ]
    },
    {
      "cell_type": "code",
      "source": [
        "len(X_test)"
      ],
      "metadata": {
        "colab": {
          "base_uri": "https://localhost:8080/"
        },
        "id": "tEpjJZSuEiik",
        "outputId": "fabbd76e-585a-4a7b-b6b1-13d09e3ebe57"
      },
      "execution_count": 18,
      "outputs": [
        {
          "output_type": "execute_result",
          "data": {
            "text/plain": [
              "360"
            ]
          },
          "metadata": {},
          "execution_count": 18
        }
      ]
    },
    {
      "cell_type": "code",
      "source": [
        "from sklearn.linear_model import LogisticRegression\n",
        "model = LogisticRegression()\n"
      ],
      "metadata": {
        "id": "udARJ5nJEroU"
      },
      "execution_count": 20,
      "outputs": []
    },
    {
      "cell_type": "code",
      "source": [
        "model.fit(X_train,y_train)"
      ],
      "metadata": {
        "colab": {
          "base_uri": "https://localhost:8080/"
        },
        "id": "79ZXztRNE3xE",
        "outputId": "1529f0f9-529e-44f1-b34c-f8577709681b"
      },
      "execution_count": 24,
      "outputs": [
        {
          "output_type": "execute_result",
          "data": {
            "text/plain": [
              "LogisticRegression()"
            ]
          },
          "metadata": {},
          "execution_count": 24
        }
      ]
    },
    {
      "cell_type": "code",
      "source": [
        "model.score(X_test, y_test)"
      ],
      "metadata": {
        "colab": {
          "base_uri": "https://localhost:8080/"
        },
        "id": "T25P_G8eFIrk",
        "outputId": "1eb78a31-081c-436f-d1c3-828d3f736e60"
      },
      "execution_count": 25,
      "outputs": [
        {
          "output_type": "execute_result",
          "data": {
            "text/plain": [
              "0.9472222222222222"
            ]
          },
          "metadata": {},
          "execution_count": 25
        }
      ]
    },
    {
      "cell_type": "code",
      "source": [
        "plt.matshow(digit.images[69])"
      ],
      "metadata": {
        "colab": {
          "base_uri": "https://localhost:8080/",
          "height": 292
        },
        "id": "wJJUTIp7F3mz",
        "outputId": "832b895c-a331-429e-cb60-062d33062c3a"
      },
      "execution_count": 27,
      "outputs": [
        {
          "output_type": "execute_result",
          "data": {
            "text/plain": [
              "<matplotlib.image.AxesImage at 0x7f5d3f421310>"
            ]
          },
          "metadata": {},
          "execution_count": 27
        },
        {
          "output_type": "display_data",
          "data": {
            "text/plain": [
              "<Figure size 288x288 with 1 Axes>"
            ],
            "image/png": "[encoded data removed]"
          },
          "metadata": {
            "needs_background": "light"
          }
        }
      ]
    },
    {
      "cell_type": "code",
      "source": [
        "digit.target[69]"
      ],
      "metadata": {
        "colab": {
          "base_uri": "https://localhost:8080/"
        },
        "id": "ysduBFM4GA2k",
        "outputId": "07798161-a292-4c65-8f07-9d55e8230367"
      },
      "execution_count": 29,
      "outputs": [
        {
          "output_type": "execute_result",
          "data": {
            "text/plain": [
              "9"
            ]
          },
          "metadata": {},
          "execution_count": 29
        }
      ]
    },
    {
      "cell_type": "code",
      "source": [
        "model.predict(digit.data[[69]])"
      ],
      "metadata": {
        "colab": {
          "base_uri": "https://localhost:8080/"
        },
        "id": "g_2k-1BRGXGc",
        "outputId": "6dfe5f71-3e05-4a78-9772-30e85bbf7543"
      },
      "execution_count": 31,
      "outputs": [
        {
          "output_type": "execute_result",
          "data": {
            "text/plain": [
              "array([9])"
            ]
          },
          "metadata": {},
          "execution_count": 31
        }
      ]
    },
    {
      "cell_type": "code",
      "source": [
        "model.predict(digit.data[[range(6)]])"
      ],
      "metadata": {
        "colab": {
          "base_uri": "https://localhost:8080/"
        },
        "id": "Fd-Vz8IIGpY1",
        "outputId": "1c15e214-aa5d-4b9a-93ae-7206dea100a9"
      },
      "execution_count": 35,
      "outputs": [
        {
          "output_type": "execute_result",
          "data": {
            "text/plain": [
              "array([0, 1, 2, 3, 4, 5])"
            ]
          },
          "metadata": {},
          "execution_count": 35
        }
      ]
    },
    {
      "cell_type": "markdown",
      "source": [
        "**Compute confusion matrix to evaluate the accuracy of a classification.**"
      ],
      "metadata": {
        "id": "ayXNlV30Iv6n"
      }
    },
    {
      "cell_type": "markdown",
      "source": [
        "*Parameters:\n",
        "y_truearray-like of shape (n_samples,)\n",
        "Ground truth (correct) target values.*\n",
        "\n",
        "*y_predarray-like of shape (n_samples,)\n",
        "Estimated targets as returned by a classifier.*\n",
        "\n",
        "*Labelsarray-like of shape (n_classes), default=None\n",
        "List of labels to index the matrix. This may be used to reorder or select a subset of labels. If None is given, those that appear at least once in y_true or y_pred are used in sorted order.*\n",
        "\n",
        "*sample_weightarray-like of shape (n_samples,), default=None\n",
        "Sample weights.*\n",
        "\n",
        "**New in version 0.18.**\n",
        "\n",
        "*normalize{‘true’, ‘pred’, ‘all’}, default=None\n",
        "Normalizes confusion matrix over the true (rows), predicted (columns) conditions or all the population. If None, confusion matrix will not be normalized.*"
      ],
      "metadata": {
        "id": "dUwk4TEWI8Rl"
      }
    },
    {
      "cell_type": "code",
      "source": [
        "y_predicted = model.predict(X_test)\n",
        "from sklearn.metrics import confusion_matrix"
      ],
      "metadata": {
        "id": "ywy4zJ4KHEVk"
      },
      "execution_count": 36,
      "outputs": []
    },
    {
      "cell_type": "code",
      "source": [
        "cm = confusion_matrix(y_test,y_predicted)\n",
        "cm"
      ],
      "metadata": {
        "colab": {
          "base_uri": "https://localhost:8080/"
        },
        "id": "3-Dh_XudIl80",
        "outputId": "62109b85-b16f-4530-d4ad-06abd206f9d0"
      },
      "execution_count": 39,
      "outputs": [
        {
          "output_type": "execute_result",
          "data": {
            "text/plain": [
              "array([[37,  0,  0,  0,  0,  0,  0,  0,  0,  0],\n",
              "       [ 0, 41,  0,  0,  0,  0,  0,  0,  0,  1],\n",
              "       [ 0,  1, 30,  0,  0,  0,  0,  0,  0,  0],\n",
              "       [ 0,  0,  0, 27,  0,  0,  0,  0,  0,  1],\n",
              "       [ 0,  2,  0,  0, 34,  0,  0,  0,  2,  0],\n",
              "       [ 0,  0,  0,  0,  0, 29,  0,  0,  0,  0],\n",
              "       [ 0,  1,  0,  0,  0,  0, 36,  0,  0,  0],\n",
              "       [ 0,  0,  0,  0,  1,  1,  0, 36,  0,  0],\n",
              "       [ 0,  2,  0,  0,  1,  0,  0,  0, 35,  0],\n",
              "       [ 0,  1,  0,  1,  0,  1,  0,  0,  3, 36]])"
            ]
          },
          "metadata": {},
          "execution_count": 39
        }
      ]
    },
    {
      "cell_type": "code",
      "source": [
        "import plotly.express as px\n",
        "\n",
        "fig = px.imshow([[37,  0,  0,  0,  0,  0,  0,  0,  0,  0],\n",
        "       [ 0, 41,  0,  0,  0,  0,  0,  0,  0,  1],\n",
        "       [ 0,  1, 30,  0,  0,  0,  0,  0,  0,  0],\n",
        "       [ 0,  0,  0, 27,  0,  0,  0,  0,  0,  1],\n",
        "       [ 0,  2,  0,  0, 34,  0,  0,  0,  2,  0],\n",
        "       [ 0,  0,  0,  0,  0, 29,  0,  0,  0,  0],\n",
        "       [ 0,  1,  0,  0,  0,  0, 36,  0,  0,  0],\n",
        "       [ 0,  0,  0,  0,  1,  1,  0, 36,  0,  0],\n",
        "       [ 0,  2,  0,  0,  1,  0,  0,  0, 35,  0],\n",
        "       [ 0,  1,  0,  1,  0,  1,  0,  0,  3, 36]])\n",
        "fig.show()"
      ],
      "metadata": {
        "colab": {
          "base_uri": "https://localhost:8080/",
          "height": 542
        },
        "id": "U7num_0MJvaV",
        "outputId": "e30c37bf-a091-4c21-d6a1-00f7ed8e8293"
      },
      "execution_count": 42,
      "outputs": [
        {
          "output_type": "display_data",
          "data": {
            "text/html": [
              "<html>\n",
              "<head><meta charset=\"utf-8\" /></head>\n",
              "<body>\n",
              "    <div>            <script src=\"https://cdnjs.cloudflare.com/ajax/libs/mathjax/2.7.5/MathJax.js?config=TeX-AMS-MML_SVG\"></script><script type=\"text/javascript\">if (window.MathJax) {MathJax.Hub.Config({SVG: {font: \"STIX-Web\"}});}</script>                <script type=\"text/javascript\">window.PlotlyConfig = {MathJaxConfig: 'local'};</script>\n",
              "        <script src=\"https://cdn.plot.ly/plotly-2.8.3.min.js\"></script>                <div id=\"2260aeb3-a03b-453d-93a8-61a4310e7ce9\" class=\"plotly-graph-div\" style=\"height:525px; width:100%;\"></div>            <script type=\"text/javascript\">                                    window.PLOTLYENV=window.PLOTLYENV || {};                                    if (document.getElementById(\"2260aeb3-a03b-453d-93a8-61a4310e7ce9\")) {                    Plotly.newPlot(                        \"2260aeb3-a03b-453d-93a8-61a4310e7ce9\",                        [{\"coloraxis\":\"coloraxis\",\"name\":\"0\",\"z\":[[37,0,0,0,0,0,0,0,0,0],[0,41,0,0,0,0,0,0,0,1],[0,1,30,0,0,0,0,0,0,0],[0,0,0,27,0,0,0,0,0,1],[0,2,0,0,34,0,0,0,2,0],[0,0,0,0,0,29,0,0,0,0],[0,1,0,0,0,0,36,0,0,0],[0,0,0,0,1,1,0,36,0,0],[0,2,0,0,1,0,0,0,35,0],[0,1,0,1,0,1,0,0,3,36]],\"type\":\"heatmap\",\"xaxis\":\"x\",\"yaxis\":\"y\",\"hovertemplate\":\"x: %{x}<br>y: %{y}<br>color: %{z}<extra></extra>\"}],                        {\"template\":{\"data\":{\"bar\":[{\"error_x\":{\"color\":\"#2a3f5f\"},\"error_y\":{\"color\":\"#2a3f5f\"},\"marker\":{\"line\":{\"color\":\"#E5ECF6\",\"width\":0.5},\"pattern\":{\"fillmode\":\"overlay\",\"size\":10,\"solidity\":0.2}},\"type\":\"bar\"}],\"barpolar\":[{\"marker\":{\"line\":{\"color\":\"#E5ECF6\",\"width\":0.5},\"pattern\":{\"fillmode\":\"overlay\",\"size\":10,\"solidity\":0.2}},\"type\":\"barpolar\"}],\"carpet\":[{\"aaxis\":{\"endlinecolor\":\"#2a3f5f\",\"gridcolor\":\"white\",\"linecolor\":\"white\",\"minorgridcolor\":\"white\",\"startlinecolor\":\"#2a3f5f\"},\"baxis\":{\"endlinecolor\":\"#2a3f5f\",\"gridcolor\":\"white\",\"linecolor\":\"white\",\"minorgridcolor\":\"white\",\"startlinecolor\":\"#2a3f5f\"},\"type\":\"carpet\"}],\"choropleth\":[{\"colorbar\":{\"outlinewidth\":0,\"ticks\":\"\"},\"type\":\"choropleth\"}],\"contour\":[{\"colorbar\":{\"outlinewidth\":0,\"ticks\":\"\"},\"colorscale\":[[0.0,\"#0d0887\"],[0.1111111111111111,\"#46039f\"],[0.2222222222222222,\"#7201a8\"],[0.3333333333333333,\"#9c179e\"],[0.4444444444444444,\"#bd3786\"],[0.5555555555555556,\"#d8576b\"],[0.6666666666666666,\"#ed7953\"],[0.7777777777777778,\"#fb9f3a\"],[0.8888888888888888,\"#fdca26\"],[1.0,\"#f0f921\"]],\"type\":\"contour\"}],\"contourcarpet\":[{\"colorbar\":{\"outlinewidth\":0,\"ticks\":\"\"},\"type\":\"contourcarpet\"}],\"heatmap\":[{\"colorbar\":{\"outlinewidth\":0,\"ticks\":\"\"},\"colorscale\":[[0.0,\"#0d0887\"],[0.1111111111111111,\"#46039f\"],[0.2222222222222222,\"#7201a8\"],[0.3333333333333333,\"#9c179e\"],[0.4444444444444444,\"#bd3786\"],[0.5555555555555556,\"#d8576b\"],[0.6666666666666666,\"#ed7953\"],[0.7777777777777778,\"#fb9f3a\"],[0.8888888888888888,\"#fdca26\"],[1.0,\"#f0f921\"]],\"type\":\"heatmap\"}],\"heatmapgl\":[{\"colorbar\":{\"outlinewidth\":0,\"ticks\":\"\"},\"colorscale\":[[0.0,\"#0d0887\"],[0.1111111111111111,\"#46039f\"],[0.2222222222222222,\"#7201a8\"],[0.3333333333333333,\"#9c179e\"],[0.4444444444444444,\"#bd3786\"],[0.5555555555555556,\"#d8576b\"],[0.6666666666666666,\"#ed7953\"],[0.7777777777777778,\"#fb9f3a\"],[0.8888888888888888,\"#fdca26\"],[1.0,\"#f0f921\"]],\"type\":\"heatmapgl\"}],\"histogram\":[{\"marker\":{\"pattern\":{\"fillmode\":\"overlay\",\"size\":10,\"solidity\":0.2}},\"type\":\"histogram\"}],\"histogram2d\":[{\"colorbar\":{\"outlinewidth\":0,\"ticks\":\"\"},\"colorscale\":[[0.0,\"#0d0887\"],[0.1111111111111111,\"#46039f\"],[0.2222222222222222,\"#7201a8\"],[0.3333333333333333,\"#9c179e\"],[0.4444444444444444,\"#bd3786\"],[0.5555555555555556,\"#d8576b\"],[0.6666666666666666,\"#ed7953\"],[0.7777777777777778,\"#fb9f3a\"],[0.8888888888888888,\"#fdca26\"],[1.0,\"#f0f921\"]],\"type\":\"histogram2d\"}],\"histogram2dcontour\":[{\"colorbar\":{\"outlinewidth\":0,\"ticks\":\"\"},\"colorscale\":[[0.0,\"#0d0887\"],[0.1111111111111111,\"#46039f\"],[0.2222222222222222,\"#7201a8\"],[0.3333333333333333,\"#9c179e\"],[0.4444444444444444,\"#bd3786\"],[0.5555555555555556,\"#d8576b\"],[0.6666666666666666,\"#ed7953\"],[0.7777777777777778,\"#fb9f3a\"],[0.8888888888888888,\"#fdca26\"],[1.0,\"#f0f921\"]],\"type\":\"histogram2dcontour\"}],\"mesh3d\":[{\"colorbar\":{\"outlinewidth\":0,\"ticks\":\"\"},\"type\":\"mesh3d\"}],\"parcoords\":[{\"line\":{\"colorbar\":{\"outlinewidth\":0,\"ticks\":\"\"}},\"type\":\"parcoords\"}],\"pie\":[{\"automargin\":true,\"type\":\"pie\"}],\"scatter\":[{\"marker\":{\"colorbar\":{\"outlinewidth\":0,\"ticks\":\"\"}},\"type\":\"scatter\"}],\"scatter3d\":[{\"line\":{\"colorbar\":{\"outlinewidth\":0,\"ticks\":\"\"}},\"marker\":{\"colorbar\":{\"outlinewidth\":0,\"ticks\":\"\"}},\"type\":\"scatter3d\"}],\"scattercarpet\":[{\"marker\":{\"colorbar\":{\"outlinewidth\":0,\"ticks\":\"\"}},\"type\":\"scattercarpet\"}],\"scattergeo\":[{\"marker\":{\"colorbar\":{\"outlinewidth\":0,\"ticks\":\"\"}},\"type\":\"scattergeo\"}],\"scattergl\":[{\"marker\":{\"colorbar\":{\"outlinewidth\":0,\"ticks\":\"\"}},\"type\":\"scattergl\"}],\"scattermapbox\":[{\"marker\":{\"colorbar\":{\"outlinewidth\":0,\"ticks\":\"\"}},\"type\":\"scattermapbox\"}],\"scatterpolar\":[{\"marker\":{\"colorbar\":{\"outlinewidth\":0,\"ticks\":\"\"}},\"type\":\"scatterpolar\"}],\"scatterpolargl\":[{\"marker\":{\"colorbar\":{\"outlinewidth\":0,\"ticks\":\"\"}},\"type\":\"scatterpolargl\"}],\"scatterternary\":[{\"marker\":{\"colorbar\":{\"outlinewidth\":0,\"ticks\":\"\"}},\"type\":\"scatterternary\"}],\"surface\":[{\"colorbar\":{\"outlinewidth\":0,\"ticks\":\"\"},\"colorscale\":[[0.0,\"#0d0887\"],[0.1111111111111111,\"#46039f\"],[0.2222222222222222,\"#7201a8\"],[0.3333333333333333,\"#9c179e\"],[0.4444444444444444,\"#bd3786\"],[0.5555555555555556,\"#d8576b\"],[0.6666666666666666,\"#ed7953\"],[0.7777777777777778,\"#fb9f3a\"],[0.8888888888888888,\"#fdca26\"],[1.0,\"#f0f921\"]],\"type\":\"surface\"}],\"table\":[{\"cells\":{\"fill\":{\"color\":\"#EBF0F8\"},\"line\":{\"color\":\"white\"}},\"header\":{\"fill\":{\"color\":\"#C8D4E3\"},\"line\":{\"color\":\"white\"}},\"type\":\"table\"}]},\"layout\":{\"annotationdefaults\":{\"arrowcolor\":\"#2a3f5f\",\"arrowhead\":0,\"arrowwidth\":1},\"autotypenumbers\":\"strict\",\"coloraxis\":{\"colorbar\":{\"outlinewidth\":0,\"ticks\":\"\"}},\"colorscale\":{\"diverging\":[[0,\"#8e0152\"],[0.1,\"#c51b7d\"],[0.2,\"#de77ae\"],[0.3,\"#f1b6da\"],[0.4,\"#fde0ef\"],[0.5,\"#f7f7f7\"],[0.6,\"#e6f5d0\"],[0.7,\"#b8e186\"],[0.8,\"#7fbc41\"],[0.9,\"#4d9221\"],[1,\"#276419\"]],\"sequential\":[[0.0,\"#0d0887\"],[0.1111111111111111,\"#46039f\"],[0.2222222222222222,\"#7201a8\"],[0.3333333333333333,\"#9c179e\"],[0.4444444444444444,\"#bd3786\"],[0.5555555555555556,\"#d8576b\"],[0.6666666666666666,\"#ed7953\"],[0.7777777777777778,\"#fb9f3a\"],[0.8888888888888888,\"#fdca26\"],[1.0,\"#f0f921\"]],\"sequentialminus\":[[0.0,\"#0d0887\"],[0.1111111111111111,\"#46039f\"],[0.2222222222222222,\"#7201a8\"],[0.3333333333333333,\"#9c179e\"],[0.4444444444444444,\"#bd3786\"],[0.5555555555555556,\"#d8576b\"],[0.6666666666666666,\"#ed7953\"],[0.7777777777777778,\"#fb9f3a\"],[0.8888888888888888,\"#fdca26\"],[1.0,\"#f0f921\"]]},\"colorway\":[\"#636efa\",\"#EF553B\",\"#00cc96\",\"#ab63fa\",\"#FFA15A\",\"#19d3f3\",\"#FF6692\",\"#B6E880\",\"#FF97FF\",\"#FECB52\"],\"font\":{\"color\":\"#2a3f5f\"},\"geo\":{\"bgcolor\":\"white\",\"lakecolor\":\"white\",\"landcolor\":\"#E5ECF6\",\"showlakes\":true,\"showland\":true,\"subunitcolor\":\"white\"},\"hoverlabel\":{\"align\":\"left\"},\"hovermode\":\"closest\",\"mapbox\":{\"style\":\"light\"},\"paper_bgcolor\":\"white\",\"plot_bgcolor\":\"#E5ECF6\",\"polar\":{\"angularaxis\":{\"gridcolor\":\"white\",\"linecolor\":\"white\",\"ticks\":\"\"},\"bgcolor\":\"#E5ECF6\",\"radialaxis\":{\"gridcolor\":\"white\",\"linecolor\":\"white\",\"ticks\":\"\"}},\"scene\":{\"xaxis\":{\"backgroundcolor\":\"#E5ECF6\",\"gridcolor\":\"white\",\"gridwidth\":2,\"linecolor\":\"white\",\"showbackground\":true,\"ticks\":\"\",\"zerolinecolor\":\"white\"},\"yaxis\":{\"backgroundcolor\":\"#E5ECF6\",\"gridcolor\":\"white\",\"gridwidth\":2,\"linecolor\":\"white\",\"showbackground\":true,\"ticks\":\"\",\"zerolinecolor\":\"white\"},\"zaxis\":{\"backgroundcolor\":\"#E5ECF6\",\"gridcolor\":\"white\",\"gridwidth\":2,\"linecolor\":\"white\",\"showbackground\":true,\"ticks\":\"\",\"zerolinecolor\":\"white\"}},\"shapedefaults\":{\"line\":{\"color\":\"#2a3f5f\"}},\"ternary\":{\"aaxis\":{\"gridcolor\":\"white\",\"linecolor\":\"white\",\"ticks\":\"\"},\"baxis\":{\"gridcolor\":\"white\",\"linecolor\":\"white\",\"ticks\":\"\"},\"bgcolor\":\"#E5ECF6\",\"caxis\":{\"gridcolor\":\"white\",\"linecolor\":\"white\",\"ticks\":\"\"}},\"title\":{\"x\":0.05},\"xaxis\":{\"automargin\":true,\"gridcolor\":\"white\",\"linecolor\":\"white\",\"ticks\":\"\",\"title\":{\"standoff\":15},\"zerolinecolor\":\"white\",\"zerolinewidth\":2},\"yaxis\":{\"automargin\":true,\"gridcolor\":\"white\",\"linecolor\":\"white\",\"ticks\":\"\",\"title\":{\"standoff\":15},\"zerolinecolor\":\"white\",\"zerolinewidth\":2}}},\"xaxis\":{\"anchor\":\"y\",\"domain\":[0.0,1.0],\"scaleanchor\":\"y\",\"constrain\":\"domain\"},\"yaxis\":{\"anchor\":\"x\",\"domain\":[0.0,1.0],\"autorange\":\"reversed\",\"constrain\":\"domain\"},\"coloraxis\":{\"colorscale\":[[0.0,\"#0d0887\"],[0.1111111111111111,\"#46039f\"],[0.2222222222222222,\"#7201a8\"],[0.3333333333333333,\"#9c179e\"],[0.4444444444444444,\"#bd3786\"],[0.5555555555555556,\"#d8576b\"],[0.6666666666666666,\"#ed7953\"],[0.7777777777777778,\"#fb9f3a\"],[0.8888888888888888,\"#fdca26\"],[1.0,\"#f0f921\"]]},\"margin\":{\"t\":60}},                        {\"responsive\": true}                    ).then(function(){\n",
              "                            \n",
              "var gd = document.getElementById('2260aeb3-a03b-453d-93a8-61a4310e7ce9');\n",
              "var x = new MutationObserver(function (mutations, observer) {{\n",
              "        var display = window.getComputedStyle(gd).display;\n",
              "        if (!display || display === 'none') {{\n",
              "            console.log([gd, 'removed!']);\n",
              "            Plotly.purge(gd);\n",
              "            observer.disconnect();\n",
              "        }}\n",
              "}});\n",
              "\n",
              "// Listen for the removal of the full notebook cells\n",
              "var notebookContainer = gd.closest('#notebook-container');\n",
              "if (notebookContainer) {{\n",
              "    x.observe(notebookContainer, {childList: true});\n",
              "}}\n",
              "\n",
              "// Listen for the clearing of the current output cell\n",
              "var outputEl = gd.closest('.output');\n",
              "if (outputEl) {{\n",
              "    x.observe(outputEl, {childList: true});\n",
              "}}\n",
              "\n",
              "                        })                };                            </script>        </div>\n",
              "</body>\n",
              "</html>"
            ]
          },
          "metadata": {}
        }
      ]
    },
    {
      "cell_type": "markdown",
      "source": [
        "![newplot.png](data:image/png;base64,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)"
      ],
      "metadata": {
        "id": "9gphlIFEKyRX"
      }
    },
    {
      "cell_type": "code",
      "source": [],
      "metadata": {
        "id": "jw8kuWBNKJlF"
      },
      "execution_count": null,
      "outputs": []
    }
  ]
}
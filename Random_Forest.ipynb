{
  "metadata": {
    "kernelspec": {
      "language": "python",
      "display_name": "Python 3",
      "name": "python3"
    },
    "language_info": {
      "name": "python",
      "version": "3.7.12",
      "mimetype": "text/x-python",
      "codemirror_mode": {
        "name": "ipython",
        "version": 3
      },
      "pygments_lexer": "ipython3",
      "nbconvert_exporter": "python",
      "file_extension": ".py"
    },
    "colab": {
      "provenance": [],
      "include_colab_link": true
    }
  },
  "nbformat_minor": 0,
  "nbformat": 4,
  "cells": [
    {
      "cell_type": "markdown",
      "metadata": {
        "id": "view-in-github",
        "colab_type": "text"
      },
      "source": [
        "<a href=\"https://colab.research.google.com/github/Samxiar/ML/blob/main/Random_Forest.ipynb\" target=\"_parent\"><img src=\"https://colab.research.google.com/assets/colab-badge.svg\" alt=\"Open In Colab\"/></a>"
      ]
    },
    {
      "cell_type": "code",
      "source": [
        "# This Python 3 environment comes with many helpful analytics libraries installed\n",
        "# It is defined by the kaggle/python Docker image: https://github.com/kaggle/docker-python\n",
        "# For example, here's several helpful packages to load\n",
        "\n",
        "import numpy as np # linear algebra\n",
        "import pandas as pd # data processing, CSV file I/O (e.g. pd.read_csv)\n",
        "\n",
        "# Input data files are available in the read-only \"../input/\" directory\n",
        "# For example, running this (by clicking run or pressing Shift+Enter) will list all files under the input directory\n",
        "\n",
        "import os\n",
        "for dirname, _, filenames in os.walk('/kaggle/input'):\n",
        "    for filename in filenames:\n",
        "        print(os.path.join(dirname, filename))\n",
        "\n",
        "# You can write up to 20GB to the current directory (/kaggle/working/) that gets preserved as output when you create a version using \"Save & Run All\" \n",
        "# You can also write temporary files to /kaggle/temp/, but they won't be saved outside of the current session"
      ],
      "metadata": {
        "_uuid": "8f2839f25d086af736a60e9eeb907d3b93b6e0e5",
        "_cell_guid": "b1076dfc-b9ad-4769-8c92-a6c4dae69d19",
        "execution": {
          "iopub.status.busy": "2022-12-16T18:00:11.371708Z",
          "iopub.execute_input": "2022-12-16T18:00:11.372565Z",
          "iopub.status.idle": "2022-12-16T18:00:11.387077Z",
          "shell.execute_reply.started": "2022-12-16T18:00:11.372432Z",
          "shell.execute_reply": "2022-12-16T18:00:11.385927Z"
        },
        "trusted": true,
        "id": "EZWcmH-pGUoy"
      },
      "execution_count": 1,
      "outputs": []
    },
    {
      "cell_type": "code",
      "source": [
        "import pandas as pd\n",
        "from sklearn.datasets import load_digits\n",
        "digits = load_digits()"
      ],
      "metadata": {
        "execution": {
          "iopub.status.busy": "2022-12-16T18:00:11.388623Z",
          "iopub.execute_input": "2022-12-16T18:00:11.389318Z",
          "iopub.status.idle": "2022-12-16T18:00:12.008105Z",
          "shell.execute_reply.started": "2022-12-16T18:00:11.389275Z",
          "shell.execute_reply": "2022-12-16T18:00:12.007040Z"
        },
        "trusted": true,
        "id": "_5I3VuNYGUo0"
      },
      "execution_count": 2,
      "outputs": []
    },
    {
      "cell_type": "code",
      "source": [
        "#Exploring the Directory\n",
        "dir(digits)"
      ],
      "metadata": {
        "execution": {
          "iopub.status.busy": "2022-12-16T18:00:12.009652Z",
          "iopub.execute_input": "2022-12-16T18:00:12.009985Z",
          "iopub.status.idle": "2022-12-16T18:00:12.019427Z",
          "shell.execute_reply.started": "2022-12-16T18:00:12.009956Z",
          "shell.execute_reply": "2022-12-16T18:00:12.018240Z"
        },
        "trusted": true,
        "colab": {
          "base_uri": "https://localhost:8080/"
        },
        "id": "aL4DWLmlGUo0",
        "outputId": "c5874f8a-4217-43bb-850d-fe76acb5eabc"
      },
      "execution_count": 3,
      "outputs": [
        {
          "output_type": "execute_result",
          "data": {
            "text/plain": [
              "['DESCR', 'data', 'feature_names', 'frame', 'images', 'target', 'target_names']"
            ]
          },
          "metadata": {},
          "execution_count": 3
        }
      ]
    },
    {
      "cell_type": "code",
      "source": [
        "%matplotlib inline \n",
        "import matplotlib.pyplot as plt \n",
        "plt.gray()\n",
        "for i in range(6):\n",
        "    plt.matshow(digits.images [i])"
      ],
      "metadata": {
        "execution": {
          "iopub.status.busy": "2022-12-16T18:00:12.022268Z",
          "iopub.execute_input": "2022-12-16T18:00:12.022634Z",
          "iopub.status.idle": "2022-12-16T18:00:13.926218Z",
          "shell.execute_reply.started": "2022-12-16T18:00:12.022602Z",
          "shell.execute_reply": "2022-12-16T18:00:13.924960Z"
        },
        "trusted": true,
        "colab": {
          "base_uri": "https://localhost:8080/",
          "height": 1000
        },
        "id": "ag3FpFBAGUo1",
        "outputId": "970b6c37-5a6c-43f3-a8d4-74e6da1af3e5"
      },
      "execution_count": 4,
      "outputs": [
        {
          "output_type": "display_data",
          "data": {
            "text/plain": [
              "<Figure size 432x288 with 0 Axes>"
            ]
          },
          "metadata": {}
        },
        {
          "output_type": "display_data",
          "data": {
            "text/plain": [
              "<Figure size 288x288 with 1 Axes>"
            ],
            "image/png": "[encoded data removed]"
          },
          "metadata": {
            "needs_background": "light"
          }
        },
        {
          "output_type": "display_data",
          "data": {
            "text/plain": [
              "<Figure size 288x288 with 1 Axes>"
            ],
            "image/png": "[encoded data removed]"
          },
          "metadata": {
            "needs_background": "light"
          }
        },
        {
          "output_type": "display_data",
          "data": {
            "text/plain": [
              "<Figure size 288x288 with 1 Axes>"
            ],
            "image/png": "[encoded data removed]"
          },
          "metadata": {
            "needs_background": "light"
          }
        },
        {
          "output_type": "display_data",
          "data": {
            "text/plain": [
              "<Figure size 288x288 with 1 Axes>"
            ],
            "image/png": "[encoded data removed]"
          },
          "metadata": {
            "needs_background": "light"
          }
        },
        {
          "output_type": "display_data",
          "data": {
            "text/plain": [
              "<Figure size 288x288 with 1 Axes>"
            ],
            "image/png": "[encoded data removed]"
          },
          "metadata": {
            "needs_background": "light"
          }
        },
        {
          "output_type": "display_data",
          "data": {
            "text/plain": [
              "<Figure size 288x288 with 1 Axes>"
            ],
            "image/png": "[encoded data removed]"
          },
          "metadata": {
            "needs_background": "light"
          }
        }
      ]
    },
    {
      "cell_type": "code",
      "source": [
        "df = pd.DataFrame(digits.data)\n",
        "df"
      ],
      "metadata": {
        "execution": {
          "iopub.status.busy": "2022-12-16T18:00:13.930270Z",
          "iopub.execute_input": "2022-12-16T18:00:13.930672Z",
          "iopub.status.idle": "2022-12-16T18:00:13.977888Z",
          "shell.execute_reply.started": "2022-12-16T18:00:13.930636Z",
          "shell.execute_reply": "2022-12-16T18:00:13.976706Z"
        },
        "trusted": true,
        "colab": {
          "base_uri": "https://localhost:8080/",
          "height": 424
        },
        "id": "JyFWZ7TcGUo1",
        "outputId": "4676b57a-13ea-417b-a344-50ea0c66759b"
      },
      "execution_count": 5,
      "outputs": [
        {
          "output_type": "execute_result",
          "data": {
            "text/plain": [
              "       0    1     2     3     4     5    6    7    8    9   ...   54   55  \\\n",
              "0     0.0  0.0   5.0  13.0   9.0   1.0  0.0  0.0  0.0  0.0  ...  0.0  0.0   \n",
              "1     0.0  0.0   0.0  12.0  13.0   5.0  0.0  0.0  0.0  0.0  ...  0.0  0.0   \n",
              "2     0.0  0.0   0.0   4.0  15.0  12.0  0.0  0.0  0.0  0.0  ...  5.0  0.0   \n",
              "3     0.0  0.0   7.0  15.0  13.0   1.0  0.0  0.0  0.0  8.0  ...  9.0  0.0   \n",
              "4     0.0  0.0   0.0   1.0  11.0   0.0  0.0  0.0  0.0  0.0  ...  0.0  0.0   \n",
              "...   ...  ...   ...   ...   ...   ...  ...  ...  ...  ...  ...  ...  ...   \n",
              "1792  0.0  0.0   4.0  10.0  13.0   6.0  0.0  0.0  0.0  1.0  ...  4.0  0.0   \n",
              "1793  0.0  0.0   6.0  16.0  13.0  11.0  1.0  0.0  0.0  0.0  ...  1.0  0.0   \n",
              "1794  0.0  0.0   1.0  11.0  15.0   1.0  0.0  0.0  0.0  0.0  ...  0.0  0.0   \n",
              "1795  0.0  0.0   2.0  10.0   7.0   0.0  0.0  0.0  0.0  0.0  ...  2.0  0.0   \n",
              "1796  0.0  0.0  10.0  14.0   8.0   1.0  0.0  0.0  0.0  2.0  ...  8.0  0.0   \n",
              "\n",
              "       56   57   58    59    60    61   62   63  \n",
              "0     0.0  0.0  6.0  13.0  10.0   0.0  0.0  0.0  \n",
              "1     0.0  0.0  0.0  11.0  16.0  10.0  0.0  0.0  \n",
              "2     0.0  0.0  0.0   3.0  11.0  16.0  9.0  0.0  \n",
              "3     0.0  0.0  7.0  13.0  13.0   9.0  0.0  0.0  \n",
              "4     0.0  0.0  0.0   2.0  16.0   4.0  0.0  0.0  \n",
              "...   ...  ...  ...   ...   ...   ...  ...  ...  \n",
              "1792  0.0  0.0  2.0  14.0  15.0   9.0  0.0  0.0  \n",
              "1793  0.0  0.0  6.0  16.0  14.0   6.0  0.0  0.0  \n",
              "1794  0.0  0.0  2.0   9.0  13.0   6.0  0.0  0.0  \n",
              "1795  0.0  0.0  5.0  12.0  16.0  12.0  0.0  0.0  \n",
              "1796  0.0  1.0  8.0  12.0  14.0  12.0  1.0  0.0  \n",
              "\n",
              "[1797 rows x 64 columns]"
            ],
            "text/html": [
              "\n",
              "  <div id=\"df-5c78c1f4-006a-46e7-a77e-d6eb86c0dad3\">\n",
              "    <div class=\"colab-df-container\">\n",
              "      <div>\n",
              "<style scoped>\n",
              "    .dataframe tbody tr th:only-of-type {\n",
              "        vertical-align: middle;\n",
              "    }\n",
              "\n",
              "    .dataframe tbody tr th {\n",
              "        vertical-align: top;\n",
              "    }\n",
              "\n",
              "    .dataframe thead th {\n",
              "        text-align: right;\n",
              "    }\n",
              "</style>\n",
              "<table border=\"1\" class=\"dataframe\">\n",
              "  <thead>\n",
              "    <tr style=\"text-align: right;\">\n",
              "      <th></th>\n",
              "      <th>0</th>\n",
              "      <th>1</th>\n",
              "      <th>2</th>\n",
              "      <th>3</th>\n",
              "      <th>4</th>\n",
              "      <th>5</th>\n",
              "      <th>6</th>\n",
              "      <th>7</th>\n",
              "      <th>8</th>\n",
              "      <th>9</th>\n",
              "      <th>...</th>\n",
              "      <th>54</th>\n",
              "      <th>55</th>\n",
              "      <th>56</th>\n",
              "      <th>57</th>\n",
              "      <th>58</th>\n",
              "      <th>59</th>\n",
              "      <th>60</th>\n",
              "      <th>61</th>\n",
              "      <th>62</th>\n",
              "      <th>63</th>\n",
              "    </tr>\n",
              "  </thead>\n",
              "  <tbody>\n",
              "    <tr>\n",
              "      <th>0</th>\n",
              "      <td>0.0</td>\n",
              "      <td>0.0</td>\n",
              "      <td>5.0</td>\n",
              "      <td>13.0</td>\n",
              "      <td>9.0</td>\n",
              "      <td>1.0</td>\n",
              "      <td>0.0</td>\n",
              "      <td>0.0</td>\n",
              "      <td>0.0</td>\n",
              "      <td>0.0</td>\n",
              "      <td>...</td>\n",
              "      <td>0.0</td>\n",
              "      <td>0.0</td>\n",
              "      <td>0.0</td>\n",
              "      <td>0.0</td>\n",
              "      <td>6.0</td>\n",
              "      <td>13.0</td>\n",
              "      <td>10.0</td>\n",
              "      <td>0.0</td>\n",
              "      <td>0.0</td>\n",
              "      <td>0.0</td>\n",
              "    </tr>\n",
              "    <tr>\n",
              "      <th>1</th>\n",
              "      <td>0.0</td>\n",
              "      <td>0.0</td>\n",
              "      <td>0.0</td>\n",
              "      <td>12.0</td>\n",
              "      <td>13.0</td>\n",
              "      <td>5.0</td>\n",
              "      <td>0.0</td>\n",
              "      <td>0.0</td>\n",
              "      <td>0.0</td>\n",
              "      <td>0.0</td>\n",
              "      <td>...</td>\n",
              "      <td>0.0</td>\n",
              "      <td>0.0</td>\n",
              "      <td>0.0</td>\n",
              "      <td>0.0</td>\n",
              "      <td>0.0</td>\n",
              "      <td>11.0</td>\n",
              "      <td>16.0</td>\n",
              "      <td>10.0</td>\n",
              "      <td>0.0</td>\n",
              "      <td>0.0</td>\n",
              "    </tr>\n",
              "    <tr>\n",
              "      <th>2</th>\n",
              "      <td>0.0</td>\n",
              "      <td>0.0</td>\n",
              "      <td>0.0</td>\n",
              "      <td>4.0</td>\n",
              "      <td>15.0</td>\n",
              "      <td>12.0</td>\n",
              "      <td>0.0</td>\n",
              "      <td>0.0</td>\n",
              "      <td>0.0</td>\n",
              "      <td>0.0</td>\n",
              "      <td>...</td>\n",
              "      <td>5.0</td>\n",
              "      <td>0.0</td>\n",
              "      <td>0.0</td>\n",
              "      <td>0.0</td>\n",
              "      <td>0.0</td>\n",
              "      <td>3.0</td>\n",
              "      <td>11.0</td>\n",
              "      <td>16.0</td>\n",
              "      <td>9.0</td>\n",
              "      <td>0.0</td>\n",
              "    </tr>\n",
              "    <tr>\n",
              "      <th>3</th>\n",
              "      <td>0.0</td>\n",
              "      <td>0.0</td>\n",
              "      <td>7.0</td>\n",
              "      <td>15.0</td>\n",
              "      <td>13.0</td>\n",
              "      <td>1.0</td>\n",
              "      <td>0.0</td>\n",
              "      <td>0.0</td>\n",
              "      <td>0.0</td>\n",
              "      <td>8.0</td>\n",
              "      <td>...</td>\n",
              "      <td>9.0</td>\n",
              "      <td>0.0</td>\n",
              "      <td>0.0</td>\n",
              "      <td>0.0</td>\n",
              "      <td>7.0</td>\n",
              "      <td>13.0</td>\n",
              "      <td>13.0</td>\n",
              "      <td>9.0</td>\n",
              "      <td>0.0</td>\n",
              "      <td>0.0</td>\n",
              "    </tr>\n",
              "    <tr>\n",
              "      <th>4</th>\n",
              "      <td>0.0</td>\n",
              "      <td>0.0</td>\n",
              "      <td>0.0</td>\n",
              "      <td>1.0</td>\n",
              "      <td>11.0</td>\n",
              "      <td>0.0</td>\n",
              "      <td>0.0</td>\n",
              "      <td>0.0</td>\n",
              "      <td>0.0</td>\n",
              "      <td>0.0</td>\n",
              "      <td>...</td>\n",
              "      <td>0.0</td>\n",
              "      <td>0.0</td>\n",
              "      <td>0.0</td>\n",
              "      <td>0.0</td>\n",
              "      <td>0.0</td>\n",
              "      <td>2.0</td>\n",
              "      <td>16.0</td>\n",
              "      <td>4.0</td>\n",
              "      <td>0.0</td>\n",
              "      <td>0.0</td>\n",
              "    </tr>\n",
              "    <tr>\n",
              "      <th>...</th>\n",
              "      <td>...</td>\n",
              "      <td>...</td>\n",
              "      <td>...</td>\n",
              "      <td>...</td>\n",
              "      <td>...</td>\n",
              "      <td>...</td>\n",
              "      <td>...</td>\n",
              "      <td>...</td>\n",
              "      <td>...</td>\n",
              "      <td>...</td>\n",
              "      <td>...</td>\n",
              "      <td>...</td>\n",
              "      <td>...</td>\n",
              "      <td>...</td>\n",
              "      <td>...</td>\n",
              "      <td>...</td>\n",
              "      <td>...</td>\n",
              "      <td>...</td>\n",
              "      <td>...</td>\n",
              "      <td>...</td>\n",
              "      <td>...</td>\n",
              "    </tr>\n",
              "    <tr>\n",
              "      <th>1792</th>\n",
              "      <td>0.0</td>\n",
              "      <td>0.0</td>\n",
              "      <td>4.0</td>\n",
              "      <td>10.0</td>\n",
              "      <td>13.0</td>\n",
              "      <td>6.0</td>\n",
              "      <td>0.0</td>\n",
              "      <td>0.0</td>\n",
              "      <td>0.0</td>\n",
              "      <td>1.0</td>\n",
              "      <td>...</td>\n",
              "      <td>4.0</td>\n",
              "      <td>0.0</td>\n",
              "      <td>0.0</td>\n",
              "      <td>0.0</td>\n",
              "      <td>2.0</td>\n",
              "      <td>14.0</td>\n",
              "      <td>15.0</td>\n",
              "      <td>9.0</td>\n",
              "      <td>0.0</td>\n",
              "      <td>0.0</td>\n",
              "    </tr>\n",
              "    <tr>\n",
              "      <th>1793</th>\n",
              "      <td>0.0</td>\n",
              "      <td>0.0</td>\n",
              "      <td>6.0</td>\n",
              "      <td>16.0</td>\n",
              "      <td>13.0</td>\n",
              "      <td>11.0</td>\n",
              "      <td>1.0</td>\n",
              "      <td>0.0</td>\n",
              "      <td>0.0</td>\n",
              "      <td>0.0</td>\n",
              "      <td>...</td>\n",
              "      <td>1.0</td>\n",
              "      <td>0.0</td>\n",
              "      <td>0.0</td>\n",
              "      <td>0.0</td>\n",
              "      <td>6.0</td>\n",
              "      <td>16.0</td>\n",
              "      <td>14.0</td>\n",
              "      <td>6.0</td>\n",
              "      <td>0.0</td>\n",
              "      <td>0.0</td>\n",
              "    </tr>\n",
              "    <tr>\n",
              "      <th>1794</th>\n",
              "      <td>0.0</td>\n",
              "      <td>0.0</td>\n",
              "      <td>1.0</td>\n",
              "      <td>11.0</td>\n",
              "      <td>15.0</td>\n",
              "      <td>1.0</td>\n",
              "      <td>0.0</td>\n",
              "      <td>0.0</td>\n",
              "      <td>0.0</td>\n",
              "      <td>0.0</td>\n",
              "      <td>...</td>\n",
              "      <td>0.0</td>\n",
              "      <td>0.0</td>\n",
              "      <td>0.0</td>\n",
              "      <td>0.0</td>\n",
              "      <td>2.0</td>\n",
              "      <td>9.0</td>\n",
              "      <td>13.0</td>\n",
              "      <td>6.0</td>\n",
              "      <td>0.0</td>\n",
              "      <td>0.0</td>\n",
              "    </tr>\n",
              "    <tr>\n",
              "      <th>1795</th>\n",
              "      <td>0.0</td>\n",
              "      <td>0.0</td>\n",
              "      <td>2.0</td>\n",
              "      <td>10.0</td>\n",
              "      <td>7.0</td>\n",
              "      <td>0.0</td>\n",
              "      <td>0.0</td>\n",
              "      <td>0.0</td>\n",
              "      <td>0.0</td>\n",
              "      <td>0.0</td>\n",
              "      <td>...</td>\n",
              "      <td>2.0</td>\n",
              "      <td>0.0</td>\n",
              "      <td>0.0</td>\n",
              "      <td>0.0</td>\n",
              "      <td>5.0</td>\n",
              "      <td>12.0</td>\n",
              "      <td>16.0</td>\n",
              "      <td>12.0</td>\n",
              "      <td>0.0</td>\n",
              "      <td>0.0</td>\n",
              "    </tr>\n",
              "    <tr>\n",
              "      <th>1796</th>\n",
              "      <td>0.0</td>\n",
              "      <td>0.0</td>\n",
              "      <td>10.0</td>\n",
              "      <td>14.0</td>\n",
              "      <td>8.0</td>\n",
              "      <td>1.0</td>\n",
              "      <td>0.0</td>\n",
              "      <td>0.0</td>\n",
              "      <td>0.0</td>\n",
              "      <td>2.0</td>\n",
              "      <td>...</td>\n",
              "      <td>8.0</td>\n",
              "      <td>0.0</td>\n",
              "      <td>0.0</td>\n",
              "      <td>1.0</td>\n",
              "      <td>8.0</td>\n",
              "      <td>12.0</td>\n",
              "      <td>14.0</td>\n",
              "      <td>12.0</td>\n",
              "      <td>1.0</td>\n",
              "      <td>0.0</td>\n",
              "    </tr>\n",
              "  </tbody>\n",
              "</table>\n",
              "<p>1797 rows × 64 columns</p>\n",
              "</div>\n",
              "      <button class=\"colab-df-convert\" onclick=\"convertToInteractive('df-5c78c1f4-006a-46e7-a77e-d6eb86c0dad3')\"\n",
              "              title=\"Convert this dataframe to an interactive table.\"\n",
              "              style=\"display:none;\">\n",
              "        \n",
              "  <svg xmlns=\"http://www.w3.org/2000/svg\" height=\"24px\"viewBox=\"0 0 24 24\"\n",
              "       width=\"24px\">\n",
              "    <path d=\"M0 0h24v24H0V0z\" fill=\"none\"/>\n",
              "    <path d=\"M18.56 5.44l.94 2.06.94-2.06 2.06-.94-2.06-.94-.94-2.06-.94 2.06-2.06.94zm-11 1L8.5 8.5l.94-2.06 2.06-.94-2.06-.94L8.5 2.5l-.94 2.06-2.06.94zm10 10l.94 2.06.94-2.06 2.06-.94-2.06-.94-.94-2.06-.94 2.06-2.06.94z\"/><path d=\"M17.41 7.96l-1.37-1.37c-.4-.4-.92-.59-1.43-.59-.52 0-1.04.2-1.43.59L10.3 9.45l-7.72 7.72c-.78.78-.78 2.05 0 2.83L4 21.41c.39.39.9.59 1.41.59.51 0 1.02-.2 1.41-.59l7.78-7.78 2.81-2.81c.8-.78.8-2.07 0-2.86zM5.41 20L4 18.59l7.72-7.72 1.47 1.35L5.41 20z\"/>\n",
              "  </svg>\n",
              "      </button>\n",
              "      \n",
              "  <style>\n",
              "    .colab-df-container {\n",
              "      display:flex;\n",
              "      flex-wrap:wrap;\n",
              "      gap: 12px;\n",
              "    }\n",
              "\n",
              "    .colab-df-convert {\n",
              "      background-color: #E8F0FE;\n",
              "      border: none;\n",
              "      border-radius: 50%;\n",
              "      cursor: pointer;\n",
              "      display: none;\n",
              "      fill: #1967D2;\n",
              "      height: 32px;\n",
              "      padding: 0 0 0 0;\n",
              "      width: 32px;\n",
              "    }\n",
              "\n",
              "    .colab-df-convert:hover {\n",
              "      background-color: #E2EBFA;\n",
              "      box-shadow: 0px 1px 2px rgba(60, 64, 67, 0.3), 0px 1px 3px 1px rgba(60, 64, 67, 0.15);\n",
              "      fill: #174EA6;\n",
              "    }\n",
              "\n",
              "    [theme=dark] .colab-df-convert {\n",
              "      background-color: #3B4455;\n",
              "      fill: #D2E3FC;\n",
              "    }\n",
              "\n",
              "    [theme=dark] .colab-df-convert:hover {\n",
              "      background-color: #434B5C;\n",
              "      box-shadow: 0px 1px 3px 1px rgba(0, 0, 0, 0.15);\n",
              "      filter: drop-shadow(0px 1px 2px rgba(0, 0, 0, 0.3));\n",
              "      fill: #FFFFFF;\n",
              "    }\n",
              "  </style>\n",
              "\n",
              "      <script>\n",
              "        const buttonEl =\n",
              "          document.querySelector('#df-5c78c1f4-006a-46e7-a77e-d6eb86c0dad3 button.colab-df-convert');\n",
              "        buttonEl.style.display =\n",
              "          google.colab.kernel.accessAllowed ? 'block' : 'none';\n",
              "\n",
              "        async function convertToInteractive(key) {\n",
              "          const element = document.querySelector('#df-5c78c1f4-006a-46e7-a77e-d6eb86c0dad3');\n",
              "          const dataTable =\n",
              "            await google.colab.kernel.invokeFunction('convertToInteractive',\n",
              "                                                     [key], {});\n",
              "          if (!dataTable) return;\n",
              "\n",
              "          const docLinkHtml = 'Like what you see? Visit the ' +\n",
              "            '<a target=\"_blank\" href=https://colab.research.google.com/notebooks/data_table.ipynb>data table notebook</a>'\n",
              "            + ' to learn more about interactive tables.';\n",
              "          element.innerHTML = '';\n",
              "          dataTable['output_type'] = 'display_data';\n",
              "          await google.colab.output.renderOutput(dataTable, element);\n",
              "          const docLink = document.createElement('div');\n",
              "          docLink.innerHTML = docLinkHtml;\n",
              "          element.appendChild(docLink);\n",
              "        }\n",
              "      </script>\n",
              "    </div>\n",
              "  </div>\n",
              "  "
            ]
          },
          "metadata": {},
          "execution_count": 5
        }
      ]
    },
    {
      "cell_type": "code",
      "source": [
        "digits.target"
      ],
      "metadata": {
        "execution": {
          "iopub.status.busy": "2022-12-16T18:00:13.981179Z",
          "iopub.execute_input": "2022-12-16T18:00:13.982097Z",
          "iopub.status.idle": "2022-12-16T18:00:13.993171Z",
          "shell.execute_reply.started": "2022-12-16T18:00:13.982059Z",
          "shell.execute_reply": "2022-12-16T18:00:13.992156Z"
        },
        "trusted": true,
        "colab": {
          "base_uri": "https://localhost:8080/"
        },
        "id": "2uhUwyUuGUo1",
        "outputId": "ab7828e6-8c84-40b4-ebcb-25a91bcb78b4"
      },
      "execution_count": 6,
      "outputs": [
        {
          "output_type": "execute_result",
          "data": {
            "text/plain": [
              "array([0, 1, 2, ..., 8, 9, 8])"
            ]
          },
          "metadata": {},
          "execution_count": 6
        }
      ]
    },
    {
      "cell_type": "code",
      "source": [
        "df['target'] = digits.target"
      ],
      "metadata": {
        "execution": {
          "iopub.status.busy": "2022-12-16T18:00:13.994688Z",
          "iopub.execute_input": "2022-12-16T18:00:13.995959Z",
          "iopub.status.idle": "2022-12-16T18:00:14.004649Z",
          "shell.execute_reply.started": "2022-12-16T18:00:13.995907Z",
          "shell.execute_reply": "2022-12-16T18:00:14.003682Z"
        },
        "trusted": true,
        "id": "scNMNPZyGUo2"
      },
      "execution_count": 7,
      "outputs": []
    },
    {
      "cell_type": "code",
      "source": [
        "df"
      ],
      "metadata": {
        "execution": {
          "iopub.status.busy": "2022-12-16T18:00:14.005767Z",
          "iopub.execute_input": "2022-12-16T18:00:14.006784Z",
          "iopub.status.idle": "2022-12-16T18:00:14.056622Z",
          "shell.execute_reply.started": "2022-12-16T18:00:14.006737Z",
          "shell.execute_reply": "2022-12-16T18:00:14.055365Z"
        },
        "trusted": true,
        "colab": {
          "base_uri": "https://localhost:8080/",
          "height": 424
        },
        "id": "YIsgXUnlGUo2",
        "outputId": "f3f46229-9bc0-4807-cddb-b51aea34e897"
      },
      "execution_count": 8,
      "outputs": [
        {
          "output_type": "execute_result",
          "data": {
            "text/plain": [
              "        0    1     2     3     4     5    6    7    8    9  ...   55   56  \\\n",
              "0     0.0  0.0   5.0  13.0   9.0   1.0  0.0  0.0  0.0  0.0  ...  0.0  0.0   \n",
              "1     0.0  0.0   0.0  12.0  13.0   5.0  0.0  0.0  0.0  0.0  ...  0.0  0.0   \n",
              "2     0.0  0.0   0.0   4.0  15.0  12.0  0.0  0.0  0.0  0.0  ...  0.0  0.0   \n",
              "3     0.0  0.0   7.0  15.0  13.0   1.0  0.0  0.0  0.0  8.0  ...  0.0  0.0   \n",
              "4     0.0  0.0   0.0   1.0  11.0   0.0  0.0  0.0  0.0  0.0  ...  0.0  0.0   \n",
              "...   ...  ...   ...   ...   ...   ...  ...  ...  ...  ...  ...  ...  ...   \n",
              "1792  0.0  0.0   4.0  10.0  13.0   6.0  0.0  0.0  0.0  1.0  ...  0.0  0.0   \n",
              "1793  0.0  0.0   6.0  16.0  13.0  11.0  1.0  0.0  0.0  0.0  ...  0.0  0.0   \n",
              "1794  0.0  0.0   1.0  11.0  15.0   1.0  0.0  0.0  0.0  0.0  ...  0.0  0.0   \n",
              "1795  0.0  0.0   2.0  10.0   7.0   0.0  0.0  0.0  0.0  0.0  ...  0.0  0.0   \n",
              "1796  0.0  0.0  10.0  14.0   8.0   1.0  0.0  0.0  0.0  2.0  ...  0.0  0.0   \n",
              "\n",
              "       57   58    59    60    61   62   63  target  \n",
              "0     0.0  6.0  13.0  10.0   0.0  0.0  0.0       0  \n",
              "1     0.0  0.0  11.0  16.0  10.0  0.0  0.0       1  \n",
              "2     0.0  0.0   3.0  11.0  16.0  9.0  0.0       2  \n",
              "3     0.0  7.0  13.0  13.0   9.0  0.0  0.0       3  \n",
              "4     0.0  0.0   2.0  16.0   4.0  0.0  0.0       4  \n",
              "...   ...  ...   ...   ...   ...  ...  ...     ...  \n",
              "1792  0.0  2.0  14.0  15.0   9.0  0.0  0.0       9  \n",
              "1793  0.0  6.0  16.0  14.0   6.0  0.0  0.0       0  \n",
              "1794  0.0  2.0   9.0  13.0   6.0  0.0  0.0       8  \n",
              "1795  0.0  5.0  12.0  16.0  12.0  0.0  0.0       9  \n",
              "1796  1.0  8.0  12.0  14.0  12.0  1.0  0.0       8  \n",
              "\n",
              "[1797 rows x 65 columns]"
            ],
            "text/html": [
              "\n",
              "  <div id=\"df-32646e7d-df67-4596-bc2d-da25a2aef99c\">\n",
              "    <div class=\"colab-df-container\">\n",
              "      <div>\n",
              "<style scoped>\n",
              "    .dataframe tbody tr th:only-of-type {\n",
              "        vertical-align: middle;\n",
              "    }\n",
              "\n",
              "    .dataframe tbody tr th {\n",
              "        vertical-align: top;\n",
              "    }\n",
              "\n",
              "    .dataframe thead th {\n",
              "        text-align: right;\n",
              "    }\n",
              "</style>\n",
              "<table border=\"1\" class=\"dataframe\">\n",
              "  <thead>\n",
              "    <tr style=\"text-align: right;\">\n",
              "      <th></th>\n",
              "      <th>0</th>\n",
              "      <th>1</th>\n",
              "      <th>2</th>\n",
              "      <th>3</th>\n",
              "      <th>4</th>\n",
              "      <th>5</th>\n",
              "      <th>6</th>\n",
              "      <th>7</th>\n",
              "      <th>8</th>\n",
              "      <th>9</th>\n",
              "      <th>...</th>\n",
              "      <th>55</th>\n",
              "      <th>56</th>\n",
              "      <th>57</th>\n",
              "      <th>58</th>\n",
              "      <th>59</th>\n",
              "      <th>60</th>\n",
              "      <th>61</th>\n",
              "      <th>62</th>\n",
              "      <th>63</th>\n",
              "      <th>target</th>\n",
              "    </tr>\n",
              "  </thead>\n",
              "  <tbody>\n",
              "    <tr>\n",
              "      <th>0</th>\n",
              "      <td>0.0</td>\n",
              "      <td>0.0</td>\n",
              "      <td>5.0</td>\n",
              "      <td>13.0</td>\n",
              "      <td>9.0</td>\n",
              "      <td>1.0</td>\n",
              "      <td>0.0</td>\n",
              "      <td>0.0</td>\n",
              "      <td>0.0</td>\n",
              "      <td>0.0</td>\n",
              "      <td>...</td>\n",
              "      <td>0.0</td>\n",
              "      <td>0.0</td>\n",
              "      <td>0.0</td>\n",
              "      <td>6.0</td>\n",
              "      <td>13.0</td>\n",
              "      <td>10.0</td>\n",
              "      <td>0.0</td>\n",
              "      <td>0.0</td>\n",
              "      <td>0.0</td>\n",
              "      <td>0</td>\n",
              "    </tr>\n",
              "    <tr>\n",
              "      <th>1</th>\n",
              "      <td>0.0</td>\n",
              "      <td>0.0</td>\n",
              "      <td>0.0</td>\n",
              "      <td>12.0</td>\n",
              "      <td>13.0</td>\n",
              "      <td>5.0</td>\n",
              "      <td>0.0</td>\n",
              "      <td>0.0</td>\n",
              "      <td>0.0</td>\n",
              "      <td>0.0</td>\n",
              "      <td>...</td>\n",
              "      <td>0.0</td>\n",
              "      <td>0.0</td>\n",
              "      <td>0.0</td>\n",
              "      <td>0.0</td>\n",
              "      <td>11.0</td>\n",
              "      <td>16.0</td>\n",
              "      <td>10.0</td>\n",
              "      <td>0.0</td>\n",
              "      <td>0.0</td>\n",
              "      <td>1</td>\n",
              "    </tr>\n",
              "    <tr>\n",
              "      <th>2</th>\n",
              "      <td>0.0</td>\n",
              "      <td>0.0</td>\n",
              "      <td>0.0</td>\n",
              "      <td>4.0</td>\n",
              "      <td>15.0</td>\n",
              "      <td>12.0</td>\n",
              "      <td>0.0</td>\n",
              "      <td>0.0</td>\n",
              "      <td>0.0</td>\n",
              "      <td>0.0</td>\n",
              "      <td>...</td>\n",
              "      <td>0.0</td>\n",
              "      <td>0.0</td>\n",
              "      <td>0.0</td>\n",
              "      <td>0.0</td>\n",
              "      <td>3.0</td>\n",
              "      <td>11.0</td>\n",
              "      <td>16.0</td>\n",
              "      <td>9.0</td>\n",
              "      <td>0.0</td>\n",
              "      <td>2</td>\n",
              "    </tr>\n",
              "    <tr>\n",
              "      <th>3</th>\n",
              "      <td>0.0</td>\n",
              "      <td>0.0</td>\n",
              "      <td>7.0</td>\n",
              "      <td>15.0</td>\n",
              "      <td>13.0</td>\n",
              "      <td>1.0</td>\n",
              "      <td>0.0</td>\n",
              "      <td>0.0</td>\n",
              "      <td>0.0</td>\n",
              "      <td>8.0</td>\n",
              "      <td>...</td>\n",
              "      <td>0.0</td>\n",
              "      <td>0.0</td>\n",
              "      <td>0.0</td>\n",
              "      <td>7.0</td>\n",
              "      <td>13.0</td>\n",
              "      <td>13.0</td>\n",
              "      <td>9.0</td>\n",
              "      <td>0.0</td>\n",
              "      <td>0.0</td>\n",
              "      <td>3</td>\n",
              "    </tr>\n",
              "    <tr>\n",
              "      <th>4</th>\n",
              "      <td>0.0</td>\n",
              "      <td>0.0</td>\n",
              "      <td>0.0</td>\n",
              "      <td>1.0</td>\n",
              "      <td>11.0</td>\n",
              "      <td>0.0</td>\n",
              "      <td>0.0</td>\n",
              "      <td>0.0</td>\n",
              "      <td>0.0</td>\n",
              "      <td>0.0</td>\n",
              "      <td>...</td>\n",
              "      <td>0.0</td>\n",
              "      <td>0.0</td>\n",
              "      <td>0.0</td>\n",
              "      <td>0.0</td>\n",
              "      <td>2.0</td>\n",
              "      <td>16.0</td>\n",
              "      <td>4.0</td>\n",
              "      <td>0.0</td>\n",
              "      <td>0.0</td>\n",
              "      <td>4</td>\n",
              "    </tr>\n",
              "    <tr>\n",
              "      <th>...</th>\n",
              "      <td>...</td>\n",
              "      <td>...</td>\n",
              "      <td>...</td>\n",
              "      <td>...</td>\n",
              "      <td>...</td>\n",
              "      <td>...</td>\n",
              "      <td>...</td>\n",
              "      <td>...</td>\n",
              "      <td>...</td>\n",
              "      <td>...</td>\n",
              "      <td>...</td>\n",
              "      <td>...</td>\n",
              "      <td>...</td>\n",
              "      <td>...</td>\n",
              "      <td>...</td>\n",
              "      <td>...</td>\n",
              "      <td>...</td>\n",
              "      <td>...</td>\n",
              "      <td>...</td>\n",
              "      <td>...</td>\n",
              "      <td>...</td>\n",
              "    </tr>\n",
              "    <tr>\n",
              "      <th>1792</th>\n",
              "      <td>0.0</td>\n",
              "      <td>0.0</td>\n",
              "      <td>4.0</td>\n",
              "      <td>10.0</td>\n",
              "      <td>13.0</td>\n",
              "      <td>6.0</td>\n",
              "      <td>0.0</td>\n",
              "      <td>0.0</td>\n",
              "      <td>0.0</td>\n",
              "      <td>1.0</td>\n",
              "      <td>...</td>\n",
              "      <td>0.0</td>\n",
              "      <td>0.0</td>\n",
              "      <td>0.0</td>\n",
              "      <td>2.0</td>\n",
              "      <td>14.0</td>\n",
              "      <td>15.0</td>\n",
              "      <td>9.0</td>\n",
              "      <td>0.0</td>\n",
              "      <td>0.0</td>\n",
              "      <td>9</td>\n",
              "    </tr>\n",
              "    <tr>\n",
              "      <th>1793</th>\n",
              "      <td>0.0</td>\n",
              "      <td>0.0</td>\n",
              "      <td>6.0</td>\n",
              "      <td>16.0</td>\n",
              "      <td>13.0</td>\n",
              "      <td>11.0</td>\n",
              "      <td>1.0</td>\n",
              "      <td>0.0</td>\n",
              "      <td>0.0</td>\n",
              "      <td>0.0</td>\n",
              "      <td>...</td>\n",
              "      <td>0.0</td>\n",
              "      <td>0.0</td>\n",
              "      <td>0.0</td>\n",
              "      <td>6.0</td>\n",
              "      <td>16.0</td>\n",
              "      <td>14.0</td>\n",
              "      <td>6.0</td>\n",
              "      <td>0.0</td>\n",
              "      <td>0.0</td>\n",
              "      <td>0</td>\n",
              "    </tr>\n",
              "    <tr>\n",
              "      <th>1794</th>\n",
              "      <td>0.0</td>\n",
              "      <td>0.0</td>\n",
              "      <td>1.0</td>\n",
              "      <td>11.0</td>\n",
              "      <td>15.0</td>\n",
              "      <td>1.0</td>\n",
              "      <td>0.0</td>\n",
              "      <td>0.0</td>\n",
              "      <td>0.0</td>\n",
              "      <td>0.0</td>\n",
              "      <td>...</td>\n",
              "      <td>0.0</td>\n",
              "      <td>0.0</td>\n",
              "      <td>0.0</td>\n",
              "      <td>2.0</td>\n",
              "      <td>9.0</td>\n",
              "      <td>13.0</td>\n",
              "      <td>6.0</td>\n",
              "      <td>0.0</td>\n",
              "      <td>0.0</td>\n",
              "      <td>8</td>\n",
              "    </tr>\n",
              "    <tr>\n",
              "      <th>1795</th>\n",
              "      <td>0.0</td>\n",
              "      <td>0.0</td>\n",
              "      <td>2.0</td>\n",
              "      <td>10.0</td>\n",
              "      <td>7.0</td>\n",
              "      <td>0.0</td>\n",
              "      <td>0.0</td>\n",
              "      <td>0.0</td>\n",
              "      <td>0.0</td>\n",
              "      <td>0.0</td>\n",
              "      <td>...</td>\n",
              "      <td>0.0</td>\n",
              "      <td>0.0</td>\n",
              "      <td>0.0</td>\n",
              "      <td>5.0</td>\n",
              "      <td>12.0</td>\n",
              "      <td>16.0</td>\n",
              "      <td>12.0</td>\n",
              "      <td>0.0</td>\n",
              "      <td>0.0</td>\n",
              "      <td>9</td>\n",
              "    </tr>\n",
              "    <tr>\n",
              "      <th>1796</th>\n",
              "      <td>0.0</td>\n",
              "      <td>0.0</td>\n",
              "      <td>10.0</td>\n",
              "      <td>14.0</td>\n",
              "      <td>8.0</td>\n",
              "      <td>1.0</td>\n",
              "      <td>0.0</td>\n",
              "      <td>0.0</td>\n",
              "      <td>0.0</td>\n",
              "      <td>2.0</td>\n",
              "      <td>...</td>\n",
              "      <td>0.0</td>\n",
              "      <td>0.0</td>\n",
              "      <td>1.0</td>\n",
              "      <td>8.0</td>\n",
              "      <td>12.0</td>\n",
              "      <td>14.0</td>\n",
              "      <td>12.0</td>\n",
              "      <td>1.0</td>\n",
              "      <td>0.0</td>\n",
              "      <td>8</td>\n",
              "    </tr>\n",
              "  </tbody>\n",
              "</table>\n",
              "<p>1797 rows × 65 columns</p>\n",
              "</div>\n",
              "      <button class=\"colab-df-convert\" onclick=\"convertToInteractive('df-32646e7d-df67-4596-bc2d-da25a2aef99c')\"\n",
              "              title=\"Convert this dataframe to an interactive table.\"\n",
              "              style=\"display:none;\">\n",
              "        \n",
              "  <svg xmlns=\"http://www.w3.org/2000/svg\" height=\"24px\"viewBox=\"0 0 24 24\"\n",
              "       width=\"24px\">\n",
              "    <path d=\"M0 0h24v24H0V0z\" fill=\"none\"/>\n",
              "    <path d=\"M18.56 5.44l.94 2.06.94-2.06 2.06-.94-2.06-.94-.94-2.06-.94 2.06-2.06.94zm-11 1L8.5 8.5l.94-2.06 2.06-.94-2.06-.94L8.5 2.5l-.94 2.06-2.06.94zm10 10l.94 2.06.94-2.06 2.06-.94-2.06-.94-.94-2.06-.94 2.06-2.06.94z\"/><path d=\"M17.41 7.96l-1.37-1.37c-.4-.4-.92-.59-1.43-.59-.52 0-1.04.2-1.43.59L10.3 9.45l-7.72 7.72c-.78.78-.78 2.05 0 2.83L4 21.41c.39.39.9.59 1.41.59.51 0 1.02-.2 1.41-.59l7.78-7.78 2.81-2.81c.8-.78.8-2.07 0-2.86zM5.41 20L4 18.59l7.72-7.72 1.47 1.35L5.41 20z\"/>\n",
              "  </svg>\n",
              "      </button>\n",
              "      \n",
              "  <style>\n",
              "    .colab-df-container {\n",
              "      display:flex;\n",
              "      flex-wrap:wrap;\n",
              "      gap: 12px;\n",
              "    }\n",
              "\n",
              "    .colab-df-convert {\n",
              "      background-color: #E8F0FE;\n",
              "      border: none;\n",
              "      border-radius: 50%;\n",
              "      cursor: pointer;\n",
              "      display: none;\n",
              "      fill: #1967D2;\n",
              "      height: 32px;\n",
              "      padding: 0 0 0 0;\n",
              "      width: 32px;\n",
              "    }\n",
              "\n",
              "    .colab-df-convert:hover {\n",
              "      background-color: #E2EBFA;\n",
              "      box-shadow: 0px 1px 2px rgba(60, 64, 67, 0.3), 0px 1px 3px 1px rgba(60, 64, 67, 0.15);\n",
              "      fill: #174EA6;\n",
              "    }\n",
              "\n",
              "    [theme=dark] .colab-df-convert {\n",
              "      background-color: #3B4455;\n",
              "      fill: #D2E3FC;\n",
              "    }\n",
              "\n",
              "    [theme=dark] .colab-df-convert:hover {\n",
              "      background-color: #434B5C;\n",
              "      box-shadow: 0px 1px 3px 1px rgba(0, 0, 0, 0.15);\n",
              "      filter: drop-shadow(0px 1px 2px rgba(0, 0, 0, 0.3));\n",
              "      fill: #FFFFFF;\n",
              "    }\n",
              "  </style>\n",
              "\n",
              "      <script>\n",
              "        const buttonEl =\n",
              "          document.querySelector('#df-32646e7d-df67-4596-bc2d-da25a2aef99c button.colab-df-convert');\n",
              "        buttonEl.style.display =\n",
              "          google.colab.kernel.accessAllowed ? 'block' : 'none';\n",
              "\n",
              "        async function convertToInteractive(key) {\n",
              "          const element = document.querySelector('#df-32646e7d-df67-4596-bc2d-da25a2aef99c');\n",
              "          const dataTable =\n",
              "            await google.colab.kernel.invokeFunction('convertToInteractive',\n",
              "                                                     [key], {});\n",
              "          if (!dataTable) return;\n",
              "\n",
              "          const docLinkHtml = 'Like what you see? Visit the ' +\n",
              "            '<a target=\"_blank\" href=https://colab.research.google.com/notebooks/data_table.ipynb>data table notebook</a>'\n",
              "            + ' to learn more about interactive tables.';\n",
              "          element.innerHTML = '';\n",
              "          dataTable['output_type'] = 'display_data';\n",
              "          await google.colab.output.renderOutput(dataTable, element);\n",
              "          const docLink = document.createElement('div');\n",
              "          docLink.innerHTML = docLinkHtml;\n",
              "          element.appendChild(docLink);\n",
              "        }\n",
              "      </script>\n",
              "    </div>\n",
              "  </div>\n",
              "  "
            ]
          },
          "metadata": {},
          "execution_count": 8
        }
      ]
    },
    {
      "cell_type": "code",
      "source": [
        "from sklearn.model_selection import train_test_split\n",
        "X_train,X_test,y_train,y_test = train_test_split(df.drop(['target'],axis ='columns'),digits.target, test_size=0.2)\n"
      ],
      "metadata": {
        "execution": {
          "iopub.status.busy": "2022-12-16T18:00:14.058423Z",
          "iopub.execute_input": "2022-12-16T18:00:14.059170Z",
          "iopub.status.idle": "2022-12-16T18:00:14.084113Z",
          "shell.execute_reply.started": "2022-12-16T18:00:14.059119Z",
          "shell.execute_reply": "2022-12-16T18:00:14.083124Z"
        },
        "trusted": true,
        "id": "SldLUOeCGUo2"
      },
      "execution_count": 9,
      "outputs": []
    },
    {
      "cell_type": "code",
      "source": [
        " len(X_train)"
      ],
      "metadata": {
        "execution": {
          "iopub.status.busy": "2022-12-16T18:00:14.085903Z",
          "iopub.execute_input": "2022-12-16T18:00:14.086709Z",
          "iopub.status.idle": "2022-12-16T18:00:14.094250Z",
          "shell.execute_reply.started": "2022-12-16T18:00:14.086660Z",
          "shell.execute_reply": "2022-12-16T18:00:14.093033Z"
        },
        "trusted": true,
        "colab": {
          "base_uri": "https://localhost:8080/"
        },
        "id": "9PdT6NbAGUo2",
        "outputId": "8c20b91a-a63b-4276-84db-14d2d7fc61ad"
      },
      "execution_count": 10,
      "outputs": [
        {
          "output_type": "execute_result",
          "data": {
            "text/plain": [
              "1437"
            ]
          },
          "metadata": {},
          "execution_count": 10
        }
      ]
    },
    {
      "cell_type": "code",
      "source": [
        "len('y_train')"
      ],
      "metadata": {
        "execution": {
          "iopub.status.busy": "2022-12-16T18:00:14.096012Z",
          "iopub.execute_input": "2022-12-16T18:00:14.096411Z",
          "iopub.status.idle": "2022-12-16T18:00:14.108035Z",
          "shell.execute_reply.started": "2022-12-16T18:00:14.096363Z",
          "shell.execute_reply": "2022-12-16T18:00:14.106843Z"
        },
        "trusted": true,
        "colab": {
          "base_uri": "https://localhost:8080/"
        },
        "id": "ttLqWvB1GUo3",
        "outputId": "f7c797bc-450e-4252-9936-7f00d76e77a1"
      },
      "execution_count": 11,
      "outputs": [
        {
          "output_type": "execute_result",
          "data": {
            "text/plain": [
              "7"
            ]
          },
          "metadata": {},
          "execution_count": 11
        }
      ]
    },
    {
      "cell_type": "code",
      "source": [
        "from sklearn.ensemble import RandomForestClassifier\n",
        "model = RandomForestClassifier(n_estimators=1)\n",
        "model.fit(X_train,y_train)"
      ],
      "metadata": {
        "execution": {
          "iopub.status.busy": "2022-12-16T18:00:14.109779Z",
          "iopub.execute_input": "2022-12-16T18:00:14.110562Z",
          "iopub.status.idle": "2022-12-16T18:00:14.182544Z",
          "shell.execute_reply.started": "2022-12-16T18:00:14.110516Z",
          "shell.execute_reply": "2022-12-16T18:00:14.181356Z"
        },
        "trusted": true,
        "colab": {
          "base_uri": "https://localhost:8080/"
        },
        "id": "iAjX-ZbjGUo3",
        "outputId": "0d6965a0-5285-4f77-98e6-a16774ea21ba"
      },
      "execution_count": 12,
      "outputs": [
        {
          "output_type": "execute_result",
          "data": {
            "text/plain": [
              "RandomForestClassifier(n_estimators=1)"
            ]
          },
          "metadata": {},
          "execution_count": 12
        }
      ]
    },
    {
      "cell_type": "code",
      "source": [
        "model.get_params()\n",
        "\n"
      ],
      "metadata": {
        "execution": {
          "iopub.status.busy": "2022-12-16T18:00:14.187046Z",
          "iopub.execute_input": "2022-12-16T18:00:14.187792Z",
          "iopub.status.idle": "2022-12-16T18:00:14.196218Z",
          "shell.execute_reply.started": "2022-12-16T18:00:14.187736Z",
          "shell.execute_reply": "2022-12-16T18:00:14.195107Z"
        },
        "trusted": true,
        "colab": {
          "base_uri": "https://localhost:8080/"
        },
        "id": "6KBNrm1ZGUo3",
        "outputId": "f1b789d0-916d-4c8c-dbdb-b1b221db87a0"
      },
      "execution_count": 13,
      "outputs": [
        {
          "output_type": "execute_result",
          "data": {
            "text/plain": [
              "{'bootstrap': True,\n",
              " 'ccp_alpha': 0.0,\n",
              " 'class_weight': None,\n",
              " 'criterion': 'gini',\n",
              " 'max_depth': None,\n",
              " 'max_features': 'auto',\n",
              " 'max_leaf_nodes': None,\n",
              " 'max_samples': None,\n",
              " 'min_impurity_decrease': 0.0,\n",
              " 'min_samples_leaf': 1,\n",
              " 'min_samples_split': 2,\n",
              " 'min_weight_fraction_leaf': 0.0,\n",
              " 'n_estimators': 1,\n",
              " 'n_jobs': None,\n",
              " 'oob_score': False,\n",
              " 'random_state': None,\n",
              " 'verbose': 0,\n",
              " 'warm_start': False}"
            ]
          },
          "metadata": {},
          "execution_count": 13
        }
      ]
    },
    {
      "cell_type": "code",
      "source": [
        "model.score(X_train,y_train)"
      ],
      "metadata": {
        "execution": {
          "iopub.status.busy": "2022-12-16T18:00:14.197634Z",
          "iopub.execute_input": "2022-12-16T18:00:14.198079Z",
          "iopub.status.idle": "2022-12-16T18:00:14.213653Z",
          "shell.execute_reply.started": "2022-12-16T18:00:14.198035Z",
          "shell.execute_reply": "2022-12-16T18:00:14.212743Z"
        },
        "trusted": true,
        "colab": {
          "base_uri": "https://localhost:8080/"
        },
        "id": "rwZhB5D7GUo3",
        "outputId": "b97b10b6-48d5-4521-f293-32db0d272aee"
      },
      "execution_count": 14,
      "outputs": [
        {
          "output_type": "execute_result",
          "data": {
            "text/plain": [
              "0.9046624913013221"
            ]
          },
          "metadata": {},
          "execution_count": 14
        }
      ]
    },
    {
      "cell_type": "markdown",
      "source": [
        "*A random forest classifier*\n",
        "\n",
        "*A random forest is a meta estimator that fits a number of decision tree classifiers on various sub-samples of the dataset and uses averaging to improve the predictive accuracy and control over-fitting. The sub-sample size is controlled with the max_samples parameter if bootstrap=True (default), otherwise the whole dataset is used to build each tree.*"
      ],
      "metadata": {
        "id": "2gTkdTOVGUo3"
      }
    },
    {
      "cell_type": "markdown",
      "source": [
        "***92% Accuracy***"
      ],
      "metadata": {
        "id": "5e2fWzBOGUo4"
      }
    },
    {
      "cell_type": "code",
      "source": [
        "y_predicted = model.predict(X_test)"
      ],
      "metadata": {
        "execution": {
          "iopub.status.busy": "2022-12-16T18:00:14.215041Z",
          "iopub.execute_input": "2022-12-16T18:00:14.216512Z",
          "iopub.status.idle": "2022-12-16T18:00:14.224688Z",
          "shell.execute_reply.started": "2022-12-16T18:00:14.216455Z",
          "shell.execute_reply": "2022-12-16T18:00:14.223373Z"
        },
        "trusted": true,
        "id": "DO7I-jYJGUo5"
      },
      "execution_count": 15,
      "outputs": []
    },
    {
      "cell_type": "code",
      "source": [
        "from sklearn.metrics import confusion_matrix\n",
        "cm = confusion_matrix(y_test,y_predicted)\n",
        "cm"
      ],
      "metadata": {
        "execution": {
          "iopub.status.busy": "2022-12-16T18:00:14.226106Z",
          "iopub.execute_input": "2022-12-16T18:00:14.227065Z",
          "iopub.status.idle": "2022-12-16T18:00:14.240143Z",
          "shell.execute_reply.started": "2022-12-16T18:00:14.227029Z",
          "shell.execute_reply": "2022-12-16T18:00:14.238792Z"
        },
        "trusted": true,
        "colab": {
          "base_uri": "https://localhost:8080/"
        },
        "id": "33sGI_6eGUo5",
        "outputId": "8eaab5f5-880d-441d-c394-90ccda80aef3"
      },
      "execution_count": 16,
      "outputs": [
        {
          "output_type": "execute_result",
          "data": {
            "text/plain": [
              "array([[30,  0,  0,  0,  0,  0,  2,  0,  0,  0],\n",
              "       [ 0, 29,  3,  2,  1,  0,  0,  1,  3,  2],\n",
              "       [ 0,  1, 29,  1,  0,  0,  1,  0,  0,  0],\n",
              "       [ 0,  1,  1, 25,  0,  0,  0,  1,  1,  1],\n",
              "       [ 1,  1,  1,  0, 30,  1,  0,  0,  1,  3],\n",
              "       [ 1,  1,  0,  4,  3, 21,  2,  0,  4,  2],\n",
              "       [ 2,  2,  1,  0,  0,  2, 31,  0,  1,  0],\n",
              "       [ 0,  2,  0,  0,  3,  0,  0, 27,  0,  2],\n",
              "       [ 0,  4,  3,  3,  5,  2,  2,  4, 11,  2],\n",
              "       [ 4,  0,  0,  2,  2,  5,  0,  0,  3, 24]])"
            ]
          },
          "metadata": {},
          "execution_count": 16
        }
      ]
    },
    {
      "cell_type": "code",
      "source": [
        "import plotly.express as px\n",
        "\n",
        "z = [[29,  0,  0,  0,  0,  2,  1,  0,  0,  0],\n",
        "       [ 0, 25,  1,  0,  1,  2,  1,  0, 10,  0],\n",
        "       [ 0,  1, 33,  0,  0,  0,  0,  1,  2,  0],\n",
        "       [ 0,  5,  0, 29,  0,  1,  0,  1,  2,  3],\n",
        "       [ 2,  0,  0,  0, 29,  0,  1,  1,  1,  2],\n",
        "       [ 1,  0,  1,  1,  2, 26,  2,  1,  1,  6],\n",
        "       [ 3,  1,  0,  0,  2,  1, 24,  0,  0,  0],\n",
        "       [ 0,  1,  0,  0,  0,  2,  1, 21,  1,  0],\n",
        "       [ 0,  3,  3,  1,  2,  0,  2,  0, 27,  1],\n",
        "       [ 0,  0,  0,  1,  1,  9,  1,  0,  3, 22]]\n",
        "\n",
        "fig = px.imshow(z, text_auto=True)\n",
        "fig.show()"
      ],
      "metadata": {
        "execution": {
          "iopub.status.busy": "2022-12-16T18:00:14.241787Z",
          "iopub.execute_input": "2022-12-16T18:00:14.242127Z",
          "iopub.status.idle": "2022-12-16T18:00:15.250852Z",
          "shell.execute_reply.started": "2022-12-16T18:00:14.242097Z",
          "shell.execute_reply": "2022-12-16T18:00:15.249541Z"
        },
        "trusted": true,
        "colab": {
          "base_uri": "https://localhost:8080/",
          "height": 542
        },
        "id": "25mDHRWuGUo5",
        "outputId": "686936b2-ce63-464c-d5ce-d54797bb223e"
      },
      "execution_count": 17,
      "outputs": [
        {
          "output_type": "display_data",
          "data": {
            "text/html": [
              "<html>\n",
              "<head><meta charset=\"utf-8\" /></head>\n",
              "<body>\n",
              "    <div>            <script src=\"https://cdnjs.cloudflare.com/ajax/libs/mathjax/2.7.5/MathJax.js?config=TeX-AMS-MML_SVG\"></script><script type=\"text/javascript\">if (window.MathJax) {MathJax.Hub.Config({SVG: {font: \"STIX-Web\"}});}</script>                <script type=\"text/javascript\">window.PlotlyConfig = {MathJaxConfig: 'local'};</script>\n",
              "        <script src=\"https://cdn.plot.ly/plotly-2.8.3.min.js\"></script>                <div id=\"6ef9f437-8366-4ac9-99f2-73dd1d6e4059\" class=\"plotly-graph-div\" style=\"height:525px; width:100%;\"></div>            <script type=\"text/javascript\">                                    window.PLOTLYENV=window.PLOTLYENV || {};                                    if (document.getElementById(\"6ef9f437-8366-4ac9-99f2-73dd1d6e4059\")) {                    Plotly.newPlot(                        \"6ef9f437-8366-4ac9-99f2-73dd1d6e4059\",                        [{\"coloraxis\":\"coloraxis\",\"name\":\"0\",\"texttemplate\":\"%{z}\",\"z\":[[29,0,0,0,0,2,1,0,0,0],[0,25,1,0,1,2,1,0,10,0],[0,1,33,0,0,0,0,1,2,0],[0,5,0,29,0,1,0,1,2,3],[2,0,0,0,29,0,1,1,1,2],[1,0,1,1,2,26,2,1,1,6],[3,1,0,0,2,1,24,0,0,0],[0,1,0,0,0,2,1,21,1,0],[0,3,3,1,2,0,2,0,27,1],[0,0,0,1,1,9,1,0,3,22]],\"type\":\"heatmap\",\"xaxis\":\"x\",\"yaxis\":\"y\",\"hovertemplate\":\"x: %{x}<br>y: %{y}<br>color: %{z}<extra></extra>\"}],                        {\"template\":{\"data\":{\"bar\":[{\"error_x\":{\"color\":\"#2a3f5f\"},\"error_y\":{\"color\":\"#2a3f5f\"},\"marker\":{\"line\":{\"color\":\"#E5ECF6\",\"width\":0.5},\"pattern\":{\"fillmode\":\"overlay\",\"size\":10,\"solidity\":0.2}},\"type\":\"bar\"}],\"barpolar\":[{\"marker\":{\"line\":{\"color\":\"#E5ECF6\",\"width\":0.5},\"pattern\":{\"fillmode\":\"overlay\",\"size\":10,\"solidity\":0.2}},\"type\":\"barpolar\"}],\"carpet\":[{\"aaxis\":{\"endlinecolor\":\"#2a3f5f\",\"gridcolor\":\"white\",\"linecolor\":\"white\",\"minorgridcolor\":\"white\",\"startlinecolor\":\"#2a3f5f\"},\"baxis\":{\"endlinecolor\":\"#2a3f5f\",\"gridcolor\":\"white\",\"linecolor\":\"white\",\"minorgridcolor\":\"white\",\"startlinecolor\":\"#2a3f5f\"},\"type\":\"carpet\"}],\"choropleth\":[{\"colorbar\":{\"outlinewidth\":0,\"ticks\":\"\"},\"type\":\"choropleth\"}],\"contour\":[{\"colorbar\":{\"outlinewidth\":0,\"ticks\":\"\"},\"colorscale\":[[0.0,\"#0d0887\"],[0.1111111111111111,\"#46039f\"],[0.2222222222222222,\"#7201a8\"],[0.3333333333333333,\"#9c179e\"],[0.4444444444444444,\"#bd3786\"],[0.5555555555555556,\"#d8576b\"],[0.6666666666666666,\"#ed7953\"],[0.7777777777777778,\"#fb9f3a\"],[0.8888888888888888,\"#fdca26\"],[1.0,\"#f0f921\"]],\"type\":\"contour\"}],\"contourcarpet\":[{\"colorbar\":{\"outlinewidth\":0,\"ticks\":\"\"},\"type\":\"contourcarpet\"}],\"heatmap\":[{\"colorbar\":{\"outlinewidth\":0,\"ticks\":\"\"},\"colorscale\":[[0.0,\"#0d0887\"],[0.1111111111111111,\"#46039f\"],[0.2222222222222222,\"#7201a8\"],[0.3333333333333333,\"#9c179e\"],[0.4444444444444444,\"#bd3786\"],[0.5555555555555556,\"#d8576b\"],[0.6666666666666666,\"#ed7953\"],[0.7777777777777778,\"#fb9f3a\"],[0.8888888888888888,\"#fdca26\"],[1.0,\"#f0f921\"]],\"type\":\"heatmap\"}],\"heatmapgl\":[{\"colorbar\":{\"outlinewidth\":0,\"ticks\":\"\"},\"colorscale\":[[0.0,\"#0d0887\"],[0.1111111111111111,\"#46039f\"],[0.2222222222222222,\"#7201a8\"],[0.3333333333333333,\"#9c179e\"],[0.4444444444444444,\"#bd3786\"],[0.5555555555555556,\"#d8576b\"],[0.6666666666666666,\"#ed7953\"],[0.7777777777777778,\"#fb9f3a\"],[0.8888888888888888,\"#fdca26\"],[1.0,\"#f0f921\"]],\"type\":\"heatmapgl\"}],\"histogram\":[{\"marker\":{\"pattern\":{\"fillmode\":\"overlay\",\"size\":10,\"solidity\":0.2}},\"type\":\"histogram\"}],\"histogram2d\":[{\"colorbar\":{\"outlinewidth\":0,\"ticks\":\"\"},\"colorscale\":[[0.0,\"#0d0887\"],[0.1111111111111111,\"#46039f\"],[0.2222222222222222,\"#7201a8\"],[0.3333333333333333,\"#9c179e\"],[0.4444444444444444,\"#bd3786\"],[0.5555555555555556,\"#d8576b\"],[0.6666666666666666,\"#ed7953\"],[0.7777777777777778,\"#fb9f3a\"],[0.8888888888888888,\"#fdca26\"],[1.0,\"#f0f921\"]],\"type\":\"histogram2d\"}],\"histogram2dcontour\":[{\"colorbar\":{\"outlinewidth\":0,\"ticks\":\"\"},\"colorscale\":[[0.0,\"#0d0887\"],[0.1111111111111111,\"#46039f\"],[0.2222222222222222,\"#7201a8\"],[0.3333333333333333,\"#9c179e\"],[0.4444444444444444,\"#bd3786\"],[0.5555555555555556,\"#d8576b\"],[0.6666666666666666,\"#ed7953\"],[0.7777777777777778,\"#fb9f3a\"],[0.8888888888888888,\"#fdca26\"],[1.0,\"#f0f921\"]],\"type\":\"histogram2dcontour\"}],\"mesh3d\":[{\"colorbar\":{\"outlinewidth\":0,\"ticks\":\"\"},\"type\":\"mesh3d\"}],\"parcoords\":[{\"line\":{\"colorbar\":{\"outlinewidth\":0,\"ticks\":\"\"}},\"type\":\"parcoords\"}],\"pie\":[{\"automargin\":true,\"type\":\"pie\"}],\"scatter\":[{\"marker\":{\"colorbar\":{\"outlinewidth\":0,\"ticks\":\"\"}},\"type\":\"scatter\"}],\"scatter3d\":[{\"line\":{\"colorbar\":{\"outlinewidth\":0,\"ticks\":\"\"}},\"marker\":{\"colorbar\":{\"outlinewidth\":0,\"ticks\":\"\"}},\"type\":\"scatter3d\"}],\"scattercarpet\":[{\"marker\":{\"colorbar\":{\"outlinewidth\":0,\"ticks\":\"\"}},\"type\":\"scattercarpet\"}],\"scattergeo\":[{\"marker\":{\"colorbar\":{\"outlinewidth\":0,\"ticks\":\"\"}},\"type\":\"scattergeo\"}],\"scattergl\":[{\"marker\":{\"colorbar\":{\"outlinewidth\":0,\"ticks\":\"\"}},\"type\":\"scattergl\"}],\"scattermapbox\":[{\"marker\":{\"colorbar\":{\"outlinewidth\":0,\"ticks\":\"\"}},\"type\":\"scattermapbox\"}],\"scatterpolar\":[{\"marker\":{\"colorbar\":{\"outlinewidth\":0,\"ticks\":\"\"}},\"type\":\"scatterpolar\"}],\"scatterpolargl\":[{\"marker\":{\"colorbar\":{\"outlinewidth\":0,\"ticks\":\"\"}},\"type\":\"scatterpolargl\"}],\"scatterternary\":[{\"marker\":{\"colorbar\":{\"outlinewidth\":0,\"ticks\":\"\"}},\"type\":\"scatterternary\"}],\"surface\":[{\"colorbar\":{\"outlinewidth\":0,\"ticks\":\"\"},\"colorscale\":[[0.0,\"#0d0887\"],[0.1111111111111111,\"#46039f\"],[0.2222222222222222,\"#7201a8\"],[0.3333333333333333,\"#9c179e\"],[0.4444444444444444,\"#bd3786\"],[0.5555555555555556,\"#d8576b\"],[0.6666666666666666,\"#ed7953\"],[0.7777777777777778,\"#fb9f3a\"],[0.8888888888888888,\"#fdca26\"],[1.0,\"#f0f921\"]],\"type\":\"surface\"}],\"table\":[{\"cells\":{\"fill\":{\"color\":\"#EBF0F8\"},\"line\":{\"color\":\"white\"}},\"header\":{\"fill\":{\"color\":\"#C8D4E3\"},\"line\":{\"color\":\"white\"}},\"type\":\"table\"}]},\"layout\":{\"annotationdefaults\":{\"arrowcolor\":\"#2a3f5f\",\"arrowhead\":0,\"arrowwidth\":1},\"autotypenumbers\":\"strict\",\"coloraxis\":{\"colorbar\":{\"outlinewidth\":0,\"ticks\":\"\"}},\"colorscale\":{\"diverging\":[[0,\"#8e0152\"],[0.1,\"#c51b7d\"],[0.2,\"#de77ae\"],[0.3,\"#f1b6da\"],[0.4,\"#fde0ef\"],[0.5,\"#f7f7f7\"],[0.6,\"#e6f5d0\"],[0.7,\"#b8e186\"],[0.8,\"#7fbc41\"],[0.9,\"#4d9221\"],[1,\"#276419\"]],\"sequential\":[[0.0,\"#0d0887\"],[0.1111111111111111,\"#46039f\"],[0.2222222222222222,\"#7201a8\"],[0.3333333333333333,\"#9c179e\"],[0.4444444444444444,\"#bd3786\"],[0.5555555555555556,\"#d8576b\"],[0.6666666666666666,\"#ed7953\"],[0.7777777777777778,\"#fb9f3a\"],[0.8888888888888888,\"#fdca26\"],[1.0,\"#f0f921\"]],\"sequentialminus\":[[0.0,\"#0d0887\"],[0.1111111111111111,\"#46039f\"],[0.2222222222222222,\"#7201a8\"],[0.3333333333333333,\"#9c179e\"],[0.4444444444444444,\"#bd3786\"],[0.5555555555555556,\"#d8576b\"],[0.6666666666666666,\"#ed7953\"],[0.7777777777777778,\"#fb9f3a\"],[0.8888888888888888,\"#fdca26\"],[1.0,\"#f0f921\"]]},\"colorway\":[\"#636efa\",\"#EF553B\",\"#00cc96\",\"#ab63fa\",\"#FFA15A\",\"#19d3f3\",\"#FF6692\",\"#B6E880\",\"#FF97FF\",\"#FECB52\"],\"font\":{\"color\":\"#2a3f5f\"},\"geo\":{\"bgcolor\":\"white\",\"lakecolor\":\"white\",\"landcolor\":\"#E5ECF6\",\"showlakes\":true,\"showland\":true,\"subunitcolor\":\"white\"},\"hoverlabel\":{\"align\":\"left\"},\"hovermode\":\"closest\",\"mapbox\":{\"style\":\"light\"},\"paper_bgcolor\":\"white\",\"plot_bgcolor\":\"#E5ECF6\",\"polar\":{\"angularaxis\":{\"gridcolor\":\"white\",\"linecolor\":\"white\",\"ticks\":\"\"},\"bgcolor\":\"#E5ECF6\",\"radialaxis\":{\"gridcolor\":\"white\",\"linecolor\":\"white\",\"ticks\":\"\"}},\"scene\":{\"xaxis\":{\"backgroundcolor\":\"#E5ECF6\",\"gridcolor\":\"white\",\"gridwidth\":2,\"linecolor\":\"white\",\"showbackground\":true,\"ticks\":\"\",\"zerolinecolor\":\"white\"},\"yaxis\":{\"backgroundcolor\":\"#E5ECF6\",\"gridcolor\":\"white\",\"gridwidth\":2,\"linecolor\":\"white\",\"showbackground\":true,\"ticks\":\"\",\"zerolinecolor\":\"white\"},\"zaxis\":{\"backgroundcolor\":\"#E5ECF6\",\"gridcolor\":\"white\",\"gridwidth\":2,\"linecolor\":\"white\",\"showbackground\":true,\"ticks\":\"\",\"zerolinecolor\":\"white\"}},\"shapedefaults\":{\"line\":{\"color\":\"#2a3f5f\"}},\"ternary\":{\"aaxis\":{\"gridcolor\":\"white\",\"linecolor\":\"white\",\"ticks\":\"\"},\"baxis\":{\"gridcolor\":\"white\",\"linecolor\":\"white\",\"ticks\":\"\"},\"bgcolor\":\"#E5ECF6\",\"caxis\":{\"gridcolor\":\"white\",\"linecolor\":\"white\",\"ticks\":\"\"}},\"title\":{\"x\":0.05},\"xaxis\":{\"automargin\":true,\"gridcolor\":\"white\",\"linecolor\":\"white\",\"ticks\":\"\",\"title\":{\"standoff\":15},\"zerolinecolor\":\"white\",\"zerolinewidth\":2},\"yaxis\":{\"automargin\":true,\"gridcolor\":\"white\",\"linecolor\":\"white\",\"ticks\":\"\",\"title\":{\"standoff\":15},\"zerolinecolor\":\"white\",\"zerolinewidth\":2}}},\"xaxis\":{\"anchor\":\"y\",\"domain\":[0.0,1.0],\"scaleanchor\":\"y\",\"constrain\":\"domain\"},\"yaxis\":{\"anchor\":\"x\",\"domain\":[0.0,1.0],\"autorange\":\"reversed\",\"constrain\":\"domain\"},\"coloraxis\":{\"colorscale\":[[0.0,\"#0d0887\"],[0.1111111111111111,\"#46039f\"],[0.2222222222222222,\"#7201a8\"],[0.3333333333333333,\"#9c179e\"],[0.4444444444444444,\"#bd3786\"],[0.5555555555555556,\"#d8576b\"],[0.6666666666666666,\"#ed7953\"],[0.7777777777777778,\"#fb9f3a\"],[0.8888888888888888,\"#fdca26\"],[1.0,\"#f0f921\"]]},\"margin\":{\"t\":60}},                        {\"responsive\": true}                    ).then(function(){\n",
              "                            \n",
              "var gd = document.getElementById('6ef9f437-8366-4ac9-99f2-73dd1d6e4059');\n",
              "var x = new MutationObserver(function (mutations, observer) {{\n",
              "        var display = window.getComputedStyle(gd).display;\n",
              "        if (!display || display === 'none') {{\n",
              "            console.log([gd, 'removed!']);\n",
              "            Plotly.purge(gd);\n",
              "            observer.disconnect();\n",
              "        }}\n",
              "}});\n",
              "\n",
              "// Listen for the removal of the full notebook cells\n",
              "var notebookContainer = gd.closest('#notebook-container');\n",
              "if (notebookContainer) {{\n",
              "    x.observe(notebookContainer, {childList: true});\n",
              "}}\n",
              "\n",
              "// Listen for the clearing of the current output cell\n",
              "var outputEl = gd.closest('.output');\n",
              "if (outputEl) {{\n",
              "    x.observe(outputEl, {childList: true});\n",
              "}}\n",
              "\n",
              "                        })                };                            </script>        </div>\n",
              "</body>\n",
              "</html>"
            ]
          },
          "metadata": {}
        }
      ]
    },
    {
      "cell_type": "markdown",
      "source": [
        "![newplot (1).png](data:image/png;base64,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)"
      ],
      "metadata": {
        "id": "M2YUbcQzGUo6"
      }
    }
  ]
}
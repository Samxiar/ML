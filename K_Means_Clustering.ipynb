{
  "nbformat": 4,
  "nbformat_minor": 0,
  "metadata": {
    "colab": {
      "provenance": [],
      "authorship_tag": "ABX9TyMvsQ1FVsOVrIZ6F/It8hj6",
      "include_colab_link": true
    },
    "kernelspec": {
      "name": "python3",
      "display_name": "Python 3"
    },
    "language_info": {
      "name": "python"
    }
  },
  "cells": [
    {
      "cell_type": "markdown",
      "metadata": {
        "id": "view-in-github",
        "colab_type": "text"
      },
      "source": [
        "<a href=\"https://colab.research.google.com/github/Samxiar/ML/blob/main/K_Means_Clustering.ipynb\" target=\"_parent\"><img src=\"https://colab.research.google.com/assets/colab-badge.svg\" alt=\"Open In Colab\"/></a>"
      ]
    },
    {
      "cell_type": "code",
      "execution_count": 14,
      "metadata": {
        "id": "G7vEmqdw_m1H"
      },
      "outputs": [],
      "source": [
        "import pandas as pd\n",
        "from sklearn.cluster import KMeans\n",
        "from sklearn.preprocessing import MinMaxScaler\n",
        "import plotly.express as px\n",
        "import warnings\n",
        "warnings.filterwarnings('ignore')\n"
      ]
    },
    {
      "cell_type": "code",
      "source": [
        "df = pd.read_csv('sussybaka.csv')\n",
        "df.head()"
      ],
      "metadata": {
        "colab": {
          "base_uri": "https://localhost:8080/",
          "height": 206
        },
        "id": "qDl3ahj2GSBB",
        "outputId": "8b37b5b9-8bd1-43e0-fc58-0a381ececbbf"
      },
      "execution_count": 17,
      "outputs": [
        {
          "output_type": "execute_result",
          "data": {
            "text/plain": [
              "      Name  Age  Income\n",
              "0      rob   27   70000\n",
              "1  michael   29   90000\n",
              "2    mohan   28   61000\n",
              "3   ismail   42   60000\n",
              "4     kory   39  150000"
            ],
            "text/html": [
              "\n",
              "  <div id=\"df-fbfe7cc2-c9d4-4486-b617-3cf77aec3429\">\n",
              "    <div class=\"colab-df-container\">\n",
              "      <div>\n",
              "<style scoped>\n",
              "    .dataframe tbody tr th:only-of-type {\n",
              "        vertical-align: middle;\n",
              "    }\n",
              "\n",
              "    .dataframe tbody tr th {\n",
              "        vertical-align: top;\n",
              "    }\n",
              "\n",
              "    .dataframe thead th {\n",
              "        text-align: right;\n",
              "    }\n",
              "</style>\n",
              "<table border=\"1\" class=\"dataframe\">\n",
              "  <thead>\n",
              "    <tr style=\"text-align: right;\">\n",
              "      <th></th>\n",
              "      <th>Name</th>\n",
              "      <th>Age</th>\n",
              "      <th>Income</th>\n",
              "    </tr>\n",
              "  </thead>\n",
              "  <tbody>\n",
              "    <tr>\n",
              "      <th>0</th>\n",
              "      <td>rob</td>\n",
              "      <td>27</td>\n",
              "      <td>70000</td>\n",
              "    </tr>\n",
              "    <tr>\n",
              "      <th>1</th>\n",
              "      <td>michael</td>\n",
              "      <td>29</td>\n",
              "      <td>90000</td>\n",
              "    </tr>\n",
              "    <tr>\n",
              "      <th>2</th>\n",
              "      <td>mohan</td>\n",
              "      <td>28</td>\n",
              "      <td>61000</td>\n",
              "    </tr>\n",
              "    <tr>\n",
              "      <th>3</th>\n",
              "      <td>ismail</td>\n",
              "      <td>42</td>\n",
              "      <td>60000</td>\n",
              "    </tr>\n",
              "    <tr>\n",
              "      <th>4</th>\n",
              "      <td>kory</td>\n",
              "      <td>39</td>\n",
              "      <td>150000</td>\n",
              "    </tr>\n",
              "  </tbody>\n",
              "</table>\n",
              "</div>\n",
              "      <button class=\"colab-df-convert\" onclick=\"convertToInteractive('df-fbfe7cc2-c9d4-4486-b617-3cf77aec3429')\"\n",
              "              title=\"Convert this dataframe to an interactive table.\"\n",
              "              style=\"display:none;\">\n",
              "        \n",
              "  <svg xmlns=\"http://www.w3.org/2000/svg\" height=\"24px\"viewBox=\"0 0 24 24\"\n",
              "       width=\"24px\">\n",
              "    <path d=\"M0 0h24v24H0V0z\" fill=\"none\"/>\n",
              "    <path d=\"M18.56 5.44l.94 2.06.94-2.06 2.06-.94-2.06-.94-.94-2.06-.94 2.06-2.06.94zm-11 1L8.5 8.5l.94-2.06 2.06-.94-2.06-.94L8.5 2.5l-.94 2.06-2.06.94zm10 10l.94 2.06.94-2.06 2.06-.94-2.06-.94-.94-2.06-.94 2.06-2.06.94z\"/><path d=\"M17.41 7.96l-1.37-1.37c-.4-.4-.92-.59-1.43-.59-.52 0-1.04.2-1.43.59L10.3 9.45l-7.72 7.72c-.78.78-.78 2.05 0 2.83L4 21.41c.39.39.9.59 1.41.59.51 0 1.02-.2 1.41-.59l7.78-7.78 2.81-2.81c.8-.78.8-2.07 0-2.86zM5.41 20L4 18.59l7.72-7.72 1.47 1.35L5.41 20z\"/>\n",
              "  </svg>\n",
              "      </button>\n",
              "      \n",
              "  <style>\n",
              "    .colab-df-container {\n",
              "      display:flex;\n",
              "      flex-wrap:wrap;\n",
              "      gap: 12px;\n",
              "    }\n",
              "\n",
              "    .colab-df-convert {\n",
              "      background-color: #E8F0FE;\n",
              "      border: none;\n",
              "      border-radius: 50%;\n",
              "      cursor: pointer;\n",
              "      display: none;\n",
              "      fill: #1967D2;\n",
              "      height: 32px;\n",
              "      padding: 0 0 0 0;\n",
              "      width: 32px;\n",
              "    }\n",
              "\n",
              "    .colab-df-convert:hover {\n",
              "      background-color: #E2EBFA;\n",
              "      box-shadow: 0px 1px 2px rgba(60, 64, 67, 0.3), 0px 1px 3px 1px rgba(60, 64, 67, 0.15);\n",
              "      fill: #174EA6;\n",
              "    }\n",
              "\n",
              "    [theme=dark] .colab-df-convert {\n",
              "      background-color: #3B4455;\n",
              "      fill: #D2E3FC;\n",
              "    }\n",
              "\n",
              "    [theme=dark] .colab-df-convert:hover {\n",
              "      background-color: #434B5C;\n",
              "      box-shadow: 0px 1px 3px 1px rgba(0, 0, 0, 0.15);\n",
              "      filter: drop-shadow(0px 1px 2px rgba(0, 0, 0, 0.3));\n",
              "      fill: #FFFFFF;\n",
              "    }\n",
              "  </style>\n",
              "\n",
              "      <script>\n",
              "        const buttonEl =\n",
              "          document.querySelector('#df-fbfe7cc2-c9d4-4486-b617-3cf77aec3429 button.colab-df-convert');\n",
              "        buttonEl.style.display =\n",
              "          google.colab.kernel.accessAllowed ? 'block' : 'none';\n",
              "\n",
              "        async function convertToInteractive(key) {\n",
              "          const element = document.querySelector('#df-fbfe7cc2-c9d4-4486-b617-3cf77aec3429');\n",
              "          const dataTable =\n",
              "            await google.colab.kernel.invokeFunction('convertToInteractive',\n",
              "                                                     [key], {});\n",
              "          if (!dataTable) return;\n",
              "\n",
              "          const docLinkHtml = 'Like what you see? Visit the ' +\n",
              "            '<a target=\"_blank\" href=https://colab.research.google.com/notebooks/data_table.ipynb>data table notebook</a>'\n",
              "            + ' to learn more about interactive tables.';\n",
              "          element.innerHTML = '';\n",
              "          dataTable['output_type'] = 'display_data';\n",
              "          await google.colab.output.renderOutput(dataTable, element);\n",
              "          const docLink = document.createElement('div');\n",
              "          docLink.innerHTML = docLinkHtml;\n",
              "          element.appendChild(docLink);\n",
              "        }\n",
              "      </script>\n",
              "    </div>\n",
              "  </div>\n",
              "  "
            ]
          },
          "metadata": {},
          "execution_count": 17
        }
      ]
    },
    {
      "cell_type": "code",
      "source": [
        "plt.xlabel('Age')\n",
        "plt.ylabel('Salary')\n",
        "plt.scatter(df.Age,df['Income'])\n"
      ],
      "metadata": {
        "colab": {
          "base_uri": "https://localhost:8080/",
          "height": 296
        },
        "id": "E6ArLHYqHPAP",
        "outputId": "3a25cbf1-e3d8-445f-bb29-749881198883"
      },
      "execution_count": 25,
      "outputs": [
        {
          "output_type": "execute_result",
          "data": {
            "text/plain": [
              "<matplotlib.collections.PathCollection at 0x7f37e07c7f40>"
            ]
          },
          "metadata": {},
          "execution_count": 25
        },
        {
          "output_type": "display_data",
          "data": {
            "text/plain": [
              "<Figure size 432x288 with 1 Axes>"
            ],
            "image/png": "[encoded data removed]"
          },
          "metadata": {
            "needs_background": "light"
          }
        }
      ]
    },
    {
      "cell_type": "markdown",
      "source": [
        "![newplot (2).png](data:image/png;base64,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)"
      ],
      "metadata": {
        "id": "Ub-iXK7eIkpg"
      }
    },
    {
      "cell_type": "code",
      "source": [
        "km = KMeans(n_clusters=3)\n",
        "km.get_params()"
      ],
      "metadata": {
        "colab": {
          "base_uri": "https://localhost:8080/"
        },
        "id": "jDPhRTQTHtTm",
        "outputId": "04a411d7-ddb9-42c3-d0cb-e3c669458cb3"
      },
      "execution_count": 29,
      "outputs": [
        {
          "output_type": "execute_result",
          "data": {
            "text/plain": [
              "{'algorithm': 'auto',\n",
              " 'copy_x': True,\n",
              " 'init': 'k-means++',\n",
              " 'max_iter': 300,\n",
              " 'n_clusters': 3,\n",
              " 'n_init': 10,\n",
              " 'random_state': None,\n",
              " 'tol': 0.0001,\n",
              " 'verbose': 0}"
            ]
          },
          "metadata": {},
          "execution_count": 29
        }
      ]
    },
    {
      "cell_type": "code",
      "source": [
        "y_predict = km.fit_predict(df[['Age','Income']])\n",
        "y_predict"
      ],
      "metadata": {
        "colab": {
          "base_uri": "https://localhost:8080/"
        },
        "id": "2LKmmFR9JVr-",
        "outputId": "840e2b26-1f90-4844-d201-9d8d156db180"
      },
      "execution_count": 32,
      "outputs": [
        {
          "output_type": "execute_result",
          "data": {
            "text/plain": [
              "array([2, 2, 0, 0, 1, 1, 1, 1, 1, 1, 0, 0, 0, 0, 0, 0, 0, 0, 2, 2, 0, 0],\n",
              "      dtype=int32)"
            ]
          },
          "metadata": {},
          "execution_count": 32
        }
      ]
    },
    {
      "cell_type": "code",
      "source": [
        "df['Cluster']=y_predict\n",
        "df.head()"
      ],
      "metadata": {
        "colab": {
          "base_uri": "https://localhost:8080/",
          "height": 206
        },
        "id": "twwzgdnnJ0Qv",
        "outputId": "a21d932a-5ff5-4970-e6a0-e13d6723ceb6"
      },
      "execution_count": 41,
      "outputs": [
        {
          "output_type": "execute_result",
          "data": {
            "text/plain": [
              "      Name  Age  Income  Cluster\n",
              "0      rob   27   70000        2\n",
              "1  michael   29   90000        2\n",
              "2    mohan   28   61000        0\n",
              "3   ismail   42   60000        0\n",
              "4     kory   39  150000        1"
            ],
            "text/html": [
              "\n",
              "  <div id=\"df-73631ba9-5f5e-4fd8-9c37-81906a18f168\">\n",
              "    <div class=\"colab-df-container\">\n",
              "      <div>\n",
              "<style scoped>\n",
              "    .dataframe tbody tr th:only-of-type {\n",
              "        vertical-align: middle;\n",
              "    }\n",
              "\n",
              "    .dataframe tbody tr th {\n",
              "        vertical-align: top;\n",
              "    }\n",
              "\n",
              "    .dataframe thead th {\n",
              "        text-align: right;\n",
              "    }\n",
              "</style>\n",
              "<table border=\"1\" class=\"dataframe\">\n",
              "  <thead>\n",
              "    <tr style=\"text-align: right;\">\n",
              "      <th></th>\n",
              "      <th>Name</th>\n",
              "      <th>Age</th>\n",
              "      <th>Income</th>\n",
              "      <th>Cluster</th>\n",
              "    </tr>\n",
              "  </thead>\n",
              "  <tbody>\n",
              "    <tr>\n",
              "      <th>0</th>\n",
              "      <td>rob</td>\n",
              "      <td>27</td>\n",
              "      <td>70000</td>\n",
              "      <td>2</td>\n",
              "    </tr>\n",
              "    <tr>\n",
              "      <th>1</th>\n",
              "      <td>michael</td>\n",
              "      <td>29</td>\n",
              "      <td>90000</td>\n",
              "      <td>2</td>\n",
              "    </tr>\n",
              "    <tr>\n",
              "      <th>2</th>\n",
              "      <td>mohan</td>\n",
              "      <td>28</td>\n",
              "      <td>61000</td>\n",
              "      <td>0</td>\n",
              "    </tr>\n",
              "    <tr>\n",
              "      <th>3</th>\n",
              "      <td>ismail</td>\n",
              "      <td>42</td>\n",
              "      <td>60000</td>\n",
              "      <td>0</td>\n",
              "    </tr>\n",
              "    <tr>\n",
              "      <th>4</th>\n",
              "      <td>kory</td>\n",
              "      <td>39</td>\n",
              "      <td>150000</td>\n",
              "      <td>1</td>\n",
              "    </tr>\n",
              "  </tbody>\n",
              "</table>\n",
              "</div>\n",
              "      <button class=\"colab-df-convert\" onclick=\"convertToInteractive('df-73631ba9-5f5e-4fd8-9c37-81906a18f168')\"\n",
              "              title=\"Convert this dataframe to an interactive table.\"\n",
              "              style=\"display:none;\">\n",
              "        \n",
              "  <svg xmlns=\"http://www.w3.org/2000/svg\" height=\"24px\"viewBox=\"0 0 24 24\"\n",
              "       width=\"24px\">\n",
              "    <path d=\"M0 0h24v24H0V0z\" fill=\"none\"/>\n",
              "    <path d=\"M18.56 5.44l.94 2.06.94-2.06 2.06-.94-2.06-.94-.94-2.06-.94 2.06-2.06.94zm-11 1L8.5 8.5l.94-2.06 2.06-.94-2.06-.94L8.5 2.5l-.94 2.06-2.06.94zm10 10l.94 2.06.94-2.06 2.06-.94-2.06-.94-.94-2.06-.94 2.06-2.06.94z\"/><path d=\"M17.41 7.96l-1.37-1.37c-.4-.4-.92-.59-1.43-.59-.52 0-1.04.2-1.43.59L10.3 9.45l-7.72 7.72c-.78.78-.78 2.05 0 2.83L4 21.41c.39.39.9.59 1.41.59.51 0 1.02-.2 1.41-.59l7.78-7.78 2.81-2.81c.8-.78.8-2.07 0-2.86zM5.41 20L4 18.59l7.72-7.72 1.47 1.35L5.41 20z\"/>\n",
              "  </svg>\n",
              "      </button>\n",
              "      \n",
              "  <style>\n",
              "    .colab-df-container {\n",
              "      display:flex;\n",
              "      flex-wrap:wrap;\n",
              "      gap: 12px;\n",
              "    }\n",
              "\n",
              "    .colab-df-convert {\n",
              "      background-color: #E8F0FE;\n",
              "      border: none;\n",
              "      border-radius: 50%;\n",
              "      cursor: pointer;\n",
              "      display: none;\n",
              "      fill: #1967D2;\n",
              "      height: 32px;\n",
              "      padding: 0 0 0 0;\n",
              "      width: 32px;\n",
              "    }\n",
              "\n",
              "    .colab-df-convert:hover {\n",
              "      background-color: #E2EBFA;\n",
              "      box-shadow: 0px 1px 2px rgba(60, 64, 67, 0.3), 0px 1px 3px 1px rgba(60, 64, 67, 0.15);\n",
              "      fill: #174EA6;\n",
              "    }\n",
              "\n",
              "    [theme=dark] .colab-df-convert {\n",
              "      background-color: #3B4455;\n",
              "      fill: #D2E3FC;\n",
              "    }\n",
              "\n",
              "    [theme=dark] .colab-df-convert:hover {\n",
              "      background-color: #434B5C;\n",
              "      box-shadow: 0px 1px 3px 1px rgba(0, 0, 0, 0.15);\n",
              "      filter: drop-shadow(0px 1px 2px rgba(0, 0, 0, 0.3));\n",
              "      fill: #FFFFFF;\n",
              "    }\n",
              "  </style>\n",
              "\n",
              "      <script>\n",
              "        const buttonEl =\n",
              "          document.querySelector('#df-73631ba9-5f5e-4fd8-9c37-81906a18f168 button.colab-df-convert');\n",
              "        buttonEl.style.display =\n",
              "          google.colab.kernel.accessAllowed ? 'block' : 'none';\n",
              "\n",
              "        async function convertToInteractive(key) {\n",
              "          const element = document.querySelector('#df-73631ba9-5f5e-4fd8-9c37-81906a18f168');\n",
              "          const dataTable =\n",
              "            await google.colab.kernel.invokeFunction('convertToInteractive',\n",
              "                                                     [key], {});\n",
              "          if (!dataTable) return;\n",
              "\n",
              "          const docLinkHtml = 'Like what you see? Visit the ' +\n",
              "            '<a target=\"_blank\" href=https://colab.research.google.com/notebooks/data_table.ipynb>data table notebook</a>'\n",
              "            + ' to learn more about interactive tables.';\n",
              "          element.innerHTML = '';\n",
              "          dataTable['output_type'] = 'display_data';\n",
              "          await google.colab.output.renderOutput(dataTable, element);\n",
              "          const docLink = document.createElement('div');\n",
              "          docLink.innerHTML = docLinkHtml;\n",
              "          element.appendChild(docLink);\n",
              "        }\n",
              "      </script>\n",
              "    </div>\n",
              "  </div>\n",
              "  "
            ]
          },
          "metadata": {},
          "execution_count": 41
        }
      ]
    },
    {
      "cell_type": "code",
      "source": [
        "df1 = df[df.Cluster==0]\n",
        "df2 = df[df.Cluster==1]\n",
        "df3 = df[df.Cluster==2]\n",
        "\n",
        "plt.scatter(df1.Age,df1['Income'],color='red')\n",
        "plt.scatter(df2.Age,df2['Income'],color='green')\n",
        "plt.scatter(df3.Age,df3['Income'],color='blue')\n",
        "\n",
        "plt.xlabel('Income')\n",
        "plt.ylabel('Age')"
      ],
      "metadata": {
        "colab": {
          "base_uri": "https://localhost:8080/",
          "height": 296
        },
        "id": "XWqiQyDLKJ2G",
        "outputId": "3fcded20-5898-41eb-a865-12e3435fd023"
      },
      "execution_count": 46,
      "outputs": [
        {
          "output_type": "execute_result",
          "data": {
            "text/plain": [
              "Text(0, 0.5, 'Age')"
            ]
          },
          "metadata": {},
          "execution_count": 46
        },
        {
          "output_type": "display_data",
          "data": {
            "text/plain": [
              "<Figure size 432x288 with 1 Axes>"
            ],
            "image/png": "[encoded data removed]"
          },
          "metadata": {
            "needs_background": "light"
          }
        }
      ]
    },
    {
      "cell_type": "code",
      "source": [
        "scaler = MinMaxScaler()\n",
        "scaler.fit(df[['Income']])\n",
        "df[['Income']] = scaler.transform(df[['Income']])\n",
        "scaler.fit(df[['Age']])\n",
        "df[['Age']] = scaler.transform(df[['Age']])\n",
        "df"
      ],
      "metadata": {
        "colab": {
          "base_uri": "https://localhost:8080/",
          "height": 739
        },
        "id": "kbZdidjxL-OP",
        "outputId": "1a6c8fb3-22c3-45c3-f6d4-aaef74e55b74"
      },
      "execution_count": 55,
      "outputs": [
        {
          "output_type": "execute_result",
          "data": {
            "text/plain": [
              "        Name       Age    Income  Cluster\n",
              "0        rob  0.058824  0.217391        2\n",
              "1    michael  0.176471  0.391304        2\n",
              "2      mohan  0.117647  0.139130        0\n",
              "3     ismail  0.941176  0.130435        0\n",
              "4       kory  0.764706  0.913043        1\n",
              "5     gautam  0.882353  0.956522        1\n",
              "6      david  0.705882  1.000000        1\n",
              "7     andrea  0.588235  0.965217        1\n",
              "8       brad  0.529412  0.739130        1\n",
              "9   angelina  0.647059  0.800000        1\n",
              "10    donald  0.000000  0.000000        0\n",
              "11       tom  0.058824  0.026087        0\n",
              "12    arnold  0.117647  0.052174        0\n",
              "13     jared  0.176471  0.039130        0\n",
              "14     stark  0.352941  0.069565        0\n",
              "15    ranbir  0.823529  0.173913        0\n",
              "16    dipika  0.882353  0.156522        0\n",
              "17  priyanka  1.000000  0.165217        0\n",
              "18      nick  0.764706  0.304348        2\n",
              "19      alia  0.882353  0.321739        2\n",
              "20      sid   0.764706  0.113043        0\n",
              "21     abdul  0.764706  0.113043        0"
            ],
            "text/html": [
              "\n",
              "  <div id=\"df-5dfc862c-9de6-411c-9f40-5f6de728cb49\">\n",
              "    <div class=\"colab-df-container\">\n",
              "      <div>\n",
              "<style scoped>\n",
              "    .dataframe tbody tr th:only-of-type {\n",
              "        vertical-align: middle;\n",
              "    }\n",
              "\n",
              "    .dataframe tbody tr th {\n",
              "        vertical-align: top;\n",
              "    }\n",
              "\n",
              "    .dataframe thead th {\n",
              "        text-align: right;\n",
              "    }\n",
              "</style>\n",
              "<table border=\"1\" class=\"dataframe\">\n",
              "  <thead>\n",
              "    <tr style=\"text-align: right;\">\n",
              "      <th></th>\n",
              "      <th>Name</th>\n",
              "      <th>Age</th>\n",
              "      <th>Income</th>\n",
              "      <th>Cluster</th>\n",
              "    </tr>\n",
              "  </thead>\n",
              "  <tbody>\n",
              "    <tr>\n",
              "      <th>0</th>\n",
              "      <td>rob</td>\n",
              "      <td>0.058824</td>\n",
              "      <td>0.217391</td>\n",
              "      <td>2</td>\n",
              "    </tr>\n",
              "    <tr>\n",
              "      <th>1</th>\n",
              "      <td>michael</td>\n",
              "      <td>0.176471</td>\n",
              "      <td>0.391304</td>\n",
              "      <td>2</td>\n",
              "    </tr>\n",
              "    <tr>\n",
              "      <th>2</th>\n",
              "      <td>mohan</td>\n",
              "      <td>0.117647</td>\n",
              "      <td>0.139130</td>\n",
              "      <td>0</td>\n",
              "    </tr>\n",
              "    <tr>\n",
              "      <th>3</th>\n",
              "      <td>ismail</td>\n",
              "      <td>0.941176</td>\n",
              "      <td>0.130435</td>\n",
              "      <td>0</td>\n",
              "    </tr>\n",
              "    <tr>\n",
              "      <th>4</th>\n",
              "      <td>kory</td>\n",
              "      <td>0.764706</td>\n",
              "      <td>0.913043</td>\n",
              "      <td>1</td>\n",
              "    </tr>\n",
              "    <tr>\n",
              "      <th>5</th>\n",
              "      <td>gautam</td>\n",
              "      <td>0.882353</td>\n",
              "      <td>0.956522</td>\n",
              "      <td>1</td>\n",
              "    </tr>\n",
              "    <tr>\n",
              "      <th>6</th>\n",
              "      <td>david</td>\n",
              "      <td>0.705882</td>\n",
              "      <td>1.000000</td>\n",
              "      <td>1</td>\n",
              "    </tr>\n",
              "    <tr>\n",
              "      <th>7</th>\n",
              "      <td>andrea</td>\n",
              "      <td>0.588235</td>\n",
              "      <td>0.965217</td>\n",
              "      <td>1</td>\n",
              "    </tr>\n",
              "    <tr>\n",
              "      <th>8</th>\n",
              "      <td>brad</td>\n",
              "      <td>0.529412</td>\n",
              "      <td>0.739130</td>\n",
              "      <td>1</td>\n",
              "    </tr>\n",
              "    <tr>\n",
              "      <th>9</th>\n",
              "      <td>angelina</td>\n",
              "      <td>0.647059</td>\n",
              "      <td>0.800000</td>\n",
              "      <td>1</td>\n",
              "    </tr>\n",
              "    <tr>\n",
              "      <th>10</th>\n",
              "      <td>donald</td>\n",
              "      <td>0.000000</td>\n",
              "      <td>0.000000</td>\n",
              "      <td>0</td>\n",
              "    </tr>\n",
              "    <tr>\n",
              "      <th>11</th>\n",
              "      <td>tom</td>\n",
              "      <td>0.058824</td>\n",
              "      <td>0.026087</td>\n",
              "      <td>0</td>\n",
              "    </tr>\n",
              "    <tr>\n",
              "      <th>12</th>\n",
              "      <td>arnold</td>\n",
              "      <td>0.117647</td>\n",
              "      <td>0.052174</td>\n",
              "      <td>0</td>\n",
              "    </tr>\n",
              "    <tr>\n",
              "      <th>13</th>\n",
              "      <td>jared</td>\n",
              "      <td>0.176471</td>\n",
              "      <td>0.039130</td>\n",
              "      <td>0</td>\n",
              "    </tr>\n",
              "    <tr>\n",
              "      <th>14</th>\n",
              "      <td>stark</td>\n",
              "      <td>0.352941</td>\n",
              "      <td>0.069565</td>\n",
              "      <td>0</td>\n",
              "    </tr>\n",
              "    <tr>\n",
              "      <th>15</th>\n",
              "      <td>ranbir</td>\n",
              "      <td>0.823529</td>\n",
              "      <td>0.173913</td>\n",
              "      <td>0</td>\n",
              "    </tr>\n",
              "    <tr>\n",
              "      <th>16</th>\n",
              "      <td>dipika</td>\n",
              "      <td>0.882353</td>\n",
              "      <td>0.156522</td>\n",
              "      <td>0</td>\n",
              "    </tr>\n",
              "    <tr>\n",
              "      <th>17</th>\n",
              "      <td>priyanka</td>\n",
              "      <td>1.000000</td>\n",
              "      <td>0.165217</td>\n",
              "      <td>0</td>\n",
              "    </tr>\n",
              "    <tr>\n",
              "      <th>18</th>\n",
              "      <td>nick</td>\n",
              "      <td>0.764706</td>\n",
              "      <td>0.304348</td>\n",
              "      <td>2</td>\n",
              "    </tr>\n",
              "    <tr>\n",
              "      <th>19</th>\n",
              "      <td>alia</td>\n",
              "      <td>0.882353</td>\n",
              "      <td>0.321739</td>\n",
              "      <td>2</td>\n",
              "    </tr>\n",
              "    <tr>\n",
              "      <th>20</th>\n",
              "      <td>sid</td>\n",
              "      <td>0.764706</td>\n",
              "      <td>0.113043</td>\n",
              "      <td>0</td>\n",
              "    </tr>\n",
              "    <tr>\n",
              "      <th>21</th>\n",
              "      <td>abdul</td>\n",
              "      <td>0.764706</td>\n",
              "      <td>0.113043</td>\n",
              "      <td>0</td>\n",
              "    </tr>\n",
              "  </tbody>\n",
              "</table>\n",
              "</div>\n",
              "      <button class=\"colab-df-convert\" onclick=\"convertToInteractive('df-5dfc862c-9de6-411c-9f40-5f6de728cb49')\"\n",
              "              title=\"Convert this dataframe to an interactive table.\"\n",
              "              style=\"display:none;\">\n",
              "        \n",
              "  <svg xmlns=\"http://www.w3.org/2000/svg\" height=\"24px\"viewBox=\"0 0 24 24\"\n",
              "       width=\"24px\">\n",
              "    <path d=\"M0 0h24v24H0V0z\" fill=\"none\"/>\n",
              "    <path d=\"M18.56 5.44l.94 2.06.94-2.06 2.06-.94-2.06-.94-.94-2.06-.94 2.06-2.06.94zm-11 1L8.5 8.5l.94-2.06 2.06-.94-2.06-.94L8.5 2.5l-.94 2.06-2.06.94zm10 10l.94 2.06.94-2.06 2.06-.94-2.06-.94-.94-2.06-.94 2.06-2.06.94z\"/><path d=\"M17.41 7.96l-1.37-1.37c-.4-.4-.92-.59-1.43-.59-.52 0-1.04.2-1.43.59L10.3 9.45l-7.72 7.72c-.78.78-.78 2.05 0 2.83L4 21.41c.39.39.9.59 1.41.59.51 0 1.02-.2 1.41-.59l7.78-7.78 2.81-2.81c.8-.78.8-2.07 0-2.86zM5.41 20L4 18.59l7.72-7.72 1.47 1.35L5.41 20z\"/>\n",
              "  </svg>\n",
              "      </button>\n",
              "      \n",
              "  <style>\n",
              "    .colab-df-container {\n",
              "      display:flex;\n",
              "      flex-wrap:wrap;\n",
              "      gap: 12px;\n",
              "    }\n",
              "\n",
              "    .colab-df-convert {\n",
              "      background-color: #E8F0FE;\n",
              "      border: none;\n",
              "      border-radius: 50%;\n",
              "      cursor: pointer;\n",
              "      display: none;\n",
              "      fill: #1967D2;\n",
              "      height: 32px;\n",
              "      padding: 0 0 0 0;\n",
              "      width: 32px;\n",
              "    }\n",
              "\n",
              "    .colab-df-convert:hover {\n",
              "      background-color: #E2EBFA;\n",
              "      box-shadow: 0px 1px 2px rgba(60, 64, 67, 0.3), 0px 1px 3px 1px rgba(60, 64, 67, 0.15);\n",
              "      fill: #174EA6;\n",
              "    }\n",
              "\n",
              "    [theme=dark] .colab-df-convert {\n",
              "      background-color: #3B4455;\n",
              "      fill: #D2E3FC;\n",
              "    }\n",
              "\n",
              "    [theme=dark] .colab-df-convert:hover {\n",
              "      background-color: #434B5C;\n",
              "      box-shadow: 0px 1px 3px 1px rgba(0, 0, 0, 0.15);\n",
              "      filter: drop-shadow(0px 1px 2px rgba(0, 0, 0, 0.3));\n",
              "      fill: #FFFFFF;\n",
              "    }\n",
              "  </style>\n",
              "\n",
              "      <script>\n",
              "        const buttonEl =\n",
              "          document.querySelector('#df-5dfc862c-9de6-411c-9f40-5f6de728cb49 button.colab-df-convert');\n",
              "        buttonEl.style.display =\n",
              "          google.colab.kernel.accessAllowed ? 'block' : 'none';\n",
              "\n",
              "        async function convertToInteractive(key) {\n",
              "          const element = document.querySelector('#df-5dfc862c-9de6-411c-9f40-5f6de728cb49');\n",
              "          const dataTable =\n",
              "            await google.colab.kernel.invokeFunction('convertToInteractive',\n",
              "                                                     [key], {});\n",
              "          if (!dataTable) return;\n",
              "\n",
              "          const docLinkHtml = 'Like what you see? Visit the ' +\n",
              "            '<a target=\"_blank\" href=https://colab.research.google.com/notebooks/data_table.ipynb>data table notebook</a>'\n",
              "            + ' to learn more about interactive tables.';\n",
              "          element.innerHTML = '';\n",
              "          dataTable['output_type'] = 'display_data';\n",
              "          await google.colab.output.renderOutput(dataTable, element);\n",
              "          const docLink = document.createElement('div');\n",
              "          docLink.innerHTML = docLinkHtml;\n",
              "          element.appendChild(docLink);\n",
              "        }\n",
              "      </script>\n",
              "    </div>\n",
              "  </div>\n",
              "  "
            ]
          },
          "metadata": {},
          "execution_count": 55
        }
      ]
    },
    {
      "cell_type": "code",
      "source": [
        "km = KMeans(n_clusters=3)\n",
        "y_predict = km.fit_predict(df[['Age','Income']])\n",
        "y_predict"
      ],
      "metadata": {
        "colab": {
          "base_uri": "https://localhost:8080/"
        },
        "id": "GQRIzrglMoZO",
        "outputId": "faf26559-d956-4a11-f87a-07dfbdba7bd9"
      },
      "execution_count": 58,
      "outputs": [
        {
          "output_type": "execute_result",
          "data": {
            "text/plain": [
              "array([2, 2, 2, 1, 0, 0, 0, 0, 0, 0, 2, 2, 2, 2, 2, 1, 1, 1, 1, 1, 1, 1],\n",
              "      dtype=int32)"
            ]
          },
          "metadata": {},
          "execution_count": 58
        }
      ]
    },
    {
      "cell_type": "code",
      "source": [
        "df.drop('Cluster',axis = 'columns',inplace =True)\n",
        "df['Cluster']=y_predict\n",
        "df"
      ],
      "metadata": {
        "colab": {
          "base_uri": "https://localhost:8080/",
          "height": 739
        },
        "id": "C3k0zqKVOX1u",
        "outputId": "962485da-d265-4dd8-8191-67779a7d1534"
      },
      "execution_count": 63,
      "outputs": [
        {
          "output_type": "execute_result",
          "data": {
            "text/plain": [
              "        Name       Age    Income  Cluster\n",
              "0        rob  0.058824  0.217391        2\n",
              "1    michael  0.176471  0.391304        2\n",
              "2      mohan  0.117647  0.139130        2\n",
              "3     ismail  0.941176  0.130435        1\n",
              "4       kory  0.764706  0.913043        0\n",
              "5     gautam  0.882353  0.956522        0\n",
              "6      david  0.705882  1.000000        0\n",
              "7     andrea  0.588235  0.965217        0\n",
              "8       brad  0.529412  0.739130        0\n",
              "9   angelina  0.647059  0.800000        0\n",
              "10    donald  0.000000  0.000000        2\n",
              "11       tom  0.058824  0.026087        2\n",
              "12    arnold  0.117647  0.052174        2\n",
              "13     jared  0.176471  0.039130        2\n",
              "14     stark  0.352941  0.069565        2\n",
              "15    ranbir  0.823529  0.173913        1\n",
              "16    dipika  0.882353  0.156522        1\n",
              "17  priyanka  1.000000  0.165217        1\n",
              "18      nick  0.764706  0.304348        1\n",
              "19      alia  0.882353  0.321739        1\n",
              "20      sid   0.764706  0.113043        1\n",
              "21     abdul  0.764706  0.113043        1"
            ],
            "text/html": [
              "\n",
              "  <div id=\"df-d3b0b322-eeba-40c4-a041-c99117901439\">\n",
              "    <div class=\"colab-df-container\">\n",
              "      <div>\n",
              "<style scoped>\n",
              "    .dataframe tbody tr th:only-of-type {\n",
              "        vertical-align: middle;\n",
              "    }\n",
              "\n",
              "    .dataframe tbody tr th {\n",
              "        vertical-align: top;\n",
              "    }\n",
              "\n",
              "    .dataframe thead th {\n",
              "        text-align: right;\n",
              "    }\n",
              "</style>\n",
              "<table border=\"1\" class=\"dataframe\">\n",
              "  <thead>\n",
              "    <tr style=\"text-align: right;\">\n",
              "      <th></th>\n",
              "      <th>Name</th>\n",
              "      <th>Age</th>\n",
              "      <th>Income</th>\n",
              "      <th>Cluster</th>\n",
              "    </tr>\n",
              "  </thead>\n",
              "  <tbody>\n",
              "    <tr>\n",
              "      <th>0</th>\n",
              "      <td>rob</td>\n",
              "      <td>0.058824</td>\n",
              "      <td>0.217391</td>\n",
              "      <td>2</td>\n",
              "    </tr>\n",
              "    <tr>\n",
              "      <th>1</th>\n",
              "      <td>michael</td>\n",
              "      <td>0.176471</td>\n",
              "      <td>0.391304</td>\n",
              "      <td>2</td>\n",
              "    </tr>\n",
              "    <tr>\n",
              "      <th>2</th>\n",
              "      <td>mohan</td>\n",
              "      <td>0.117647</td>\n",
              "      <td>0.139130</td>\n",
              "      <td>2</td>\n",
              "    </tr>\n",
              "    <tr>\n",
              "      <th>3</th>\n",
              "      <td>ismail</td>\n",
              "      <td>0.941176</td>\n",
              "      <td>0.130435</td>\n",
              "      <td>1</td>\n",
              "    </tr>\n",
              "    <tr>\n",
              "      <th>4</th>\n",
              "      <td>kory</td>\n",
              "      <td>0.764706</td>\n",
              "      <td>0.913043</td>\n",
              "      <td>0</td>\n",
              "    </tr>\n",
              "    <tr>\n",
              "      <th>5</th>\n",
              "      <td>gautam</td>\n",
              "      <td>0.882353</td>\n",
              "      <td>0.956522</td>\n",
              "      <td>0</td>\n",
              "    </tr>\n",
              "    <tr>\n",
              "      <th>6</th>\n",
              "      <td>david</td>\n",
              "      <td>0.705882</td>\n",
              "      <td>1.000000</td>\n",
              "      <td>0</td>\n",
              "    </tr>\n",
              "    <tr>\n",
              "      <th>7</th>\n",
              "      <td>andrea</td>\n",
              "      <td>0.588235</td>\n",
              "      <td>0.965217</td>\n",
              "      <td>0</td>\n",
              "    </tr>\n",
              "    <tr>\n",
              "      <th>8</th>\n",
              "      <td>brad</td>\n",
              "      <td>0.529412</td>\n",
              "      <td>0.739130</td>\n",
              "      <td>0</td>\n",
              "    </tr>\n",
              "    <tr>\n",
              "      <th>9</th>\n",
              "      <td>angelina</td>\n",
              "      <td>0.647059</td>\n",
              "      <td>0.800000</td>\n",
              "      <td>0</td>\n",
              "    </tr>\n",
              "    <tr>\n",
              "      <th>10</th>\n",
              "      <td>donald</td>\n",
              "      <td>0.000000</td>\n",
              "      <td>0.000000</td>\n",
              "      <td>2</td>\n",
              "    </tr>\n",
              "    <tr>\n",
              "      <th>11</th>\n",
              "      <td>tom</td>\n",
              "      <td>0.058824</td>\n",
              "      <td>0.026087</td>\n",
              "      <td>2</td>\n",
              "    </tr>\n",
              "    <tr>\n",
              "      <th>12</th>\n",
              "      <td>arnold</td>\n",
              "      <td>0.117647</td>\n",
              "      <td>0.052174</td>\n",
              "      <td>2</td>\n",
              "    </tr>\n",
              "    <tr>\n",
              "      <th>13</th>\n",
              "      <td>jared</td>\n",
              "      <td>0.176471</td>\n",
              "      <td>0.039130</td>\n",
              "      <td>2</td>\n",
              "    </tr>\n",
              "    <tr>\n",
              "      <th>14</th>\n",
              "      <td>stark</td>\n",
              "      <td>0.352941</td>\n",
              "      <td>0.069565</td>\n",
              "      <td>2</td>\n",
              "    </tr>\n",
              "    <tr>\n",
              "      <th>15</th>\n",
              "      <td>ranbir</td>\n",
              "      <td>0.823529</td>\n",
              "      <td>0.173913</td>\n",
              "      <td>1</td>\n",
              "    </tr>\n",
              "    <tr>\n",
              "      <th>16</th>\n",
              "      <td>dipika</td>\n",
              "      <td>0.882353</td>\n",
              "      <td>0.156522</td>\n",
              "      <td>1</td>\n",
              "    </tr>\n",
              "    <tr>\n",
              "      <th>17</th>\n",
              "      <td>priyanka</td>\n",
              "      <td>1.000000</td>\n",
              "      <td>0.165217</td>\n",
              "      <td>1</td>\n",
              "    </tr>\n",
              "    <tr>\n",
              "      <th>18</th>\n",
              "      <td>nick</td>\n",
              "      <td>0.764706</td>\n",
              "      <td>0.304348</td>\n",
              "      <td>1</td>\n",
              "    </tr>\n",
              "    <tr>\n",
              "      <th>19</th>\n",
              "      <td>alia</td>\n",
              "      <td>0.882353</td>\n",
              "      <td>0.321739</td>\n",
              "      <td>1</td>\n",
              "    </tr>\n",
              "    <tr>\n",
              "      <th>20</th>\n",
              "      <td>sid</td>\n",
              "      <td>0.764706</td>\n",
              "      <td>0.113043</td>\n",
              "      <td>1</td>\n",
              "    </tr>\n",
              "    <tr>\n",
              "      <th>21</th>\n",
              "      <td>abdul</td>\n",
              "      <td>0.764706</td>\n",
              "      <td>0.113043</td>\n",
              "      <td>1</td>\n",
              "    </tr>\n",
              "  </tbody>\n",
              "</table>\n",
              "</div>\n",
              "      <button class=\"colab-df-convert\" onclick=\"convertToInteractive('df-d3b0b322-eeba-40c4-a041-c99117901439')\"\n",
              "              title=\"Convert this dataframe to an interactive table.\"\n",
              "              style=\"display:none;\">\n",
              "        \n",
              "  <svg xmlns=\"http://www.w3.org/2000/svg\" height=\"24px\"viewBox=\"0 0 24 24\"\n",
              "       width=\"24px\">\n",
              "    <path d=\"M0 0h24v24H0V0z\" fill=\"none\"/>\n",
              "    <path d=\"M18.56 5.44l.94 2.06.94-2.06 2.06-.94-2.06-.94-.94-2.06-.94 2.06-2.06.94zm-11 1L8.5 8.5l.94-2.06 2.06-.94-2.06-.94L8.5 2.5l-.94 2.06-2.06.94zm10 10l.94 2.06.94-2.06 2.06-.94-2.06-.94-.94-2.06-.94 2.06-2.06.94z\"/><path d=\"M17.41 7.96l-1.37-1.37c-.4-.4-.92-.59-1.43-.59-.52 0-1.04.2-1.43.59L10.3 9.45l-7.72 7.72c-.78.78-.78 2.05 0 2.83L4 21.41c.39.39.9.59 1.41.59.51 0 1.02-.2 1.41-.59l7.78-7.78 2.81-2.81c.8-.78.8-2.07 0-2.86zM5.41 20L4 18.59l7.72-7.72 1.47 1.35L5.41 20z\"/>\n",
              "  </svg>\n",
              "      </button>\n",
              "      \n",
              "  <style>\n",
              "    .colab-df-container {\n",
              "      display:flex;\n",
              "      flex-wrap:wrap;\n",
              "      gap: 12px;\n",
              "    }\n",
              "\n",
              "    .colab-df-convert {\n",
              "      background-color: #E8F0FE;\n",
              "      border: none;\n",
              "      border-radius: 50%;\n",
              "      cursor: pointer;\n",
              "      display: none;\n",
              "      fill: #1967D2;\n",
              "      height: 32px;\n",
              "      padding: 0 0 0 0;\n",
              "      width: 32px;\n",
              "    }\n",
              "\n",
              "    .colab-df-convert:hover {\n",
              "      background-color: #E2EBFA;\n",
              "      box-shadow: 0px 1px 2px rgba(60, 64, 67, 0.3), 0px 1px 3px 1px rgba(60, 64, 67, 0.15);\n",
              "      fill: #174EA6;\n",
              "    }\n",
              "\n",
              "    [theme=dark] .colab-df-convert {\n",
              "      background-color: #3B4455;\n",
              "      fill: #D2E3FC;\n",
              "    }\n",
              "\n",
              "    [theme=dark] .colab-df-convert:hover {\n",
              "      background-color: #434B5C;\n",
              "      box-shadow: 0px 1px 3px 1px rgba(0, 0, 0, 0.15);\n",
              "      filter: drop-shadow(0px 1px 2px rgba(0, 0, 0, 0.3));\n",
              "      fill: #FFFFFF;\n",
              "    }\n",
              "  </style>\n",
              "\n",
              "      <script>\n",
              "        const buttonEl =\n",
              "          document.querySelector('#df-d3b0b322-eeba-40c4-a041-c99117901439 button.colab-df-convert');\n",
              "        buttonEl.style.display =\n",
              "          google.colab.kernel.accessAllowed ? 'block' : 'none';\n",
              "\n",
              "        async function convertToInteractive(key) {\n",
              "          const element = document.querySelector('#df-d3b0b322-eeba-40c4-a041-c99117901439');\n",
              "          const dataTable =\n",
              "            await google.colab.kernel.invokeFunction('convertToInteractive',\n",
              "                                                     [key], {});\n",
              "          if (!dataTable) return;\n",
              "\n",
              "          const docLinkHtml = 'Like what you see? Visit the ' +\n",
              "            '<a target=\"_blank\" href=https://colab.research.google.com/notebooks/data_table.ipynb>data table notebook</a>'\n",
              "            + ' to learn more about interactive tables.';\n",
              "          element.innerHTML = '';\n",
              "          dataTable['output_type'] = 'display_data';\n",
              "          await google.colab.output.renderOutput(dataTable, element);\n",
              "          const docLink = document.createElement('div');\n",
              "          docLink.innerHTML = docLinkHtml;\n",
              "          element.appendChild(docLink);\n",
              "        }\n",
              "      </script>\n",
              "    </div>\n",
              "  </div>\n",
              "  "
            ]
          },
          "metadata": {},
          "execution_count": 63
        }
      ]
    },
    {
      "cell_type": "code",
      "source": [
        "df1 = df[df.Cluster==0]\n",
        "df2 = df[df.Cluster==1]\n",
        "df3 = df[df.Cluster==2]\n",
        "\n",
        "plt.scatter(df1.Age,df1['Income'],color='red')\n",
        "plt.scatter(df2.Age,df2['Income'],color='green')\n",
        "plt.scatter(df3.Age,df3['Income'],color='blue')\n",
        "plt.scatter(km.cluster_centers_[:,0],km.cluster_centers_[:,1],color = 'purple',marker='*')\n",
        "\n",
        "plt.xlabel('Income')\n",
        "plt.ylabel('Age')"
      ],
      "metadata": {
        "colab": {
          "base_uri": "https://localhost:8080/",
          "height": 296
        },
        "id": "dv-3xLtCO_OH",
        "outputId": "60a10eab-ff4c-40c8-84b6-dcdd6a52c69c"
      },
      "execution_count": 68,
      "outputs": [
        {
          "output_type": "execute_result",
          "data": {
            "text/plain": [
              "Text(0, 0.5, 'Age')"
            ]
          },
          "metadata": {},
          "execution_count": 68
        },
        {
          "output_type": "display_data",
          "data": {
            "text/plain": [
              "<Figure size 432x288 with 1 Axes>"
            ],
            "image/png": "[encoded data removed]"
          },
          "metadata": {
            "needs_background": "light"
          }
        }
      ]
    },
    {
      "cell_type": "code",
      "source": [
        "# Centroids\n",
        "km.cluster_centers_"
      ],
      "metadata": {
        "colab": {
          "base_uri": "https://localhost:8080/"
        },
        "id": "nrvvCUt5PW_G",
        "outputId": "6bf623ce-8e00-4f09-8936-941205aa6f6f"
      },
      "execution_count": 66,
      "outputs": [
        {
          "output_type": "execute_result",
          "data": {
            "text/plain": [
              "array([[0.68627451, 0.89565217],\n",
              "       [0.85294118, 0.18478261],\n",
              "       [0.13235294, 0.11684783]])"
            ]
          },
          "metadata": {},
          "execution_count": 66
        }
      ]
    },
    {
      "cell_type": "code",
      "source": [
        "krange = range(1,10)\n",
        "sse = []\n",
        "for k in krange:\n",
        "  km = KMeans(n_clusters = k)\n",
        "  km.fit(df[['Age','Income']])\n",
        "  sse.append(km.inertia_)"
      ],
      "metadata": {
        "id": "fS20aS6_Pke-"
      },
      "execution_count": 89,
      "outputs": []
    },
    {
      "cell_type": "code",
      "source": [
        "sse"
      ],
      "metadata": {
        "colab": {
          "base_uri": "https://localhost:8080/"
        },
        "id": "zwcd1eFoRAGW",
        "outputId": "d39a0497-8a89-44de-b27a-4b240bdfb548"
      },
      "execution_count": 90,
      "outputs": [
        {
          "output_type": "execute_result",
          "data": {
            "text/plain": [
              "[5.1185976882792374,\n",
              " 2.2664976412559907,\n",
              " 0.43868055600979416,\n",
              " 0.3443538547410514,\n",
              " 0.26445310404824673,\n",
              " 0.21827736387560698,\n",
              " 0.16984712510601926,\n",
              " 0.12481223086365648,\n",
              " 0.09722760949147813]"
            ]
          },
          "metadata": {},
          "execution_count": 90
        }
      ]
    },
    {
      "cell_type": "code",
      "source": [
        "plt.xlabel('K')\n",
        "plt.ylabel('Sum Of Squared Error')\n",
        "plt.plot(krange,sse)"
      ],
      "metadata": {
        "colab": {
          "base_uri": "https://localhost:8080/",
          "height": 296
        },
        "id": "8ANzel_YRJRe",
        "outputId": "0106e29c-b3a8-48ee-a216-6d0915a8ccb7"
      },
      "execution_count": 91,
      "outputs": [
        {
          "output_type": "execute_result",
          "data": {
            "text/plain": [
              "[<matplotlib.lines.Line2D at 0x7f37d8cb24c0>]"
            ]
          },
          "metadata": {},
          "execution_count": 91
        },
        {
          "output_type": "display_data",
          "data": {
            "text/plain": [
              "<Figure size 432x288 with 1 Axes>"
            ],
            "image/png": "[encoded data removed]"
          },
          "metadata": {
            "needs_background": "light"
          }
        }
      ]
    }
  ]
}